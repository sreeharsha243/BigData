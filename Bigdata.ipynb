{
  "cells": [
    {
      "cell_type": "markdown",
      "metadata": {
        "id": "view-in-github",
        "colab_type": "text"
      },
      "source": [
        "<a href=\"https://colab.research.google.com/github/sreeharsha243/BigData/blob/main/Bigdata.ipynb\" target=\"_parent\"><img src=\"https://colab.research.google.com/assets/colab-badge.svg\" alt=\"Open In Colab\"/></a>"
      ]
    },
    {
      "cell_type": "code",
      "execution_count": null,
      "metadata": {
        "colab": {
          "base_uri": "https://localhost:8080/"
        },
        "id": "7W6NDY47EfzU",
        "outputId": "f39d681c-7f95-40bf-ffc6-24742ba94653"
      },
      "outputs": [
        {
          "data": {
            "text/plain": [
              "['ashwin', 'Jadeja', 'rahul', 'rohit', 'virat']"
            ]
          },
          "execution_count": 7,
          "metadata": {},
          "output_type": "execute_result"
        }
      ],
      "source": [
        "# DAY-01\n",
        "\n",
        "#create a list of cricket player names and sort them\n",
        "\n",
        "cplayers=[\"virat\",\"rahul\",\"ashwin\",\"rohit\",\"Jadeja\"]\n",
        "splayers=sorted(cplayers,key=lambda arg:arg.lower())\n",
        "splayers\n"
      ]
    },
    {
      "cell_type": "code",
      "execution_count": null,
      "metadata": {
        "colab": {
          "base_uri": "https://localhost:8080/"
        },
        "id": "TzzeICNMIHLX",
        "outputId": "9a770414-bf65-46e7-a187-8f90fc6cb0fa"
      },
      "outputs": [
        {
          "data": {
            "text/plain": [
              "['rahul', 'ashwin', 'rohit']"
            ]
          },
          "execution_count": 9,
          "metadata": {},
          "output_type": "execute_result"
        }
      ],
      "source": [
        "#list the players whose name contain 'h'\n",
        "\n",
        "list(filter(lambda arg:'h' in arg,cplayers))"
      ]
    },
    {
      "cell_type": "code",
      "execution_count": null,
      "metadata": {
        "colab": {
          "base_uri": "https://localhost:8080/"
        },
        "id": "rPsNNE0II-x_",
        "outputId": "4ba57a1b-cc27-4db7-cd57-f78bc9425df3"
      },
      "outputs": [
        {
          "data": {
            "text/plain": [
              "['ashwin', 'Jadeja']"
            ]
          },
          "execution_count": 12,
          "metadata": {},
          "output_type": "execute_result"
        }
      ],
      "source": [
        "#list the players whose name length is >5\n",
        "\n",
        "list(filter(lambda arg:len(arg)>5,cplayers))"
      ]
    },
    {
      "cell_type": "code",
      "execution_count": null,
      "metadata": {
        "colab": {
          "base_uri": "https://localhost:8080/"
        },
        "id": "iMhpbtpJJpu3",
        "outputId": "e2cbc486-485a-498b-8ab0-79746c31733b"
      },
      "outputs": [
        {
          "data": {
            "text/plain": [
              "['VIRAT', 'RAHUL', 'ASHWIN', 'ROHIT', 'JADEJA']"
            ]
          },
          "execution_count": 14,
          "metadata": {},
          "output_type": "execute_result"
        }
      ],
      "source": [
        "#map each case to upper case\n",
        "\n",
        "list(map(lambda item:item.upper(),cplayers))"
      ]
    },
    {
      "cell_type": "code",
      "execution_count": null,
      "metadata": {
        "colab": {
          "base_uri": "https://localhost:8080/"
        },
        "id": "X5PWU6OuKJIo",
        "outputId": "2049065b-8588-4a2d-c37f-4b3cdc7dca51"
      },
      "outputs": [
        {
          "data": {
            "text/plain": [
              "[('virat', 5), ('rahul', 5), ('ashwin', 6), ('rohit', 5), ('Jadeja', 6)]"
            ]
          },
          "execution_count": 15,
          "metadata": {},
          "output_type": "execute_result"
        }
      ],
      "source": [
        "#map each name to (name,length)\n",
        "#virat ->(virat,5)\n",
        "\n",
        "list(map(lambda name:(name,len(name)),cplayers))"
      ]
    },
    {
      "cell_type": "code",
      "execution_count": null,
      "metadata": {
        "colab": {
          "base_uri": "https://localhost:8080/",
          "height": 36
        },
        "id": "mEM4wGhJKkuf",
        "outputId": "7070b676-5da9-42e6-d03a-9b66a92fba97"
      },
      "outputs": [
        {
          "data": {
            "application/vnd.google.colaboratory.intrinsic+json": {
              "type": "string"
            },
            "text/plain": [
              "'viratrahulashwinrohitJadeja'"
            ]
          },
          "execution_count": 16,
          "metadata": {},
          "output_type": "execute_result"
        }
      ],
      "source": [
        "#Reduce all cricket players names to a single string\n",
        "\n",
        "from functools import reduce\n",
        "reduce(lambda a,b:a+b,cplayers)"
      ]
    },
    {
      "cell_type": "code",
      "execution_count": null,
      "metadata": {
        "colab": {
          "base_uri": "https://localhost:8080/"
        },
        "id": "q5MXUUqTLNXh",
        "outputId": "185beca6-3924-4949-f951-c10e1c8e57f5"
      },
      "outputs": [
        {
          "data": {
            "text/plain": [
              "6"
            ]
          },
          "execution_count": 17,
          "metadata": {},
          "output_type": "execute_result"
        }
      ],
      "source": [
        "l1=[1,3,5,2,6]\n",
        "reduce(max,l1)"
      ]
    },
    {
      "cell_type": "code",
      "execution_count": null,
      "metadata": {
        "colab": {
          "base_uri": "https://localhost:8080/"
        },
        "id": "NO8MTqTcLWgh",
        "outputId": "48355b11-c314-470c-d71c-e17d006bd0c8"
      },
      "outputs": [
        {
          "name": "stdout",
          "output_type": "stream",
          "text": [
            "[(6, 'ashwin'), (6, 'Jadeja'), (5, 'virat'), (5, 'rohit'), (5, 'rahul')]\n",
            "[(6, 'ashwin'), (6, 'Jadeja')]\n",
            "[('ashwin', 6), ('Jadeja', 6)]\n",
            "[('Jadeja', 6), ('ashwin', 6)]\n",
            "Jadeja\n"
          ]
        }
      ],
      "source": [
        "#Find the cricket player with maximum length\n",
        "\n",
        "l1=list(map(lambda name:(len(name),name),cplayers))\n",
        "l1.sort(reverse=True)\n",
        "print(l1)\n",
        "l2=list(filter(lambda x:(x[0]==l1[0][0]),l1))\n",
        "print(l2)\n",
        "l3=list(map(lambda w:(w[1],w[0]),l2))\n",
        "print(l3)\n",
        "l3.sort()\n",
        "print(l3)\n",
        "print(l3[0][0])\n",
        "\n"
      ]
    },
    {
      "cell_type": "code",
      "execution_count": null,
      "metadata": {
        "colab": {
          "base_uri": "https://localhost:8080/"
        },
        "id": "8aiYBgOWWhrM",
        "outputId": "49908dfc-f276-476c-8773-cdc0012ae41d"
      },
      "outputs": [
        {
          "name": "stdout",
          "output_type": "stream",
          "text": [
            "Collecting pyspark\n",
            "  Downloading pyspark-3.4.1.tar.gz (310.8 MB)\n",
            "\u001b[2K     \u001b[90m━━━━━━━━━━━━━━━━━━━━━━━━━━━━━━━━━━━━━━━\u001b[0m \u001b[32m310.8/310.8 MB\u001b[0m \u001b[31m4.8 MB/s\u001b[0m eta \u001b[36m0:00:00\u001b[0m\n",
            "\u001b[?25h  Preparing metadata (setup.py) ... \u001b[?25l\u001b[?25hdone\n",
            "Requirement already satisfied: py4j==0.10.9.7 in /usr/local/lib/python3.10/dist-packages (from pyspark) (0.10.9.7)\n",
            "Building wheels for collected packages: pyspark\n",
            "  Building wheel for pyspark (setup.py) ... \u001b[?25l\u001b[?25hdone\n",
            "  Created wheel for pyspark: filename=pyspark-3.4.1-py2.py3-none-any.whl size=311285388 sha256=5ce7893ff656a851757320759f5d133fd7c16a27097a3d94d9165e391ab18efa\n",
            "  Stored in directory: /root/.cache/pip/wheels/0d/77/a3/ff2f74cc9ab41f8f594dabf0579c2a7c6de920d584206e0834\n",
            "Successfully built pyspark\n",
            "Installing collected packages: pyspark\n",
            "Successfully installed pyspark-3.4.1\n"
          ]
        }
      ],
      "source": [
        "# INTERACTIVE PTYHON NOTEBOOK\n",
        "# DAY-02\n",
        "#python install packager\n",
        "# ! define as python as commands\n",
        "\n",
        "!pip install pyspark\n",
        "\n"
      ]
    },
    {
      "cell_type": "code",
      "execution_count": null,
      "metadata": {
        "id": "TOMEmt72aDdf"
      },
      "outputs": [],
      "source": [
        "from pyspark import SparkContext\n",
        "sc=SparkContext.getOrCreate()\n"
      ]
    },
    {
      "cell_type": "code",
      "execution_count": null,
      "metadata": {
        "colab": {
          "base_uri": "https://localhost:8080/"
        },
        "id": "0_oEokRfdYWv",
        "outputId": "025d0f98-2984-4911-9e1e-9dfd8bfe1ac2"
      },
      "outputs": [
        {
          "name": "stdout",
          "output_type": "stream",
          "text": [
            "[0, 1, 2, 3, 4, 5, 6, 7, 8, 9, 10, 11, 12, 13, 14]\n"
          ]
        }
      ],
      "source": [
        "# range(1000) means 0,1,2,3,.....,999\n",
        "\n",
        "rdd=sc.parallelize(range(1000))\n",
        "print(rdd.take(15))"
      ]
    },
    {
      "cell_type": "code",
      "execution_count": null,
      "metadata": {
        "colab": {
          "base_uri": "https://localhost:8080/"
        },
        "id": "WXL6gZ-KeNm9",
        "outputId": "3c779586-41f7-482e-8a6b-85ba80d1cfb1"
      },
      "outputs": [
        {
          "name": "stdout",
          "output_type": "stream",
          "text": [
            "[1, 3, 5, 7, 9, 11, 13, 15, 17, 19, 21, 23, 25, 27, 29]\n"
          ]
        },
        {
          "data": {
            "text/plain": [
              "[0, 2, 4, 6, 8, 10, 12, 14, 16, 18, 20, 22, 24, 26, 28]"
            ]
          },
          "execution_count": 50,
          "metadata": {},
          "output_type": "execute_result"
        }
      ],
      "source": [
        "odd=rdd.filter(lambda n:n%2!=0)\n",
        "print(odd.take(15))\n",
        "even=rdd.filter(lambda n:n%2==0)\n",
        "even.take(15)"
      ]
    },
    {
      "cell_type": "code",
      "execution_count": null,
      "metadata": {
        "colab": {
          "base_uri": "https://localhost:8080/"
        },
        "id": "oGi5GnOYe0Mo",
        "outputId": "e06631e0-cb1a-4322-8cbf-95ca4e3b0130"
      },
      "outputs": [
        {
          "data": {
            "text/plain": [
              "['Think of it for a moment – 1 Qunitillion = 1 Million Billion! Can you imagine how many drives / CDs / Blue-ray DVDs would be required to store them? It is difficult to imagine this scale of data generation even as a data science professional. While this pace of data generation is very exciting,  it has created entirely new set of challenges and has forced us to find new ways to handle Big Huge data effectively.',\n",
              " '',\n",
              " '',\n",
              " 'Big Data is not a new phenomena. It has been around for a while now. However, it has become really important with this pace of data generation. In past, several systems were developed for processing big data. Most of them were based on MapReduce framework. These frameworks typically rely on use of hard disk for saving and retrieving the results. However, this turns out to be very costly in terms of time and speed.',\n",
              " '']"
            ]
          },
          "execution_count": 52,
          "metadata": {},
          "output_type": "execute_result"
        }
      ],
      "source": [
        "blog=sc.textFile('/content/sample_data/blogtt.txt')\n",
        "blog.take(5)\n",
        "#or we can use blog.collect() for whole text file"
      ]
    },
    {
      "cell_type": "code",
      "execution_count": null,
      "metadata": {
        "colab": {
          "base_uri": "https://localhost:8080/"
        },
        "id": "5O-82HJzf8Oc",
        "outputId": "d2d0fa8f-8256-45d7-ed5c-4d1d7b16fd14"
      },
      "outputs": [
        {
          "data": {
            "text/plain": [
              "['Think of it for a moment – 1 Qunitillion = 1 Million Billion! Can you imagine how many drives / CDs / Blue-ray DVDs would be required to store them? It is difficult to imagine this scale of data generation even as a data science professional. While this pace of data generation is very exciting,  it has created entirely new set of challenges and has forced us to find new ways to handle Big Huge data effectively.',\n",
              " 'Big Data is not a new phenomena. It has been around for a while now. However, it has become really important with this pace of data generation. In past, several systems were developed for processing big data. Most of them were based on MapReduce framework. These frameworks typically rely on use of hard disk for saving and retrieving the results. However, this turns out to be very costly in terms of time and speed.',\n",
              " 'On the other hand, Organizations have never been more hungrier to add a competitive differentiation through understanding this data and offering its customer a much better experience. Imagine how valuable would be Facebook, if it did not understand your interests well? The traditional hard disk based MapReduce kind of frameworks do not help much to address this challenge.',\n",
              " 'In this article, I will introduce you to one such framework, which has made querying and analysing data at a large scale much more efficient than previous systems / frameworks – Read on!',\n",
              " 'P.S. This article is meant for complete beginners on the topic and presumes minimal prior knowledge in Big Data']"
            ]
          },
          "execution_count": 54,
          "metadata": {},
          "output_type": "execute_result"
        }
      ],
      "source": [
        "#Filter blank lines from RDD and create another stripped RDD\n",
        "# it was used to remove blank lines from text file\n",
        "srdd=blog.filter(lambda l:l.strip())\n",
        "srdd.take(5)"
      ]
    },
    {
      "cell_type": "code",
      "execution_count": null,
      "metadata": {
        "colab": {
          "base_uri": "https://localhost:8080/"
        },
        "id": "Dw7_IOtJgvZU",
        "outputId": "8975ebef-0bbf-4931-af26-3dca6b28427d"
      },
      "outputs": [
        {
          "name": "stdout",
          "output_type": "stream",
          "text": [
            "648 259\n"
          ]
        }
      ],
      "source": [
        "#to print the number of lines\n",
        "\n",
        "print(blog.count(),srdd.count())"
      ]
    },
    {
      "cell_type": "code",
      "execution_count": null,
      "metadata": {
        "colab": {
          "base_uri": "https://localhost:8080/"
        },
        "id": "41hdTLG1hBNq",
        "outputId": "7703d1e9-0a57-4acc-cde6-906958c8a647"
      },
      "outputs": [
        {
          "data": {
            "text/plain": [
              "['Think', 'of', 'it', 'for', 'a']"
            ]
          },
          "execution_count": 82,
          "metadata": {},
          "output_type": "execute_result"
        }
      ],
      "source": [
        "#Map each lines to list of words (use map and flatMap)\n",
        "\n",
        "wrdd=srdd.flatMap(lambda l:l.split(' '))\n",
        "wrdd.take(5)"
      ]
    },
    {
      "cell_type": "code",
      "execution_count": null,
      "metadata": {
        "colab": {
          "base_uri": "https://localhost:8080/"
        },
        "id": "t3SYswNDiQMi",
        "outputId": "93bade3e-5e86-4cdc-ac00-a72f4e9c8c90"
      },
      "outputs": [
        {
          "data": {
            "text/plain": [
              "[('i', <pyspark.resultiterable.ResultIterable at 0x7fb7dea46230>),\n",
              " ('1', <pyspark.resultiterable.ResultIterable at 0x7fb7dea47250>),\n",
              " ('=', <pyspark.resultiterable.ResultIterable at 0x7fb7dea462f0>),\n",
              " ('C', <pyspark.resultiterable.ResultIterable at 0x7fb7dea44e80>),\n",
              " ('y', <pyspark.resultiterable.ResultIterable at 0x7fb7dea45600>)]"
            ]
          },
          "execution_count": 83,
          "metadata": {},
          "output_type": "execute_result"
        }
      ],
      "source": [
        "#group each word by first letter\n",
        "\n",
        "grdd=wrdd.groupBy(lambda w:w[0:1])\n",
        "grdd.take(5)"
      ]
    },
    {
      "cell_type": "code",
      "execution_count": null,
      "metadata": {
        "colab": {
          "base_uri": "https://localhost:8080/"
        },
        "id": "scnfM5JujY6N",
        "outputId": "8a04fe16-fbf8-4ebc-b372-37988b530024"
      },
      "outputs": [
        {
          "data": {
            "text/plain": [
              "[(357, 'i'), (18, '1'), (41, '='), (25, 'C'), (35, 'y')]"
            ]
          },
          "execution_count": 84,
          "metadata": {},
          "output_type": "execute_result"
        }
      ],
      "source": [
        "#Reverse count and letter\n",
        "rgrdd=grdd.map(lambda w:(len(w[1]),w[0]))\n",
        "rgrdd.take(5)"
      ]
    },
    {
      "cell_type": "code",
      "execution_count": null,
      "metadata": {
        "colab": {
          "base_uri": "https://localhost:8080/"
        },
        "id": "MfksFrF-lkiR",
        "outputId": "663810e6-b992-4ff0-d444-7536710005d5"
      },
      "outputs": [
        {
          "data": {
            "text/plain": [
              "[(672, 't'), (507, 'a'), (357, 'i'), (303, 'c'), (277, 's')]"
            ]
          },
          "execution_count": 79,
          "metadata": {},
          "output_type": "execute_result"
        }
      ],
      "source": [
        "#Sort by count in reverse order\n",
        "\n",
        "srgdd=rgrdd.sortByKey(False)\n",
        "srgdd.take(5)"
      ]
    },
    {
      "cell_type": "code",
      "execution_count": null,
      "metadata": {
        "colab": {
          "base_uri": "https://localhost:8080/"
        },
        "id": "j69qlsFxmsGJ",
        "outputId": "ba3d8bc5-38e6-4918-8faf-2c58d8db8b9c"
      },
      "outputs": [
        {
          "data": {
            "text/plain": [
              "(4300, 5281)"
            ]
          },
          "execution_count": 89,
          "metadata": {},
          "output_type": "execute_result"
        }
      ],
      "source": [
        "stopwords=[\"in\",\"on\",\"for\",\"the\",\"a\",\"to\",\"of\",\"and\",\"is\"]\n",
        "stwrdd=wrdd.filter(lambda w:w not in stopwords)\n",
        "stwrdd.count(),wrdd.count()"
      ]
    },
    {
      "cell_type": "code",
      "execution_count": null,
      "metadata": {
        "colab": {
          "base_uri": "https://localhost:8080/"
        },
        "id": "7WWzOBKenzyD",
        "outputId": "d2fc1ce9-0a29-4e30-fc23-0c90d55edf10"
      },
      "outputs": [
        {
          "data": {
            "text/plain": [
              "(4300, 4300)"
            ]
          },
          "execution_count": 93,
          "metadata": {},
          "output_type": "execute_result"
        }
      ],
      "source": [
        "import string\n",
        "pstpwrdd=stwrdd.map(lambda w:w.translate(str.maketrans('','',string.punctuation)))\n",
        "stwrdd.count(),pstpwrd.count()"
      ]
    },
    {
      "cell_type": "code",
      "execution_count": null,
      "metadata": {
        "colab": {
          "base_uri": "https://localhost:8080/"
        },
        "id": "YFMlQq0eoVG9",
        "outputId": "4996b69f-abf7-46d5-a68a-86ebc93ce9a5"
      },
      "outputs": [
        {
          "data": {
            "text/plain": [
              "[(118, ''),\n",
              " (86, 'Spark'),\n",
              " (73, 'we'),\n",
              " (69, 'data'),\n",
              " (54, 'can'),\n",
              " (51, 'this'),\n",
              " (50, 'are'),\n",
              " (50, 'Apache'),\n",
              " (41, 'RDD'),\n",
              " (39, 'which')]"
            ]
          },
          "execution_count": 92,
          "metadata": {},
          "output_type": "execute_result"
        }
      ],
      "source": [
        "#group and sort\n",
        "\n",
        "grdd=pstpwrdd.groupBy(lambda w:w)\n",
        "mrdd=grdd.map(lambda x:(len(x[1]),x[0]))\n",
        "srdd=mrdd.sortByKey(False)\n",
        "srdd.take(10)"
      ]
    },
    {
      "cell_type": "code",
      "execution_count": null,
      "metadata": {
        "colab": {
          "base_uri": "https://localhost:8080/"
        },
        "id": "iXnRhd67p_Yr",
        "outputId": "e747d21a-a6ce-4ea2-e9dc-64f955c91935"
      },
      "outputs": [
        {
          "data": {
            "text/plain": [
              "(4300, 2127)"
            ]
          },
          "execution_count": 95,
          "metadata": {},
          "output_type": "execute_result"
        }
      ],
      "source": [
        "#demostrate sampling of RDDs\n",
        "samplerdd=pstpwrdd.sample(False,0.5,42)\n",
        "pstpwrdd.count(),samplerdd.count()"
      ]
    },
    {
      "cell_type": "code",
      "execution_count": null,
      "metadata": {
        "colab": {
          "base_uri": "https://localhost:8080/"
        },
        "id": "06vuc7C1r1-o",
        "outputId": "46025409-bbb4-44f5-9955-2c051800f9fe"
      },
      "outputs": [
        {
          "data": {
            "text/plain": [
              "(1287, 1260, 2547, 316, 331, 317)"
            ]
          },
          "execution_count": 96,
          "metadata": {},
          "output_type": "execute_result"
        }
      ],
      "source": [
        "samplerdd1=pstpwrdd.sample(True,0.3,42)#30% random samples\n",
        "samplerdd2=pstpwrdd.sample(True,0.3,43)#30%\n",
        "usample=samplerdd1.union(samplerdd2)\n",
        "isample=samplerdd1.intersection(samplerdd2)\n",
        "d1sample=samplerdd1.subtract(samplerdd2)\n",
        "d2sample=samplerdd2.subtract(samplerdd1)\n",
        "samplerdd1.count(),samplerdd2.count(),usample.count(),isample.count(),d1sample.count(),d2sample.count()"
      ]
    },
    {
      "cell_type": "code",
      "execution_count": null,
      "metadata": {
        "colab": {
          "base_uri": "https://localhost:8080/"
        },
        "id": "WunkYefswpCE",
        "outputId": "0ae2e53d-20c0-4160-ff56-8d673aba21f4"
      },
      "outputs": [
        {
          "data": {
            "text/plain": [
              "['1|24|M|technician|85711',\n",
              " '2|53|F|other|94043',\n",
              " '3|23|M|writer|32067',\n",
              " '4|24|M|technician|43537',\n",
              " '5|33|F|other|15213']"
            ]
          },
          "execution_count": 99,
          "metadata": {},
          "output_type": "execute_result"
        }
      ],
      "source": [
        "rdd=sc.textFile('/content/sample_data/u.user.txt')\n",
        "\n",
        "rdd.take(5)"
      ]
    },
    {
      "cell_type": "code",
      "execution_count": null,
      "metadata": {
        "colab": {
          "base_uri": "https://localhost:8080/"
        },
        "id": "j076BTsi00kL",
        "outputId": "f6f285b1-88a3-42a1-dbe6-4c9ef0b97853"
      },
      "outputs": [
        {
          "data": {
            "text/plain": [
              "[(670, 'M'), (273, 'F')]"
            ]
          },
          "execution_count": 105,
          "metadata": {},
          "output_type": "execute_result"
        }
      ],
      "source": [
        "grdd=rdd.groupBy(lambda l:l.split('|')[2])\n",
        "grdd.take(5)\n",
        "rgrdd=grdd.map(lambda l:(len(l[1]),l[0]))\n",
        "rgrdd.take(5)\n"
      ]
    },
    {
      "cell_type": "code",
      "execution_count": null,
      "metadata": {
        "colab": {
          "base_uri": "https://localhost:8080/"
        },
        "id": "LdQOFQ3p02r9",
        "outputId": "6642579d-6be5-4580-b8ba-73be0a84e0a3"
      },
      "outputs": [
        {
          "data": {
            "text/plain": [
              "[('student', 196),\n",
              " ('other', 105),\n",
              " ('educator', 95),\n",
              " ('administrator', 79),\n",
              " ('engineer', 67),\n",
              " ('programmer', 66),\n",
              " ('librarian', 51),\n",
              " ('writer', 45),\n",
              " ('executive', 32),\n",
              " ('scientist', 31)]"
            ]
          },
          "execution_count": 111,
          "metadata": {},
          "output_type": "execute_result"
        }
      ],
      "source": [
        "grdd=rdd.groupBy(lambda l:l.split('|')[3])\n",
        "grdd.take(5)\n",
        "rgrdd=grdd.map(lambda l:(len(l[1]),l[0]))\n",
        "rgrdd=rgrdd.sortByKey(False)\n",
        "rrgrdd=rgrdd.map(lambda l:(l[1],l[0]))\n",
        "rrgrdd.take(10)\n"
      ]
    },
    {
      "cell_type": "code",
      "execution_count": null,
      "metadata": {
        "colab": {
          "base_uri": "https://localhost:8080/"
        },
        "id": "4ggJLzdf19zK",
        "outputId": "8c9d51b6-1d68-4a1d-900a-74ab2cea3f04"
      },
      "outputs": [
        {
          "data": {
            "text/plain": [
              "(943, 399)"
            ]
          },
          "execution_count": 117,
          "metadata": {},
          "output_type": "execute_result"
        }
      ],
      "source": [
        "# find average age of users\n",
        "agerdd=rdd.map(lambda l:int(l.split('|')[1]))\n",
        "average=agerdd.mean()\n",
        "filterbyage=rdd.filter(lambda l:float(l.split('|')[1])>average)\n",
        "filterbyage.take(5)\n",
        "rdd.count(),filterbyage.count()"
      ]
    },
    {
      "cell_type": "code",
      "execution_count": null,
      "metadata": {
        "colab": {
          "base_uri": "https://localhost:8080/"
        },
        "id": "YjhCO_yNLLJs",
        "outputId": "a2af5a35-2705-400f-d269-3a800c148ffd"
      },
      "outputs": [
        {
          "name": "stdout",
          "output_type": "stream",
          "text": [
            "Collecting pyspark\n",
            "  Downloading pyspark-3.4.1.tar.gz (310.8 MB)\n",
            "\u001b[2K     \u001b[90m━━━━━━━━━━━━━━━━━━━━━━━━━━━━━━━━━━━━━━━\u001b[0m \u001b[32m310.8/310.8 MB\u001b[0m \u001b[31m4.1 MB/s\u001b[0m eta \u001b[36m0:00:00\u001b[0m\n",
            "\u001b[?25h  Preparing metadata (setup.py) ... \u001b[?25l\u001b[?25hdone\n",
            "Requirement already satisfied: py4j==0.10.9.7 in /usr/local/lib/python3.10/dist-packages (from pyspark) (0.10.9.7)\n",
            "Building wheels for collected packages: pyspark\n",
            "  Building wheel for pyspark (setup.py) ... \u001b[?25l\u001b[?25hdone\n",
            "  Created wheel for pyspark: filename=pyspark-3.4.1-py2.py3-none-any.whl size=311285388 sha256=38706f7c9f51918cacd8af5a7de4f95c64eb6cea9ac911cc010d8995f5d45ee6\n",
            "  Stored in directory: /root/.cache/pip/wheels/0d/77/a3/ff2f74cc9ab41f8f594dabf0579c2a7c6de920d584206e0834\n",
            "Successfully built pyspark\n",
            "Installing collected packages: pyspark\n",
            "Successfully installed pyspark-3.4.1\n"
          ]
        }
      ],
      "source": [
        "# DAY-03\n",
        "# Structured dats using CSV(comma separated values)\n",
        "\n",
        "!pip install pyspark\n"
      ]
    },
    {
      "cell_type": "code",
      "execution_count": null,
      "metadata": {
        "colab": {
          "base_uri": "https://localhost:8080/"
        },
        "id": "Kh7D9Kk-ND3_",
        "outputId": "ff1cba5f-b6ac-449e-e344-38e874b03bee"
      },
      "outputs": [
        {
          "output_type": "stream",
          "name": "stdout",
          "text": [
            "root\n",
            " |-- User_ID: string (nullable = true)\n",
            " |-- Product_ID: string (nullable = true)\n",
            " |-- Gender: string (nullable = true)\n",
            " |-- Age: string (nullable = true)\n",
            " |-- Occupation: string (nullable = true)\n",
            " |-- City_Category: string (nullable = true)\n",
            " |-- Stay_In_Current_City_Years: string (nullable = true)\n",
            " |-- Marital_Status: string (nullable = true)\n",
            " |-- Product_Category_1: string (nullable = true)\n",
            " |-- Product_Category_2: string (nullable = true)\n",
            " |-- Product_Category_3: string (nullable = true)\n",
            " |-- Purchase: string (nullable = true)\n",
            "\n"
          ]
        },
        {
          "output_type": "execute_result",
          "data": {
            "text/plain": [
              "['User_ID',\n",
              " 'Product_ID',\n",
              " 'Gender',\n",
              " 'Age',\n",
              " 'Occupation',\n",
              " 'City_Category',\n",
              " 'Stay_In_Current_City_Years',\n",
              " 'Marital_Status',\n",
              " 'Product_Category_1',\n",
              " 'Product_Category_2',\n",
              " 'Product_Category_3',\n",
              " 'Purchase']"
            ]
          },
          "metadata": {},
          "execution_count": 4
        }
      ],
      "source": [
        "from pyspark.sql.session import SparkSession\n",
        "sess=SparkSession.builder.getOrCreate()\n",
        "train=sess.read.csv('/content/sample_data/train - train.csv',header=True)\n",
        "train.count()\n",
        "train.printSchema()\n",
        "train.columns"
      ]
    },
    {
      "cell_type": "code",
      "execution_count": null,
      "metadata": {
        "colab": {
          "base_uri": "https://localhost:8080/"
        },
        "id": "XntGuJLnOqXg",
        "outputId": "44d61d3b-5270-49c6-d670-04a5e4d54a43"
      },
      "outputs": [
        {
          "name": "stdout",
          "output_type": "stream",
          "text": [
            "+----------+\n",
            "|Product_ID|\n",
            "+----------+\n",
            "|  P0098242|\n",
            "| P00281742|\n",
            "| P00026042|\n",
            "| P00015342|\n",
            "| P00159842|\n",
            "+----------+\n",
            "only showing top 5 rows\n",
            "\n"
          ]
        }
      ],
      "source": [
        "# Find distinct products\n",
        "\n",
        "train.select('Product_ID').distinct().count()\n",
        "train.select('Product_ID').distinct().show(5)"
      ]
    },
    {
      "cell_type": "code",
      "execution_count": null,
      "metadata": {
        "colab": {
          "base_uri": "https://localhost:8080/"
        },
        "id": "Kt2idYdBPhQr",
        "outputId": "a75bc908-2b47-42ef-a32c-52395068f4a6"
      },
      "outputs": [
        {
          "name": "stdout",
          "output_type": "stream",
          "text": [
            "+-------+-----------------+\n",
            "|summary|         Purchase|\n",
            "+-------+-----------------+\n",
            "|  count|           550068|\n",
            "|   mean|9263.968712959126|\n",
            "| stddev|5023.065393820575|\n",
            "|    min|            10000|\n",
            "|    max|             9999|\n",
            "+-------+-----------------+\n",
            "\n"
          ]
        }
      ],
      "source": [
        "# get descriptive statistics of purchase column\n",
        "\n",
        "train.select('Purchase').describe().show()"
      ]
    },
    {
      "cell_type": "code",
      "execution_count": null,
      "metadata": {
        "colab": {
          "base_uri": "https://localhost:8080/"
        },
        "id": "f8qy-phWRCkw",
        "outputId": "03238fe0-6de2-406c-f20f-10d695d0c035"
      },
      "outputs": [
        {
          "name": "stdout",
          "output_type": "stream",
          "text": [
            "root\n",
            " |-- User_ID: string (nullable = true)\n",
            " |-- Product_ID: string (nullable = true)\n",
            " |-- Gender: string (nullable = true)\n",
            " |-- Age: string (nullable = true)\n",
            " |-- Occupation: integer (nullable = true)\n",
            " |-- City_Category: string (nullable = true)\n",
            " |-- Stay_In_Current_City_Years: string (nullable = true)\n",
            " |-- Marital_Status: integer (nullable = true)\n",
            " |-- Product_Category_1: string (nullable = true)\n",
            " |-- Product_Category_2: string (nullable = true)\n",
            " |-- Product_Category_3: string (nullable = true)\n",
            " |-- Purchase: integer (nullable = true)\n",
            "\n"
          ]
        }
      ],
      "source": [
        "#making our owm schema\n",
        "\n",
        "import pyspark.sql.types as typ\n",
        "labels=[\n",
        "    ('User_ID',typ.StringType()),\n",
        "    ('Product_ID',typ.StringType()),\n",
        "    ('Gender',typ.StringType()),\n",
        "    ('Age',typ.StringType()),\n",
        "    ('Occupation',typ.IntegerType()),\n",
        "    ('City_Category',typ.StringType()),\n",
        "    ('Stay_In_Current_City_Years',typ.StringType()),\n",
        "    ('Marital_Status',typ.IntegerType()),\n",
        "    ('Product_Category_1',typ.StringType()),\n",
        "    ('Product_Category_2',typ.StringType()),\n",
        "    ('Product_Category_3',typ.StringType()),\n",
        "    ('Purchase',typ.IntegerType())\n",
        "]\n",
        "s=typ.StructType([\n",
        "    typ.StructField(e[0],e[1],False) for e in labels\n",
        "])\n",
        "train=sess.read.csv('/content/sample_data/train - train.csv',header=True,schema=s)\n",
        "train.printSchema()\n"
      ]
    },
    {
      "cell_type": "code",
      "execution_count": null,
      "metadata": {
        "colab": {
          "base_uri": "https://localhost:8080/"
        },
        "id": "f3UCVi4ZSe9l",
        "outputId": "1cf66513-0b3f-4a26-8ddd-04b6191165e0"
      },
      "outputs": [
        {
          "name": "stdout",
          "output_type": "stream",
          "text": [
            "+-------+-----------------+\n",
            "|summary|         Purchase|\n",
            "+-------+-----------------+\n",
            "|  count|           550068|\n",
            "|   mean|9263.968712959126|\n",
            "| stddev|5023.065393820575|\n",
            "|    min|               12|\n",
            "|    max|            23961|\n",
            "+-------+-----------------+\n",
            "\n"
          ]
        }
      ],
      "source": [
        "train.select('Purchase').describe().show()"
      ]
    },
    {
      "cell_type": "code",
      "execution_count": null,
      "metadata": {
        "colab": {
          "base_uri": "https://localhost:8080/"
        },
        "id": "N0tUUsvBS4Vc",
        "outputId": "7f67bc77-c875-4349-f5c0-575f2fa19e96"
      },
      "outputs": [
        {
          "name": "stdout",
          "output_type": "stream",
          "text": [
            "+-------+----------+------+-----+----------+-------------+--------------------------+--------------+------------------+------------------+------------------+--------+\n",
            "|User_ID|Product_ID|Gender|  Age|Occupation|City_Category|Stay_In_Current_City_Years|Marital_Status|Product_Category_1|Product_Category_2|Product_Category_3|Purchase|\n",
            "+-------+----------+------+-----+----------+-------------+--------------------------+--------------+------------------+------------------+------------------+--------+\n",
            "|1000001| P00248942|     F| 0-17|        10|            A|                         2|             0|                 1|                 6|                14|   15200|\n",
            "|1000003| P00193542|     M|26-35|        15|            A|                         3|             0|                 1|                 2|              null|   15227|\n",
            "|1000004| P00184942|     M|46-50|         7|            B|                         2|             1|                 1|                 8|                17|   19215|\n",
            "|1000004| P00346142|     M|46-50|         7|            B|                         2|             1|                 1|                15|              null|   15854|\n",
            "|1000004|  P0097242|     M|46-50|         7|            B|                         2|             1|                 1|                16|              null|   15686|\n",
            "|1000005| P00145042|     M|26-35|        20|            A|                         1|             1|                 1|                 2|                 5|   15665|\n",
            "|1000008| P00249542|     M|26-35|        12|            C|                        4+|             1|                 1|                 5|                15|   19614|\n",
            "|1000009| P00135742|     M|26-35|        17|            C|                         0|             0|                 6|                 8|              null|   16662|\n",
            "|1000010| P00085942|     F|36-45|         1|            B|                        4+|             1|                 2|                 4|                 8|   16352|\n",
            "|1000010| P00155442|     F|36-45|         1|            B|                        4+|             1|                 1|                11|                15|   15212|\n",
            "|1000010| P00221342|     F|36-45|         1|            B|                        4+|             1|                 1|                 2|                 5|   15705|\n",
            "|1000010| P00111142|     F|36-45|         1|            B|                        4+|             1|                 1|                15|                16|   18963|\n",
            "|1000010|  P0094542|     F|36-45|         1|            B|                        4+|             1|                 2|                 4|                 9|   16406|\n",
            "|1000011| P00110842|     F|26-35|         1|            C|                         1|             0|                 1|                 2|                 5|   19327|\n",
            "|1000012| P00304242|     M|26-35|        12|            C|                         2|             0|                 1|                 6|              null|   15246|\n",
            "|1000013| P00140742|     M|46-50|         1|            C|                         3|             1|                 1|                15|              null|   15912|\n",
            "|1000015| P00334242|     M|26-35|         7|            A|                         1|             0|                 1|                 8|              null|   19653|\n",
            "|1000017| P00019342|     M|51-55|         1|            C|                         0|             0|                 1|                 6|                15|   15872|\n",
            "|1000017| P00073842|     M|51-55|         1|            C|                         0|             0|                 1|                15|                17|   15172|\n",
            "|1000018| P00112642|     F|18-25|         3|            B|                         3|             0|                 1|                 2|                 5|   19473|\n",
            "+-------+----------+------+-----+----------+-------------+--------------------------+--------------+------------------+------------------+------------------+--------+\n",
            "only showing top 20 rows\n",
            "\n"
          ]
        }
      ],
      "source": [
        "# find the transactions whose purchase amt exceeds 15000\n",
        "\n",
        "train.filter(train.Purchase>15000).show()"
      ]
    },
    {
      "cell_type": "code",
      "execution_count": null,
      "metadata": {
        "colab": {
          "base_uri": "https://localhost:8080/"
        },
        "id": "legaAfXYTbUh",
        "outputId": "bdd4773a-1e96-432f-9484-fd78b50873b4"
      },
      "outputs": [
        {
          "data": {
            "text/plain": [
              "324731"
            ]
          },
          "execution_count": 18,
          "metadata": {},
          "output_type": "execute_result"
        }
      ],
      "source": [
        "# give me details whose marital status is 1\n",
        "\n",
        "train.filter(train.Marital_Status==0).count()"
      ]
    },
    {
      "cell_type": "code",
      "execution_count": null,
      "metadata": {
        "colab": {
          "base_uri": "https://localhost:8080/"
        },
        "id": "6rgAm4utTqdT",
        "outputId": "d0469d78-bdfe-4061-e5ec-d3806d8a91f6"
      },
      "outputs": [
        {
          "name": "stdout",
          "output_type": "stream",
          "text": [
            "+----------+-----+------+\n",
            "|Age_Gender|    F|     M|\n",
            "+----------+-----+------+\n",
            "|     18-25|24628| 75032|\n",
            "|     26-35|50752|168835|\n",
            "|      0-17| 5083| 10019|\n",
            "|     46-50|13199| 32502|\n",
            "|     51-55| 9894| 28607|\n",
            "|     36-45|27170| 82843|\n",
            "|       55+| 5083| 16421|\n",
            "+----------+-----+------+\n",
            "\n"
          ]
        }
      ],
      "source": [
        "#Get the correlation between age gender: we can identify using crosstab\n",
        "\n",
        "train.crosstab('Age','Gender').show()"
      ]
    },
    {
      "cell_type": "code",
      "execution_count": null,
      "metadata": {
        "colab": {
          "base_uri": "https://localhost:8080/"
        },
        "id": "3xXkXr45UOpJ",
        "outputId": "5db5f734-43e1-42bf-a882-fbb3cdf378c0"
      },
      "outputs": [
        {
          "name": "stdout",
          "output_type": "stream",
          "text": [
            "+-----+-----------------+\n",
            "|  Age|    avg(Purchase)|\n",
            "+-----+-----------------+\n",
            "|18-25|9169.663606261289|\n",
            "|26-35|9252.690632869888|\n",
            "| 0-17|8933.464640444974|\n",
            "|46-50|9208.625697468327|\n",
            "|51-55|9534.808030960236|\n",
            "|36-45|9331.350694917874|\n",
            "|  55+|9336.280459449405|\n",
            "+-----+-----------------+\n",
            "\n",
            "+-----+------+\n",
            "|  Age| count|\n",
            "+-----+------+\n",
            "|18-25| 99660|\n",
            "|26-35|219587|\n",
            "| 0-17| 15102|\n",
            "|46-50| 45701|\n",
            "|51-55| 38501|\n",
            "|36-45|110013|\n",
            "|  55+| 21504|\n",
            "+-----+------+\n",
            "\n"
          ]
        }
      ],
      "source": [
        "#Find the mean purchase of each age group\n",
        "# count the number of records of each group\n",
        "\n",
        "train.groupBy('Age').agg({'Purchase':'Mean'}).show()\n",
        "train.groupBy('Age').count().show()"
      ]
    },
    {
      "cell_type": "code",
      "execution_count": null,
      "metadata": {
        "colab": {
          "base_uri": "https://localhost:8080/"
        },
        "id": "3ZNJGwq6VRh-",
        "outputId": "64558526-d21f-44b0-9f03-17b7c26e1231"
      },
      "outputs": [
        {
          "output_type": "stream",
          "name": "stdout",
          "text": [
            "+-------+----------+------+-----+----------+-------------+--------------------------+--------------+------------------+------------------+------------------+--------+\n",
            "|User_ID|Product_ID|Gender|  Age|Occupation|City_Category|Stay_In_Current_City_Years|Marital_Status|Product_Category_1|Product_Category_2|Product_Category_3|Purchase|\n",
            "+-------+----------+------+-----+----------+-------------+--------------------------+--------------+------------------+------------------+------------------+--------+\n",
            "|1001330| P00085342|     M|  55+|         1|            C|                        4+|             0|                10|                13|              null|   23461|\n",
            "|1000008| P00156442|     M|26-35|        12|            C|                        4+|             1|                 8|              null|              null|    9872|\n",
            "|1001333| P00071242|     M|26-35|        17|            A|                        4+|             0|                 1|                15|                16|    4286|\n",
            "|1000010| P00312142|     F|36-45|         1|            B|                        4+|             1|                 8|              null|              null|   10007|\n",
            "|1001331| P00240142|     M|46-50|         0|            C|                        4+|             1|                 5|              null|              null|    6973|\n",
            "|1000008| P00213742|     M|26-35|        12|            C|                        4+|             1|                 8|              null|              null|    9743|\n",
            "|1001313| P00363442|     M|18-25|         4|            B|                        4+|             1|                 1|              null|              null|   12095|\n",
            "|1000010| P00032442|     F|36-45|         1|            B|                        4+|             1|                 5|              null|              null|    5152|\n",
            "|1001331| P00255842|     M|46-50|         0|            C|                        4+|             1|                16|              null|              null|   16385|\n",
            "|1000010| P00148642|     F|36-45|         1|            B|                        4+|             1|                 6|                10|                13|   12642|\n",
            "|1001333| P00010742|     M|26-35|        17|            A|                        4+|             0|                 1|                 8|                17|   15672|\n",
            "|1000010| P00105942|     F|36-45|         1|            B|                        4+|             1|                 5|              null|              null|    7089|\n",
            "|1001333| P00245642|     M|26-35|        17|            A|                        4+|             0|                 5|                11|                12|    6892|\n",
            "|1000008| P00249542|     M|26-35|        12|            C|                        4+|             1|                 1|                 5|                15|   19614|\n",
            "|1001310| P00178142|     M|46-50|         0|            C|                        4+|             1|                 8|                17|              null|    6039|\n",
            "|1000010|  P0094542|     F|36-45|         1|            B|                        4+|             1|                 2|                 4|                 9|   16406|\n",
            "|1001333| P00108142|     M|26-35|        17|            A|                        4+|             0|                11|              null|              null|    3190|\n",
            "|1000010| P00182642|     F|36-45|         1|            B|                        4+|             1|                 2|                 4|                 9|   12909|\n",
            "|1001331| P00275142|     M|46-50|         0|            C|                        4+|             1|                 5|                 8|              null|    5463|\n",
            "|1000008| P00214442|     M|26-35|        12|            C|                        4+|             1|                 8|              null|              null|    5982|\n",
            "+-------+----------+------+-----+----------+-------------+--------------------------+--------------+------------------+------------------+------------------+--------+\n",
            "only showing top 20 rows\n",
            "\n"
          ]
        }
      ],
      "source": [
        "#Order the train results by current stay in yrs:\n",
        "\n",
        "from pyspark.sql.functions import col\n",
        "train.orderBy(col('Stay_In_Current_City_Years').desc()).show()"
      ]
    },
    {
      "cell_type": "code",
      "source": [
        "#Adding a new column to data frame:\n",
        "\n",
        "train=train.withColumn('gst_pa',train.Purchase*1.18)\n",
        "train.columns"
      ],
      "metadata": {
        "colab": {
          "base_uri": "https://localhost:8080/"
        },
        "id": "m0mzJmsHYQ_6",
        "outputId": "3464f193-4050-476f-e205-e4160769cdc3"
      },
      "execution_count": null,
      "outputs": [
        {
          "output_type": "execute_result",
          "data": {
            "text/plain": [
              "['User_ID',\n",
              " 'Product_ID',\n",
              " 'Gender',\n",
              " 'Age',\n",
              " 'Occupation',\n",
              " 'City_Category',\n",
              " 'Stay_In_Current_City_Years',\n",
              " 'Marital_Status',\n",
              " 'Product_Category_1',\n",
              " 'Product_Category_2',\n",
              " 'Product_Category_3',\n",
              " 'Purchase',\n",
              " 'gst_pa']"
            ]
          },
          "metadata": {},
          "execution_count": 6
        }
      ]
    },
    {
      "cell_type": "code",
      "source": [
        "train.select('Purchase','gst_pa').show(3)"
      ],
      "metadata": {
        "colab": {
          "base_uri": "https://localhost:8080/"
        },
        "id": "BnjK77hpYt3W",
        "outputId": "f21e37e0-7578-4fbc-9c5f-d78017d579b1"
      },
      "execution_count": null,
      "outputs": [
        {
          "output_type": "stream",
          "name": "stdout",
          "text": [
            "+--------+------------------+\n",
            "|Purchase|            gst_pa|\n",
            "+--------+------------------+\n",
            "|    8370|            9876.6|\n",
            "|   15200|           17936.0|\n",
            "|    1422|1677.9599999999998|\n",
            "+--------+------------------+\n",
            "only showing top 3 rows\n",
            "\n"
          ]
        }
      ]
    },
    {
      "cell_type": "code",
      "source": [
        "# drop an existing column\n",
        "\n",
        "train=train.drop('gst_pa')\n",
        "train.columns"
      ],
      "metadata": {
        "colab": {
          "base_uri": "https://localhost:8080/"
        },
        "id": "mn3twFV4ZRq5",
        "outputId": "e50a8140-4dd5-4bb1-978e-87812c058a66"
      },
      "execution_count": null,
      "outputs": [
        {
          "output_type": "execute_result",
          "data": {
            "text/plain": [
              "['User_ID',\n",
              " 'Product_ID',\n",
              " 'Gender',\n",
              " 'Age',\n",
              " 'Occupation',\n",
              " 'City_Category',\n",
              " 'Stay_In_Current_City_Years',\n",
              " 'Marital_Status',\n",
              " 'Product_Category_1',\n",
              " 'Product_Category_2',\n",
              " 'Product_Category_3',\n",
              " 'Purchase']"
            ]
          },
          "metadata": {},
          "execution_count": 9
        }
      ]
    },
    {
      "cell_type": "code",
      "source": [
        "#Converting data frame to table:\n",
        "\n",
        "train.createOrReplaceTempView('train_table')"
      ],
      "metadata": {
        "id": "xmGusG_zZj-l"
      },
      "execution_count": null,
      "outputs": []
    },
    {
      "cell_type": "code",
      "source": [
        "#sql query\n",
        "\n",
        "from pyspark import SparkContext,SQLContext\n",
        "sc=SparkContext.getOrCreate()\n",
        "sq=SQLContext(sc)\n",
        "sq.sql(\"select Age,COUNT(*) AS C from train_table group by age order by c desc\").show()"
      ],
      "metadata": {
        "colab": {
          "base_uri": "https://localhost:8080/"
        },
        "id": "pnLkcRcqaUu8",
        "outputId": "24a99b0f-aa61-4f08-9957-8e15fd5e958a"
      },
      "execution_count": null,
      "outputs": [
        {
          "output_type": "stream",
          "name": "stdout",
          "text": [
            "+-----+------+\n",
            "|  Age|     C|\n",
            "+-----+------+\n",
            "|26-35|219587|\n",
            "|36-45|110013|\n",
            "|18-25| 99660|\n",
            "|46-50| 45701|\n",
            "|51-55| 38501|\n",
            "|  55+| 21504|\n",
            "| 0-17| 15102|\n",
            "+-----+------+\n",
            "\n"
          ]
        }
      ]
    },
    {
      "cell_type": "code",
      "source": [
        "# read a JSON file\n",
        "\n",
        "jsondf=sess.read.option(\"multiline\",\"true\").json('/content/sample_data/student.json')\n",
        "jsondf.show()"
      ],
      "metadata": {
        "colab": {
          "base_uri": "https://localhost:8080/"
        },
        "id": "fS8_xiTZgPxl",
        "outputId": "38858927-cd43-451f-875e-063726f4027d"
      },
      "execution_count": null,
      "outputs": [
        {
          "output_type": "stream",
          "name": "stdout",
          "text": [
            "+-------+----+--------+---+\n",
            "|   mode|name|   topic|usn|\n",
            "+-------+----+--------+---+\n",
            "| online|  n1|Big data| u1|\n",
            "|offline|  n2|Big data| u2|\n",
            "| online|  n3|      AI| u3|\n",
            "| online|  n4|      AI| u4|\n",
            "+-------+----+--------+---+\n",
            "\n"
          ]
        }
      ]
    },
    {
      "cell_type": "code",
      "source": [
        "jsondf.groupBy(\"topic\").count().show()"
      ],
      "metadata": {
        "colab": {
          "base_uri": "https://localhost:8080/"
        },
        "id": "o_IS8PRzglsL",
        "outputId": "56a7ecec-5f8a-4cb4-9856-318d228dab93"
      },
      "execution_count": null,
      "outputs": [
        {
          "output_type": "stream",
          "name": "stdout",
          "text": [
            "+--------+-----+\n",
            "|   topic|count|\n",
            "+--------+-----+\n",
            "|      AI|    2|\n",
            "|Big data|    2|\n",
            "+--------+-----+\n",
            "\n"
          ]
        }
      ]
    },
    {
      "cell_type": "code",
      "source": [
        "# Find people who are doing online\n",
        "\n",
        "jsondf.filter(jsondf.mode==\"online\").show()"
      ],
      "metadata": {
        "colab": {
          "base_uri": "https://localhost:8080/"
        },
        "id": "68Yjp44ggvJZ",
        "outputId": "1aac5b95-623c-4e94-c929-5d0b182868e6"
      },
      "execution_count": null,
      "outputs": [
        {
          "output_type": "stream",
          "name": "stdout",
          "text": [
            "+------+----+--------+---+\n",
            "|  mode|name|   topic|usn|\n",
            "+------+----+--------+---+\n",
            "|online|  n1|Big data| u1|\n",
            "|online|  n3|      AI| u3|\n",
            "|online|  n4|      AI| u4|\n",
            "+------+----+--------+---+\n",
            "\n"
          ]
        }
      ]
    },
    {
      "cell_type": "code",
      "source": [
        "# convert data frame to rdd and write to csv\n",
        "\n",
        "ftrain=train.filter(train.Purchase>20000)\n",
        "frdd=ftrain.rdd\n",
        "frdd.saveAsTextFile('/context/sample_data/f.txt')"
      ],
      "metadata": {
        "id": "m3ZP_fOUhNq3"
      },
      "execution_count": null,
      "outputs": []
    },
    {
      "cell_type": "code",
      "source": [
        "# DAY-04\n",
        "\n",
        "!pip install pyspark"
      ],
      "metadata": {
        "colab": {
          "base_uri": "https://localhost:8080/"
        },
        "id": "Jq1iGraVHY6A",
        "outputId": "c5bac887-64a8-410e-fbb5-1485869115f0"
      },
      "execution_count": null,
      "outputs": [
        {
          "output_type": "stream",
          "name": "stdout",
          "text": [
            "Collecting pyspark\n",
            "  Downloading pyspark-3.4.1.tar.gz (310.8 MB)\n",
            "\u001b[2K     \u001b[90m━━━━━━━━━━━━━━━━━━━━━━━━━━━━━━━━━━━━━━━\u001b[0m \u001b[32m310.8/310.8 MB\u001b[0m \u001b[31m4.6 MB/s\u001b[0m eta \u001b[36m0:00:00\u001b[0m\n",
            "\u001b[?25h  Preparing metadata (setup.py) ... \u001b[?25l\u001b[?25hdone\n",
            "Requirement already satisfied: py4j==0.10.9.7 in /usr/local/lib/python3.10/dist-packages (from pyspark) (0.10.9.7)\n",
            "Building wheels for collected packages: pyspark\n",
            "  Building wheel for pyspark (setup.py) ... \u001b[?25l\u001b[?25hdone\n",
            "  Created wheel for pyspark: filename=pyspark-3.4.1-py2.py3-none-any.whl size=311285388 sha256=e4ccffaafe86aa7e74bc885a6684a17f24c10641dff969c8b4afa9dad75deae8\n",
            "  Stored in directory: /root/.cache/pip/wheels/0d/77/a3/ff2f74cc9ab41f8f594dabf0579c2a7c6de920d584206e0834\n",
            "Successfully built pyspark\n",
            "Installing collected packages: pyspark\n",
            "Successfully installed pyspark-3.4.1\n"
          ]
        }
      ]
    },
    {
      "cell_type": "code",
      "source": [
        "#Drop duplicates\n",
        "\n",
        "from pyspark.sql.session import SparkSession\n",
        "sess=SparkSession.builder.getOrCreate()\n",
        "df=sess.createDataFrame([\n",
        "    (1,144.5,5.9,33,'M'),\n",
        "    (2,167.2,5.4,45,'M'),\n",
        "    (3,124.1,5.2,23,'F'),\n",
        "    (4,144.5,5.9,33,'M'),\n",
        "    (5,133.2,5.7,54,'F'),\n",
        "    (3,124.1,5.2,23,'F'),\n",
        "    (5,129.2,5.3,42,'M'),\n",
        "],['id','weight','height','age','gender'])\n",
        "\n",
        "df.show()\n",
        "df.count()"
      ],
      "metadata": {
        "colab": {
          "base_uri": "https://localhost:8080/"
        },
        "id": "DuUie8fzH1dN",
        "outputId": "74daf017-21f6-4146-8e08-81b3aa16220e"
      },
      "execution_count": null,
      "outputs": [
        {
          "output_type": "stream",
          "name": "stdout",
          "text": [
            "+---+------+------+---+------+\n",
            "| id|weight|height|age|gender|\n",
            "+---+------+------+---+------+\n",
            "|  1| 144.5|   5.9| 33|     M|\n",
            "|  2| 167.2|   5.4| 45|     M|\n",
            "|  3| 124.1|   5.2| 23|     F|\n",
            "|  4| 144.5|   5.9| 33|     M|\n",
            "|  5| 133.2|   5.7| 54|     F|\n",
            "|  3| 124.1|   5.2| 23|     F|\n",
            "|  5| 129.2|   5.3| 42|     M|\n",
            "+---+------+------+---+------+\n",
            "\n"
          ]
        },
        {
          "output_type": "execute_result",
          "data": {
            "text/plain": [
              "7"
            ]
          },
          "metadata": {},
          "execution_count": 4
        }
      ]
    },
    {
      "cell_type": "code",
      "source": [
        "df=df.dropDuplicates(subset=[c for c in df.columns if c!='id' ])\n",
        "df.show()"
      ],
      "metadata": {
        "colab": {
          "base_uri": "https://localhost:8080/"
        },
        "id": "20yjwis8JJO1",
        "outputId": "7b20cdc0-1473-41cb-ac58-825d59a4e81b"
      },
      "execution_count": null,
      "outputs": [
        {
          "output_type": "stream",
          "name": "stdout",
          "text": [
            "+---+------+------+---+------+\n",
            "| id|weight|height|age|gender|\n",
            "+---+------+------+---+------+\n",
            "|  1| 144.5|   5.9| 33|     M|\n",
            "|  2| 167.2|   5.4| 45|     M|\n",
            "|  3| 124.1|   5.2| 23|     F|\n",
            "|  5| 133.2|   5.7| 54|     F|\n",
            "|  5| 129.2|   5.3| 42|     M|\n",
            "+---+------+------+---+------+\n",
            "\n"
          ]
        }
      ]
    },
    {
      "cell_type": "code",
      "source": [
        "df=df.drop('id')\n",
        "df.show()"
      ],
      "metadata": {
        "colab": {
          "base_uri": "https://localhost:8080/"
        },
        "id": "_oas5_mlJ5WP",
        "outputId": "952d6345-9464-4e08-a3fb-473a7a8dd1d8"
      },
      "execution_count": null,
      "outputs": [
        {
          "output_type": "stream",
          "name": "stdout",
          "text": [
            "+------+------+---+------+\n",
            "|weight|height|age|gender|\n",
            "+------+------+---+------+\n",
            "| 144.5|   5.9| 33|     M|\n",
            "| 167.2|   5.4| 45|     M|\n",
            "| 124.1|   5.2| 23|     F|\n",
            "| 133.2|   5.7| 54|     F|\n",
            "| 129.2|   5.3| 42|     M|\n",
            "+------+------+---+------+\n",
            "\n"
          ]
        }
      ]
    },
    {
      "cell_type": "code",
      "source": [
        "#recreating id with automatic increaser\n",
        "\n",
        "import pyspark.sql.functions as fn\n",
        "df=df.withColumn('id',fn.monotonically_increasing_id()+1)\n",
        "df.show()"
      ],
      "metadata": {
        "colab": {
          "base_uri": "https://localhost:8080/"
        },
        "id": "kk7GzXhtKCjT",
        "outputId": "8a2355c2-1c2a-4aea-87f5-3a38c5833ec5"
      },
      "execution_count": null,
      "outputs": [
        {
          "output_type": "stream",
          "name": "stdout",
          "text": [
            "+------+------+---+------+---+\n",
            "|weight|height|age|gender| id|\n",
            "+------+------+---+------+---+\n",
            "| 144.5|   5.9| 33|     M|  1|\n",
            "| 167.2|   5.4| 45|     M|  2|\n",
            "| 124.1|   5.2| 23|     F|  3|\n",
            "| 133.2|   5.7| 54|     F|  4|\n",
            "| 129.2|   5.3| 42|     M|  5|\n",
            "+------+------+---+------+---+\n",
            "\n"
          ]
        }
      ]
    },
    {
      "cell_type": "code",
      "source": [
        "#ordering as per our requirements\n",
        "\n",
        "df=df.select('id','height','weight','age','gender')\n",
        "df.show()"
      ],
      "metadata": {
        "colab": {
          "base_uri": "https://localhost:8080/"
        },
        "id": "nZl1U9yRK6S4",
        "outputId": "4fb3b524-9d07-47bf-b936-170631b9972f"
      },
      "execution_count": null,
      "outputs": [
        {
          "output_type": "stream",
          "name": "stdout",
          "text": [
            "+---+------+------+---+------+\n",
            "| id|height|weight|age|gender|\n",
            "+---+------+------+---+------+\n",
            "|  1|   5.9| 144.5| 33|     M|\n",
            "|  2|   5.4| 167.2| 45|     M|\n",
            "|  3|   5.2| 124.1| 23|     F|\n",
            "|  4|   5.7| 133.2| 54|     F|\n",
            "|  5|   5.3| 129.2| 42|     M|\n",
            "+---+------+------+---+------+\n",
            "\n"
          ]
        }
      ]
    },
    {
      "cell_type": "code",
      "source": [
        "df_miss = sess.createDataFrame([\n",
        "        (1, 143.5, 5.6, 28,   'M',  100000),\n",
        "        (2, 167.2, 5.4, 45,   'M',  None),\n",
        "        (3, None , 5.2, None, None, None),\n",
        "        (4, 144.5, 5.9, 33,   'M',  None),\n",
        "        (5, 133.2, 5.7, 54,   'F',  None),\n",
        "        (6, 124.1, 5.2, None, 'F',  None),\n",
        "        (7, 129.2, 5.3, 42,   'M',  76000),\n",
        "    ], ['id', 'weight', 'height', 'age', 'gender', 'income'])\n",
        "# replacing blank data with meaning data is called imputing\n",
        "\n",
        "df_miss.show()"
      ],
      "metadata": {
        "colab": {
          "base_uri": "https://localhost:8080/"
        },
        "id": "BnjfwxkNLQGU",
        "outputId": "3435a4b9-61e4-4f3d-9c9e-833f0be2fcad"
      },
      "execution_count": null,
      "outputs": [
        {
          "output_type": "stream",
          "name": "stdout",
          "text": [
            "+---+------+------+----+------+------+\n",
            "| id|weight|height| age|gender|income|\n",
            "+---+------+------+----+------+------+\n",
            "|  1| 143.5|   5.6|  28|     M|100000|\n",
            "|  2| 167.2|   5.4|  45|     M|  null|\n",
            "|  3|  null|   5.2|null|  null|  null|\n",
            "|  4| 144.5|   5.9|  33|     M|  null|\n",
            "|  5| 133.2|   5.7|  54|     F|  null|\n",
            "|  6| 124.1|   5.2|null|     F|  null|\n",
            "|  7| 129.2|   5.3|  42|     M| 76000|\n",
            "+---+------+------+----+------+------+\n",
            "\n"
          ]
        }
      ]
    },
    {
      "cell_type": "code",
      "source": [
        "df_miss.agg(*[\n",
        "    (1-(fn.count(c)/fn.count('*'))).alias(c+'_missing')\n",
        "    for c in df_miss.columns\n",
        "]).show()"
      ],
      "metadata": {
        "colab": {
          "base_uri": "https://localhost:8080/"
        },
        "id": "-y-qiGf2VFx6",
        "outputId": "c29f251b-0d9a-4f35-df9c-2f039f88a660"
      },
      "execution_count": null,
      "outputs": [
        {
          "output_type": "stream",
          "name": "stdout",
          "text": [
            "+----------+------------------+--------------+------------------+------------------+------------------+\n",
            "|id_missing|    weight_missing|height_missing|       age_missing|    gender_missing|    income_missing|\n",
            "+----------+------------------+--------------+------------------+------------------+------------------+\n",
            "|       0.0|0.1428571428571429|           0.0|0.2857142857142857|0.1428571428571429|0.7142857142857143|\n",
            "+----------+------------------+--------------+------------------+------------------+------------------+\n",
            "\n"
          ]
        }
      ]
    },
    {
      "cell_type": "code",
      "source": [
        "# if row contain more than 3 NULL values delete it\n",
        "\n",
        "df_miss=df_miss.drop('income')\n",
        "df_miss=df_miss.dropna(thresh=3)\n",
        "df_miss.show()"
      ],
      "metadata": {
        "colab": {
          "base_uri": "https://localhost:8080/"
        },
        "id": "BKLSDPCFXKEu",
        "outputId": "9a34bd82-0693-41f9-bab7-6d94c279178c"
      },
      "execution_count": null,
      "outputs": [
        {
          "output_type": "stream",
          "name": "stdout",
          "text": [
            "+---+------+------+----+------+\n",
            "| id|weight|height| age|gender|\n",
            "+---+------+------+----+------+\n",
            "|  1| 143.5|   5.6|  28|     M|\n",
            "|  2| 167.2|   5.4|  45|     M|\n",
            "|  4| 144.5|   5.9|  33|     M|\n",
            "|  5| 133.2|   5.7|  54|     F|\n",
            "|  6| 124.1|   5.2|null|     F|\n",
            "|  7| 129.2|   5.3|  42|     M|\n",
            "+---+------+------+----+------+\n",
            "\n"
          ]
        }
      ]
    },
    {
      "cell_type": "code",
      "source": [
        "#replace null with average if that row\n",
        "\n",
        "avgdf=df_miss.agg({'age':'mean'})\n",
        "avgage=avgdf.collect()[0][0]\n",
        "avgage\n",
        "avgdf.show()\n",
        "avgdf.collect()[0]"
      ],
      "metadata": {
        "colab": {
          "base_uri": "https://localhost:8080/"
        },
        "id": "mAHE84gAX-oE",
        "outputId": "8a8ec9f3-13bd-42c0-f022-97d0daa90d5f"
      },
      "execution_count": null,
      "outputs": [
        {
          "output_type": "stream",
          "name": "stdout",
          "text": [
            "+--------+\n",
            "|avg(age)|\n",
            "+--------+\n",
            "|    40.4|\n",
            "+--------+\n",
            "\n"
          ]
        },
        {
          "output_type": "execute_result",
          "data": {
            "text/plain": [
              "Row(avg(age)=40.4)"
            ]
          },
          "metadata": {},
          "execution_count": 22
        }
      ]
    },
    {
      "cell_type": "code",
      "source": [
        "#replacing null\n",
        "\n",
        "df_miss=df_miss.fillna(avgage)\n",
        "df_miss.show()"
      ],
      "metadata": {
        "colab": {
          "base_uri": "https://localhost:8080/"
        },
        "id": "jc3WI5AZZH4S",
        "outputId": "f50220c9-d6b5-4553-b430-0bf5fcd29bf5"
      },
      "execution_count": null,
      "outputs": [
        {
          "output_type": "stream",
          "name": "stdout",
          "text": [
            "+---+------+------+---+------+\n",
            "| id|weight|height|age|gender|\n",
            "+---+------+------+---+------+\n",
            "|  1| 143.5|   5.6| 28|     M|\n",
            "|  2| 167.2|   5.4| 45|     M|\n",
            "|  4| 144.5|   5.9| 33|     M|\n",
            "|  5| 133.2|   5.7| 54|     F|\n",
            "|  6| 124.1|   5.2| 40|     F|\n",
            "|  7| 129.2|   5.3| 42|     M|\n",
            "+---+------+------+---+------+\n",
            "\n"
          ]
        }
      ]
    },
    {
      "cell_type": "code",
      "source": [
        "#Define schema for boston csv\n",
        "import pyspark.sql.types as typ\n",
        "labels=[\n",
        "        ('crim',typ.DoubleType()),\n",
        "        ('zn',typ.DoubleType()),\n",
        "        ('indus',typ.DoubleType()),\n",
        "        ('chas',typ.DoubleType()),\n",
        "        ('nox',typ.DoubleType()),\n",
        "        ('rm',typ.DoubleType()),\n",
        "        ('age',typ.DoubleType()),\n",
        "        ('dis',typ.DoubleType()),\n",
        "        ('rad',typ.DoubleType()),\n",
        "        ('tax',typ.DoubleType()),\n",
        "        ('ptratio',typ.DoubleType()),\n",
        "        ('black',typ.DoubleType()),\n",
        "        ('lstat',typ.DoubleType()),\n",
        "        ('medv',typ.DoubleType())\n",
        "\n",
        "        ]\n",
        "schema = typ.StructType([\n",
        "typ.StructField(e[0], e[1], False) for e in labels\n",
        "])"
      ],
      "metadata": {
        "id": "XDs5joI7bgUP"
      },
      "execution_count": null,
      "outputs": []
    },
    {
      "cell_type": "code",
      "source": [
        "#reading boston csv\n",
        "\n",
        "from pyspark.sql.session import SparkSession\n",
        "sess=SparkSession.builder.getOrCreate()\n",
        "boston=sess.read.csv(\"/content/sample_data/Boston - Boston.csv\",header=True,schema=schema)\n",
        "\n",
        "boston.count()\n",
        "boston.printSchema()\n",
        "len(boston.columns)"
      ],
      "metadata": {
        "colab": {
          "base_uri": "https://localhost:8080/"
        },
        "id": "N9mfkB7Eb0Pq",
        "outputId": "dac73bab-0fb2-43a6-f58f-6f48ed3f7158"
      },
      "execution_count": null,
      "outputs": [
        {
          "output_type": "stream",
          "name": "stdout",
          "text": [
            "root\n",
            " |-- crim: double (nullable = true)\n",
            " |-- zn: double (nullable = true)\n",
            " |-- indus: double (nullable = true)\n",
            " |-- chas: double (nullable = true)\n",
            " |-- nox: double (nullable = true)\n",
            " |-- rm: double (nullable = true)\n",
            " |-- age: double (nullable = true)\n",
            " |-- dis: double (nullable = true)\n",
            " |-- rad: double (nullable = true)\n",
            " |-- tax: double (nullable = true)\n",
            " |-- ptratio: double (nullable = true)\n",
            " |-- black: double (nullable = true)\n",
            " |-- lstat: double (nullable = true)\n",
            " |-- medv: double (nullable = true)\n",
            "\n"
          ]
        },
        {
          "output_type": "execute_result",
          "data": {
            "text/plain": [
              "14"
            ]
          },
          "metadata": {},
          "execution_count": 6
        }
      ]
    },
    {
      "cell_type": "code",
      "source": [
        "#Drop duplicates and null values\n",
        "\n",
        "boston.count(),boston.dropDuplicates().count(),boston.dropna().count()"
      ],
      "metadata": {
        "colab": {
          "base_uri": "https://localhost:8080/"
        },
        "id": "kdKcY98wcc9D",
        "outputId": "28264c38-a1e3-4b06-fac9-592413d6a9c8"
      },
      "execution_count": null,
      "outputs": [
        {
          "output_type": "execute_result",
          "data": {
            "text/plain": [
              "(506, 506, 506)"
            ]
          },
          "metadata": {},
          "execution_count": 7
        }
      ]
    },
    {
      "cell_type": "code",
      "source": [
        "boston.show(3)"
      ],
      "metadata": {
        "colab": {
          "base_uri": "https://localhost:8080/"
        },
        "id": "6DSMpdPtdIUe",
        "outputId": "d2171922-6201-4324-f532-57700d45db4f"
      },
      "execution_count": null,
      "outputs": [
        {
          "output_type": "stream",
          "name": "stdout",
          "text": [
            "+-------+----+-----+----+-----+-----+----+------+---+-----+-------+------+-----+----+\n",
            "|   crim|  zn|indus|chas|  nox|   rm| age|   dis|rad|  tax|ptratio| black|lstat|medv|\n",
            "+-------+----+-----+----+-----+-----+----+------+---+-----+-------+------+-----+----+\n",
            "|0.00632|18.0| 2.31| 0.0|0.538|6.575|65.2|  4.09|1.0|296.0|   15.3| 396.9| 4.98|24.0|\n",
            "|0.02731| 0.0| 7.07| 0.0|0.469|6.421|78.9|4.9671|2.0|242.0|   17.8| 396.9| 9.14|21.6|\n",
            "|0.02729| 0.0| 7.07| 0.0|0.469|7.185|61.1|4.9671|2.0|242.0|   17.8|392.83| 4.03|34.7|\n",
            "+-------+----+-----+----+-----+-----+----+------+---+-----+-------+------+-----+----+\n",
            "only showing top 3 rows\n",
            "\n"
          ]
        }
      ]
    },
    {
      "cell_type": "code",
      "source": [
        "#Compute mean and variance stastics\n",
        "\n",
        "import pyspark.mllib.stat as st\n",
        "numeric_rdd=boston.rdd\n",
        "numeric_rdd=numeric_rdd.map(lambda row:[e for e in row])\n",
        "numeric_rdd.take(3)\n"
      ],
      "metadata": {
        "colab": {
          "base_uri": "https://localhost:8080/"
        },
        "id": "1Zx0ABA1csR8",
        "outputId": "b6524302-b893-4fc8-d888-96ab51f7e56a"
      },
      "execution_count": null,
      "outputs": [
        {
          "output_type": "execute_result",
          "data": {
            "text/plain": [
              "[[0.00632,\n",
              "  18.0,\n",
              "  2.31,\n",
              "  0.0,\n",
              "  0.538,\n",
              "  6.575,\n",
              "  65.2,\n",
              "  4.09,\n",
              "  1.0,\n",
              "  296.0,\n",
              "  15.3,\n",
              "  396.9,\n",
              "  4.98,\n",
              "  24.0],\n",
              " [0.02731,\n",
              "  0.0,\n",
              "  7.07,\n",
              "  0.0,\n",
              "  0.469,\n",
              "  6.421,\n",
              "  78.9,\n",
              "  4.9671,\n",
              "  2.0,\n",
              "  242.0,\n",
              "  17.8,\n",
              "  396.9,\n",
              "  9.14,\n",
              "  21.6],\n",
              " [0.02729,\n",
              "  0.0,\n",
              "  7.07,\n",
              "  0.0,\n",
              "  0.469,\n",
              "  7.185,\n",
              "  61.1,\n",
              "  4.9671,\n",
              "  2.0,\n",
              "  242.0,\n",
              "  17.8,\n",
              "  392.83,\n",
              "  4.03,\n",
              "  34.7]]"
            ]
          },
          "metadata": {},
          "execution_count": 8
        }
      ]
    },
    {
      "cell_type": "code",
      "source": [
        "mllib_stats = st.Statistics.colStats(numeric_rdd)\n",
        "mllib_stats.mean(), mllib_stats.variance()"
      ],
      "metadata": {
        "colab": {
          "base_uri": "https://localhost:8080/"
        },
        "id": "PfZ9CBUNdTi5",
        "outputId": "972b3596-7e59-47d2-9e8f-b2663d7967cd"
      },
      "execution_count": null,
      "outputs": [
        {
          "output_type": "execute_result",
          "data": {
            "text/plain": [
              "(array([3.61352356e+00, 1.13636364e+01, 1.11367787e+01, 6.91699605e-02,\n",
              "        5.54695059e-01, 6.28463439e+00, 6.85749012e+01, 3.79504269e+00,\n",
              "        9.54940711e+00, 4.08237154e+02, 1.84555336e+01, 3.56674032e+02,\n",
              "        1.26530632e+01, 2.25328063e+01]),\n",
              " array([7.39865782e+01, 5.43936814e+02, 4.70644425e+01, 6.45129730e-02,\n",
              "        1.34276357e-02, 4.93670850e-01, 7.92358399e+02, 4.43401514e+00,\n",
              "        7.58163660e+01, 2.84047595e+04, 4.68698912e+00, 8.33475226e+03,\n",
              "        5.09947595e+01, 8.45867236e+01]))"
            ]
          },
          "metadata": {},
          "execution_count": 9
        }
      ]
    },
    {
      "cell_type": "code",
      "source": [
        "# computing correlation matrix\n",
        "\n",
        "corrs=st.Statistics.corr(numeric_rdd)"
      ],
      "metadata": {
        "id": "J9T2w0_4dq7J"
      },
      "execution_count": null,
      "outputs": []
    },
    {
      "cell_type": "code",
      "source": [
        "len(corrs)\n",
        "corrs\n",
        "corrs[-1]"
      ],
      "metadata": {
        "colab": {
          "base_uri": "https://localhost:8080/"
        },
        "id": "p4ezDrHgd35k",
        "outputId": "3153d117-8bf7-46b9-9f02-ff47fa21ddee"
      },
      "execution_count": null,
      "outputs": [
        {
          "output_type": "execute_result",
          "data": {
            "text/plain": [
              "array([-0.38830461,  0.36044534, -0.48372516,  0.17526018, -0.42732077,\n",
              "        0.69535995, -0.37695457,  0.24992873, -0.38162623, -0.46853593,\n",
              "       -0.50778669,  0.33346082, -0.73766273,  1.        ])"
            ]
          },
          "metadata": {},
          "execution_count": 11
        }
      ]
    },
    {
      "cell_type": "code",
      "source": [
        "#Filter columns based on threshold value of correlation\n",
        "#for example cut off as >=0.4\n",
        "# consider:indus,nox,rm,tax,ptratio,lstat\n",
        "#Form input feature vectors and output variable (target variable)\n",
        "from pyspark.ml.feature import VectorAssembler\n",
        "vectorAssembler = VectorAssembler(inputCols = ['crim','zn','indus','nox','rm',\n",
        "'rad',\n",
        "'tax',\n",
        "'ptratio',\n",
        "'lstat'], outputCol = 'features')\n",
        "boston_vector = vectorAssembler.transform(boston)\n",
        "boston_vector.show(3,truncate=False)"
      ],
      "metadata": {
        "colab": {
          "base_uri": "https://localhost:8080/"
        },
        "id": "3uP0034TeaGR",
        "outputId": "2ccc5e44-2364-4082-efa8-75955dec4d89"
      },
      "execution_count": null,
      "outputs": [
        {
          "output_type": "stream",
          "name": "stdout",
          "text": [
            "+-------+----+-----+----+-----+-----+----+------+---+-----+-------+------+-----+----+---------------------------------------------------+\n",
            "|crim   |zn  |indus|chas|nox  |rm   |age |dis   |rad|tax  |ptratio|black |lstat|medv|features                                           |\n",
            "+-------+----+-----+----+-----+-----+----+------+---+-----+-------+------+-----+----+---------------------------------------------------+\n",
            "|0.00632|18.0|2.31 |0.0 |0.538|6.575|65.2|4.09  |1.0|296.0|15.3   |396.9 |4.98 |24.0|[0.00632,18.0,2.31,0.538,6.575,1.0,296.0,15.3,4.98]|\n",
            "|0.02731|0.0 |7.07 |0.0 |0.469|6.421|78.9|4.9671|2.0|242.0|17.8   |396.9 |9.14 |21.6|[0.02731,0.0,7.07,0.469,6.421,2.0,242.0,17.8,9.14] |\n",
            "|0.02729|0.0 |7.07 |0.0 |0.469|7.185|61.1|4.9671|2.0|242.0|17.8   |392.83|4.03 |34.7|[0.02729,0.0,7.07,0.469,7.185,2.0,242.0,17.8,4.03] |\n",
            "+-------+----+-----+----+-----+-----+----+------+---+-----+-------+------+-----+----+---------------------------------------------------+\n",
            "only showing top 3 rows\n",
            "\n"
          ]
        }
      ]
    },
    {
      "cell_type": "code",
      "source": [
        "boston_vector.select(['features','medv']).show(3,truncate=False)"
      ],
      "metadata": {
        "colab": {
          "base_uri": "https://localhost:8080/"
        },
        "id": "G7x26k-Ghe4i",
        "outputId": "b016d618-2abf-4622-fbde-d0defca3c9eb"
      },
      "execution_count": null,
      "outputs": [
        {
          "output_type": "stream",
          "name": "stdout",
          "text": [
            "+---------------------------------------------------+----+\n",
            "|features                                           |medv|\n",
            "+---------------------------------------------------+----+\n",
            "|[0.00632,18.0,2.31,0.538,6.575,1.0,296.0,15.3,4.98]|24.0|\n",
            "|[0.02731,0.0,7.07,0.469,6.421,2.0,242.0,17.8,9.14] |21.6|\n",
            "|[0.02729,0.0,7.07,0.469,7.185,2.0,242.0,17.8,4.03] |34.7|\n",
            "+---------------------------------------------------+----+\n",
            "only showing top 3 rows\n",
            "\n"
          ]
        }
      ]
    },
    {
      "cell_type": "code",
      "source": [
        "#Split into training and test data frames\n",
        "splits=boston_vector.randomSplit([0.7, 0.3])\n",
        "boston_train=splits[0]\n",
        "boston_test=splits[1]\n",
        "boston_train.count(), boston_test.count()"
      ],
      "metadata": {
        "colab": {
          "base_uri": "https://localhost:8080/"
        },
        "id": "ZZdTJAqEiLJ1",
        "outputId": "6e75ff3d-dd93-40b8-da92-ad4cda2c8db2"
      },
      "execution_count": null,
      "outputs": [
        {
          "output_type": "execute_result",
          "data": {
            "text/plain": [
              "(367, 139)"
            ]
          },
          "metadata": {},
          "execution_count": 14
        }
      ]
    },
    {
      "cell_type": "code",
      "source": [
        "#Apply Linear Regression model\n",
        "from pyspark.ml.regression import LinearRegression\n",
        "lr = LinearRegression(featuresCol = 'features', labelCol='medv', maxIter=10, regParam=0.3, elasticNetParam=0.8)\n",
        "lr_model = lr.fit(boston_train)\n",
        "print(\"Weights: \" + str(lr_model.coefficients))\n",
        "print(\"Bias: \" + str(lr_model.intercept))"
      ],
      "metadata": {
        "colab": {
          "base_uri": "https://localhost:8080/"
        },
        "id": "IJKxVRBeizYp",
        "outputId": "73b0336d-3d57-4e1a-92a4-377fb4577a0b"
      },
      "execution_count": null,
      "outputs": [
        {
          "output_type": "stream",
          "name": "stdout",
          "text": [
            "Weights: [-0.05319890090534151,0.0,0.0,0.0,4.377895833932924,0.0,0.0,-0.8864220370247602,-0.5509900961448162]\n",
            "Bias: 18.593353252345143\n"
          ]
        }
      ]
    },
    {
      "cell_type": "code",
      "source": [
        "# Perform predictions\n",
        "lr_predictions = lr_model.transform(boston_test)\n",
        "lr_predictions.select(\"prediction\",\"medv\",\"features\").show(5)"
      ],
      "metadata": {
        "colab": {
          "base_uri": "https://localhost:8080/"
        },
        "id": "Hc2s5fk5jIAJ",
        "outputId": "132b104c-6074-40b9-8f6d-b8731898e10e"
      },
      "execution_count": null,
      "outputs": [
        {
          "output_type": "stream",
          "name": "stdout",
          "text": [
            "+------------------+----+--------------------+\n",
            "|        prediction|medv|            features|\n",
            "+------------------+----+--------------------+\n",
            "|31.071494298120385|24.0|[0.00632,18.0,2.3...|\n",
            "| 28.74642635100971|22.0|[0.01096,55.0,2.2...|\n",
            "| 38.66763034903876|50.0|[0.01381,80.0,0.4...|\n",
            "|39.482155021738755|50.0|[0.01501,90.0,1.2...|\n",
            "| 30.49829719175679|30.1|[0.01709,90.0,2.0...|\n",
            "+------------------+----+--------------------+\n",
            "only showing top 5 rows\n",
            "\n"
          ]
        }
      ]
    },
    {
      "cell_type": "code",
      "source": [
        "# Evaluate prediction accuracy (R2)\n",
        "from pyspark.ml.evaluation import RegressionEvaluator\n",
        "lr_evaluator = RegressionEvaluator(predictionCol=\"prediction\", \\\n",
        "                 labelCol=\"medv\",metricName=\"r2\")\n",
        "print(lr_evaluator.evaluate(lr_predictions))"
      ],
      "metadata": {
        "colab": {
          "base_uri": "https://localhost:8080/"
        },
        "id": "7lGkDz4UjZpV",
        "outputId": "a9510f64-49fb-40f4-c8d2-024908e3556d"
      },
      "execution_count": null,
      "outputs": [
        {
          "output_type": "stream",
          "name": "stdout",
          "text": [
            "0.6248024320672854\n"
          ]
        }
      ]
    },
    {
      "cell_type": "code",
      "source": [
        "# DAY-05\n",
        "# we need to install pyspark after every shutdown of our laptop or computer\n",
        "# all machine learning except two columns INPUT and OUTPUT\n",
        "\n",
        "#Apply decision tree model\n",
        "\n",
        "from pyspark.ml.regression import DecisionTreeRegressor\n",
        "dt=DecisionTreeRegressor(featuresCol='features',labelCol='medv')\n",
        "dt_model=dt.fit(boston_train)\n"
      ],
      "metadata": {
        "id": "yGBgRO_ebLef"
      },
      "execution_count": null,
      "outputs": []
    },
    {
      "cell_type": "code",
      "source": [
        "#perform predictions\n",
        "\n",
        "dt_predictions=dt_model.transform(boston_test)\n",
        "dt_predictions.show(5)"
      ],
      "metadata": {
        "colab": {
          "base_uri": "https://localhost:8080/"
        },
        "id": "l-5aPJLxhT2o",
        "outputId": "8868f4f0-23af-4788-d220-577321552f10"
      },
      "execution_count": null,
      "outputs": [
        {
          "output_type": "stream",
          "name": "stdout",
          "text": [
            "+-------+----+-----+----+-----+-----+----+-------+---+-----+-------+------+-----+----+--------------------+------------------+\n",
            "|   crim|  zn|indus|chas|  nox|   rm| age|    dis|rad|  tax|ptratio| black|lstat|medv|            features|        prediction|\n",
            "+-------+----+-----+----+-----+-----+----+-------+---+-----+-------+------+-----+----+--------------------+------------------+\n",
            "|0.00632|18.0| 2.31| 0.0|0.538|6.575|65.2|   4.09|1.0|296.0|   15.3| 396.9| 4.98|24.0|[0.00632,18.0,2.3...|27.297499999999996|\n",
            "|0.01096|55.0| 2.25| 0.0|0.389|6.453|31.9| 7.3073|1.0|300.0|   15.3|394.72| 8.23|22.0|[0.01096,55.0,2.2...|22.775806451612905|\n",
            "|0.01381|80.0| 0.46| 0.0|0.422|7.875|32.0| 5.6484|4.0|255.0|   14.4|394.23| 2.97|50.0|[0.01381,80.0,0.4...| 46.96666666666667|\n",
            "|0.01501|90.0| 1.21| 1.0|0.401|7.923|24.8|  5.885|1.0|198.0|   13.6|395.52| 3.16|50.0|[0.01501,90.0,1.2...| 46.96666666666667|\n",
            "|0.01709|90.0| 2.02| 0.0| 0.41|6.728|36.1|12.1265|5.0|187.0|   17.0|384.46|  4.5|30.1|[0.01709,90.0,2.0...|27.297499999999996|\n",
            "+-------+----+-----+----+-----+-----+----+-------+---+-----+-------+------+-----+----+--------------------+------------------+\n",
            "only showing top 5 rows\n",
            "\n"
          ]
        }
      ]
    },
    {
      "cell_type": "code",
      "source": [
        "#Evaluate prediction accuracy\n",
        "\n",
        "dt_evaluator = RegressionEvaluator(\n",
        "    labelCol=\"medv\", predictionCol=\"prediction\", metricName=\"r2\")\n",
        "r2 = dt_evaluator.evaluate(dt_predictions)\n",
        "print(r2)"
      ],
      "metadata": {
        "colab": {
          "base_uri": "https://localhost:8080/"
        },
        "id": "_F4FbfHRhuJ-",
        "outputId": "cba9dffb-e7d0-485c-8f43-bc06b78263db"
      },
      "execution_count": null,
      "outputs": [
        {
          "output_type": "stream",
          "name": "stdout",
          "text": [
            "0.8252593382225055\n"
          ]
        }
      ]
    },
    {
      "cell_type": "code",
      "source": [
        "#apply gradient boost regression model\n",
        "\n",
        "from pyspark.ml.regression import GBTRegressor\n",
        "gbt=GBTRegressor(featuresCol='features',labelCol='medv',maxIter=50)\n",
        "gbt_model=gbt.fit(boston_train)"
      ],
      "metadata": {
        "id": "5ccAlylliB1I"
      },
      "execution_count": null,
      "outputs": []
    },
    {
      "cell_type": "code",
      "source": [
        "#perform predictions\n",
        "\n",
        "gbt_predictions = gbt_model.transform(boston_test)\n",
        "gbt_predictions.select('prediction', 'medv', 'features').show(5)"
      ],
      "metadata": {
        "colab": {
          "base_uri": "https://localhost:8080/"
        },
        "id": "gemxrr0xjHMr",
        "outputId": "73274114-0522-4012-a297-2fcb7ce5850d"
      },
      "execution_count": null,
      "outputs": [
        {
          "output_type": "stream",
          "name": "stdout",
          "text": [
            "+------------------+----+--------------------+\n",
            "|        prediction|medv|            features|\n",
            "+------------------+----+--------------------+\n",
            "| 24.19151107776069|24.0|[0.00632,18.0,2.3...|\n",
            "| 21.02112640494424|22.0|[0.01096,55.0,2.2...|\n",
            "| 49.82111345159569|50.0|[0.01381,80.0,0.4...|\n",
            "|48.736355330965225|50.0|[0.01501,90.0,1.2...|\n",
            "|30.000512755819297|30.1|[0.01709,90.0,2.0...|\n",
            "+------------------+----+--------------------+\n",
            "only showing top 5 rows\n",
            "\n"
          ]
        }
      ]
    },
    {
      "cell_type": "code",
      "source": [
        "#evaluate prediction accuracy\n",
        "\n",
        "gbt_evaluator = RegressionEvaluator(\n",
        "    labelCol=\"medv\", predictionCol=\"prediction\", metricName=\"r2\")\n",
        "r2 = gbt_evaluator.evaluate(gbt_predictions)\n",
        "print(r2)"
      ],
      "metadata": {
        "colab": {
          "base_uri": "https://localhost:8080/"
        },
        "id": "Kv1GauU6jRMk",
        "outputId": "e9d664b7-f3e2-4035-d063-d6b7b5477a76"
      },
      "execution_count": null,
      "outputs": [
        {
          "output_type": "stream",
          "name": "stdout",
          "text": [
            "0.8393493174373484\n"
          ]
        }
      ]
    },
    {
      "cell_type": "code",
      "source": [
        "import pyspark.sql.types as typ\n",
        "labels=[\n",
        "        ('make',typ.StringType()),\n",
        "        ('model',typ.StringType()),\n",
        "        ('year',typ.IntegerType()),\n",
        "        ('fueltype',typ.StringType()),\n",
        "        ('ehp',typ.IntegerType()),\n",
        "        ('nc',typ.IntegerType()),\n",
        "        ('tt',typ.StringType()),\n",
        "        ('dw',typ.StringType()),\n",
        "        ('nod',typ.IntegerType()),\n",
        "        ('mcat',typ.StringType()),\n",
        "        ('vsize',typ.StringType()),\n",
        "        ('vstyle',typ.StringType()),\n",
        "        ('hmil',typ.IntegerType()),\n",
        "        ('cmil',typ.IntegerType()),\n",
        "        ('pop',typ.IntegerType()),\n",
        "        ('msrp',typ.IntegerType()),\n",
        "\n",
        "        ]\n",
        "schema = typ.StructType([\n",
        "typ.StructField(e[0], e[1], False) for e in labels\n",
        "])"
      ],
      "metadata": {
        "id": "Mk2GoA_ojtTz"
      },
      "execution_count": null,
      "outputs": []
    },
    {
      "cell_type": "code",
      "source": [
        "#reading car csv using pyspark\n",
        "\n",
        "from pyspark import SparkContext, SQLContext\n",
        "from pyspark.sql.session import SparkSession\n",
        "sess=SparkSession.builder.getOrCreate()\n",
        "cars=sess.read.csv(\"/content/sample_data/cars - cars.csv\",header=True,schema=schema)"
      ],
      "metadata": {
        "id": "8VUL_7XW7XQs"
      },
      "execution_count": 5,
      "outputs": []
    },
    {
      "cell_type": "code",
      "source": [
        "cars.count()\n",
        "len(cars.columns)\n",
        "cars.describe() #to check data type of all variables\n",
        "cars.describe().toPandas().transpose() #topandas will show data in the table form"
      ],
      "metadata": {
        "colab": {
          "base_uri": "https://localhost:8080/",
          "height": 582
        },
        "id": "yRgniIWn7nIW",
        "outputId": "2e2c8121-b3e7-4159-f6a2-b2fa2dfbccb7"
      },
      "execution_count": null,
      "outputs": [
        {
          "output_type": "execute_result",
          "data": {
            "text/plain": [
              "              0                   1                   2                 3  \\\n",
              "summary   count                mean              stddev               min   \n",
              "make      11914                None                None             Acura   \n",
              "model     11914   745.5822222222222  1490.8280590623795            09-Mar   \n",
              "year      11914   2010.384337753903  7.5797398875957995              1990   \n",
              "fueltype  11911                None                None            diesel   \n",
              "ehp       11845  249.38607007176023  109.19187025917194                55   \n",
              "nc        11884   5.628828677213059    1.78055934824622                 0   \n",
              "tt        11914                None                None  AUTOMATED_MANUAL   \n",
              "dw        11914                None                None   all wheel drive   \n",
              "nod       11908  3.4360933825999327  0.8813153865835529                 2   \n",
              "mcat      11914                None                None         Crossover   \n",
              "vsize     11914                None                None           Compact   \n",
              "vstyle    11914                None                None     2dr Hatchback   \n",
              "hmil      11914  26.637485311398354   8.863000766979422                12   \n",
              "cmil      11914   19.73325499412456   8.987798160299237                 7   \n",
              "pop       11914  1554.9111969111968  1441.8553466274648                 2   \n",
              "msrp      11914  40594.737032063116   60109.10360365422              2000   \n",
              "\n",
              "                           4  \n",
              "summary                  max  \n",
              "make                   Volvo  \n",
              "model                     xD  \n",
              "year                    2017  \n",
              "fueltype    regular unleaded  \n",
              "ehp                     1001  \n",
              "nc                        16  \n",
              "tt                   UNKNOWN  \n",
              "dw          rear wheel drive  \n",
              "nod                        4  \n",
              "mcat      Performance,Hybrid  \n",
              "vsize                Midsize  \n",
              "vstyle                 Wagon  \n",
              "hmil                     354  \n",
              "cmil                     137  \n",
              "pop                     5657  \n",
              "msrp                 2065902  "
            ],
            "text/html": [
              "\n",
              "  <div id=\"df-209c389c-ad73-4272-8b63-464dddcfcbcb\" class=\"colab-df-container\">\n",
              "    <div>\n",
              "<style scoped>\n",
              "    .dataframe tbody tr th:only-of-type {\n",
              "        vertical-align: middle;\n",
              "    }\n",
              "\n",
              "    .dataframe tbody tr th {\n",
              "        vertical-align: top;\n",
              "    }\n",
              "\n",
              "    .dataframe thead th {\n",
              "        text-align: right;\n",
              "    }\n",
              "</style>\n",
              "<table border=\"1\" class=\"dataframe\">\n",
              "  <thead>\n",
              "    <tr style=\"text-align: right;\">\n",
              "      <th></th>\n",
              "      <th>0</th>\n",
              "      <th>1</th>\n",
              "      <th>2</th>\n",
              "      <th>3</th>\n",
              "      <th>4</th>\n",
              "    </tr>\n",
              "  </thead>\n",
              "  <tbody>\n",
              "    <tr>\n",
              "      <th>summary</th>\n",
              "      <td>count</td>\n",
              "      <td>mean</td>\n",
              "      <td>stddev</td>\n",
              "      <td>min</td>\n",
              "      <td>max</td>\n",
              "    </tr>\n",
              "    <tr>\n",
              "      <th>make</th>\n",
              "      <td>11914</td>\n",
              "      <td>None</td>\n",
              "      <td>None</td>\n",
              "      <td>Acura</td>\n",
              "      <td>Volvo</td>\n",
              "    </tr>\n",
              "    <tr>\n",
              "      <th>model</th>\n",
              "      <td>11914</td>\n",
              "      <td>745.5822222222222</td>\n",
              "      <td>1490.8280590623795</td>\n",
              "      <td>09-Mar</td>\n",
              "      <td>xD</td>\n",
              "    </tr>\n",
              "    <tr>\n",
              "      <th>year</th>\n",
              "      <td>11914</td>\n",
              "      <td>2010.384337753903</td>\n",
              "      <td>7.5797398875957995</td>\n",
              "      <td>1990</td>\n",
              "      <td>2017</td>\n",
              "    </tr>\n",
              "    <tr>\n",
              "      <th>fueltype</th>\n",
              "      <td>11911</td>\n",
              "      <td>None</td>\n",
              "      <td>None</td>\n",
              "      <td>diesel</td>\n",
              "      <td>regular unleaded</td>\n",
              "    </tr>\n",
              "    <tr>\n",
              "      <th>ehp</th>\n",
              "      <td>11845</td>\n",
              "      <td>249.38607007176023</td>\n",
              "      <td>109.19187025917194</td>\n",
              "      <td>55</td>\n",
              "      <td>1001</td>\n",
              "    </tr>\n",
              "    <tr>\n",
              "      <th>nc</th>\n",
              "      <td>11884</td>\n",
              "      <td>5.628828677213059</td>\n",
              "      <td>1.78055934824622</td>\n",
              "      <td>0</td>\n",
              "      <td>16</td>\n",
              "    </tr>\n",
              "    <tr>\n",
              "      <th>tt</th>\n",
              "      <td>11914</td>\n",
              "      <td>None</td>\n",
              "      <td>None</td>\n",
              "      <td>AUTOMATED_MANUAL</td>\n",
              "      <td>UNKNOWN</td>\n",
              "    </tr>\n",
              "    <tr>\n",
              "      <th>dw</th>\n",
              "      <td>11914</td>\n",
              "      <td>None</td>\n",
              "      <td>None</td>\n",
              "      <td>all wheel drive</td>\n",
              "      <td>rear wheel drive</td>\n",
              "    </tr>\n",
              "    <tr>\n",
              "      <th>nod</th>\n",
              "      <td>11908</td>\n",
              "      <td>3.4360933825999327</td>\n",
              "      <td>0.8813153865835529</td>\n",
              "      <td>2</td>\n",
              "      <td>4</td>\n",
              "    </tr>\n",
              "    <tr>\n",
              "      <th>mcat</th>\n",
              "      <td>11914</td>\n",
              "      <td>None</td>\n",
              "      <td>None</td>\n",
              "      <td>Crossover</td>\n",
              "      <td>Performance,Hybrid</td>\n",
              "    </tr>\n",
              "    <tr>\n",
              "      <th>vsize</th>\n",
              "      <td>11914</td>\n",
              "      <td>None</td>\n",
              "      <td>None</td>\n",
              "      <td>Compact</td>\n",
              "      <td>Midsize</td>\n",
              "    </tr>\n",
              "    <tr>\n",
              "      <th>vstyle</th>\n",
              "      <td>11914</td>\n",
              "      <td>None</td>\n",
              "      <td>None</td>\n",
              "      <td>2dr Hatchback</td>\n",
              "      <td>Wagon</td>\n",
              "    </tr>\n",
              "    <tr>\n",
              "      <th>hmil</th>\n",
              "      <td>11914</td>\n",
              "      <td>26.637485311398354</td>\n",
              "      <td>8.863000766979422</td>\n",
              "      <td>12</td>\n",
              "      <td>354</td>\n",
              "    </tr>\n",
              "    <tr>\n",
              "      <th>cmil</th>\n",
              "      <td>11914</td>\n",
              "      <td>19.73325499412456</td>\n",
              "      <td>8.987798160299237</td>\n",
              "      <td>7</td>\n",
              "      <td>137</td>\n",
              "    </tr>\n",
              "    <tr>\n",
              "      <th>pop</th>\n",
              "      <td>11914</td>\n",
              "      <td>1554.9111969111968</td>\n",
              "      <td>1441.8553466274648</td>\n",
              "      <td>2</td>\n",
              "      <td>5657</td>\n",
              "    </tr>\n",
              "    <tr>\n",
              "      <th>msrp</th>\n",
              "      <td>11914</td>\n",
              "      <td>40594.737032063116</td>\n",
              "      <td>60109.10360365422</td>\n",
              "      <td>2000</td>\n",
              "      <td>2065902</td>\n",
              "    </tr>\n",
              "  </tbody>\n",
              "</table>\n",
              "</div>\n",
              "    <div class=\"colab-df-buttons\">\n",
              "\n",
              "  <div class=\"colab-df-container\">\n",
              "    <button class=\"colab-df-convert\" onclick=\"convertToInteractive('df-209c389c-ad73-4272-8b63-464dddcfcbcb')\"\n",
              "            title=\"Convert this dataframe to an interactive table.\"\n",
              "            style=\"display:none;\">\n",
              "\n",
              "  <svg xmlns=\"http://www.w3.org/2000/svg\" height=\"24px\" viewBox=\"0 -960 960 960\">\n",
              "    <path d=\"M120-120v-720h720v720H120Zm60-500h600v-160H180v160Zm220 220h160v-160H400v160Zm0 220h160v-160H400v160ZM180-400h160v-160H180v160Zm440 0h160v-160H620v160ZM180-180h160v-160H180v160Zm440 0h160v-160H620v160Z\"/>\n",
              "  </svg>\n",
              "    </button>\n",
              "\n",
              "  <style>\n",
              "    .colab-df-container {\n",
              "      display:flex;\n",
              "      gap: 12px;\n",
              "    }\n",
              "\n",
              "    .colab-df-convert {\n",
              "      background-color: #E8F0FE;\n",
              "      border: none;\n",
              "      border-radius: 50%;\n",
              "      cursor: pointer;\n",
              "      display: none;\n",
              "      fill: #1967D2;\n",
              "      height: 32px;\n",
              "      padding: 0 0 0 0;\n",
              "      width: 32px;\n",
              "    }\n",
              "\n",
              "    .colab-df-convert:hover {\n",
              "      background-color: #E2EBFA;\n",
              "      box-shadow: 0px 1px 2px rgba(60, 64, 67, 0.3), 0px 1px 3px 1px rgba(60, 64, 67, 0.15);\n",
              "      fill: #174EA6;\n",
              "    }\n",
              "\n",
              "    .colab-df-buttons div {\n",
              "      margin-bottom: 4px;\n",
              "    }\n",
              "\n",
              "    [theme=dark] .colab-df-convert {\n",
              "      background-color: #3B4455;\n",
              "      fill: #D2E3FC;\n",
              "    }\n",
              "\n",
              "    [theme=dark] .colab-df-convert:hover {\n",
              "      background-color: #434B5C;\n",
              "      box-shadow: 0px 1px 3px 1px rgba(0, 0, 0, 0.15);\n",
              "      filter: drop-shadow(0px 1px 2px rgba(0, 0, 0, 0.3));\n",
              "      fill: #FFFFFF;\n",
              "    }\n",
              "  </style>\n",
              "\n",
              "    <script>\n",
              "      const buttonEl =\n",
              "        document.querySelector('#df-209c389c-ad73-4272-8b63-464dddcfcbcb button.colab-df-convert');\n",
              "      buttonEl.style.display =\n",
              "        google.colab.kernel.accessAllowed ? 'block' : 'none';\n",
              "\n",
              "      async function convertToInteractive(key) {\n",
              "        const element = document.querySelector('#df-209c389c-ad73-4272-8b63-464dddcfcbcb');\n",
              "        const dataTable =\n",
              "          await google.colab.kernel.invokeFunction('convertToInteractive',\n",
              "                                                    [key], {});\n",
              "        if (!dataTable) return;\n",
              "\n",
              "        const docLinkHtml = 'Like what you see? Visit the ' +\n",
              "          '<a target=\"_blank\" href=https://colab.research.google.com/notebooks/data_table.ipynb>data table notebook</a>'\n",
              "          + ' to learn more about interactive tables.';\n",
              "        element.innerHTML = '';\n",
              "        dataTable['output_type'] = 'display_data';\n",
              "        await google.colab.output.renderOutput(dataTable, element);\n",
              "        const docLink = document.createElement('div');\n",
              "        docLink.innerHTML = docLinkHtml;\n",
              "        element.appendChild(docLink);\n",
              "      }\n",
              "    </script>\n",
              "  </div>\n",
              "\n",
              "\n",
              "<div id=\"df-96ed8318-1d77-4d25-9bf7-f38c1d7f312a\">\n",
              "  <button class=\"colab-df-quickchart\" onclick=\"quickchart('df-96ed8318-1d77-4d25-9bf7-f38c1d7f312a')\"\n",
              "            title=\"Suggest charts.\"\n",
              "            style=\"display:none;\">\n",
              "\n",
              "<svg xmlns=\"http://www.w3.org/2000/svg\" height=\"24px\"viewBox=\"0 0 24 24\"\n",
              "     width=\"24px\">\n",
              "    <g>\n",
              "        <path d=\"M19 3H5c-1.1 0-2 .9-2 2v14c0 1.1.9 2 2 2h14c1.1 0 2-.9 2-2V5c0-1.1-.9-2-2-2zM9 17H7v-7h2v7zm4 0h-2V7h2v10zm4 0h-2v-4h2v4z\"/>\n",
              "    </g>\n",
              "</svg>\n",
              "  </button>\n",
              "\n",
              "<style>\n",
              "  .colab-df-quickchart {\n",
              "    background-color: #E8F0FE;\n",
              "    border: none;\n",
              "    border-radius: 50%;\n",
              "    cursor: pointer;\n",
              "    display: none;\n",
              "    fill: #1967D2;\n",
              "    height: 32px;\n",
              "    padding: 0 0 0 0;\n",
              "    width: 32px;\n",
              "  }\n",
              "\n",
              "  .colab-df-quickchart:hover {\n",
              "    background-color: #E2EBFA;\n",
              "    box-shadow: 0px 1px 2px rgba(60, 64, 67, 0.3), 0px 1px 3px 1px rgba(60, 64, 67, 0.15);\n",
              "    fill: #174EA6;\n",
              "  }\n",
              "\n",
              "  [theme=dark] .colab-df-quickchart {\n",
              "    background-color: #3B4455;\n",
              "    fill: #D2E3FC;\n",
              "  }\n",
              "\n",
              "  [theme=dark] .colab-df-quickchart:hover {\n",
              "    background-color: #434B5C;\n",
              "    box-shadow: 0px 1px 3px 1px rgba(0, 0, 0, 0.15);\n",
              "    filter: drop-shadow(0px 1px 2px rgba(0, 0, 0, 0.3));\n",
              "    fill: #FFFFFF;\n",
              "  }\n",
              "</style>\n",
              "\n",
              "  <script>\n",
              "    async function quickchart(key) {\n",
              "      const charts = await google.colab.kernel.invokeFunction(\n",
              "          'suggestCharts', [key], {});\n",
              "    }\n",
              "    (() => {\n",
              "      let quickchartButtonEl =\n",
              "        document.querySelector('#df-96ed8318-1d77-4d25-9bf7-f38c1d7f312a button');\n",
              "      quickchartButtonEl.style.display =\n",
              "        google.colab.kernel.accessAllowed ? 'block' : 'none';\n",
              "    })();\n",
              "  </script>\n",
              "</div>\n",
              "    </div>\n",
              "  </div>\n"
            ]
          },
          "metadata": {},
          "execution_count": 41
        }
      ]
    },
    {
      "cell_type": "code",
      "source": [
        "from pyspark.sql.functions import when,lit,count,isnan,col\n",
        "def replace(column, value):\n",
        "    return when(column!=value,column).otherwise(lit(None))\n",
        "cars = cars.withColumn(\"mcat\", replace(col(\"mcat\"),\"N/A\"))\n",
        "cars = cars.withColumn(\"fueltype\", replace(col(\"fueltype\"),\"N/A\"))"
      ],
      "metadata": {
        "id": "X5NRpLnX88nq"
      },
      "execution_count": null,
      "outputs": []
    },
    {
      "cell_type": "code",
      "source": [
        "#check how many null values are there\n",
        "\n",
        "cars.select([count(when(isnan(c)|col(c).isNull(),c)).alias(c) for c in cars.columns]).show()"
      ],
      "metadata": {
        "colab": {
          "base_uri": "https://localhost:8080/"
        },
        "id": "i9EbXWE--SO8",
        "outputId": "9cf523ed-81b3-4364-c148-6f09c953e88e"
      },
      "execution_count": null,
      "outputs": [
        {
          "output_type": "stream",
          "name": "stdout",
          "text": [
            "+----+-----+----+--------+---+---+---+---+---+----+-----+------+----+----+---+----+\n",
            "|make|model|year|fueltype|ehp| nc| tt| dw|nod|mcat|vsize|vstyle|hmil|cmil|pop|msrp|\n",
            "+----+-----+----+--------+---+---+---+---+---+----+-----+------+----+----+---+----+\n",
            "|   0|    0|   0|       3| 69| 30|  0|  0|  6|3742|    0|     0|   0|   0|  0|   0|\n",
            "+----+-----+----+--------+---+---+---+---+---+----+-----+------+----+----+---+----+\n",
            "\n"
          ]
        }
      ]
    },
    {
      "cell_type": "code",
      "source": [
        "#deleting the column Market Category\n",
        "\n",
        "dcars = cars.drop(\"mcat\")"
      ],
      "metadata": {
        "id": "jLmFMJwc-csD"
      },
      "execution_count": null,
      "outputs": []
    },
    {
      "cell_type": "code",
      "source": [
        "# deleting the all null values\n",
        "\n",
        "dcars = dcars.na.drop()"
      ],
      "metadata": {
        "id": "dceT0QpR-htr"
      },
      "execution_count": null,
      "outputs": []
    },
    {
      "cell_type": "code",
      "source": [
        "print(cars.count(),dcars.count())"
      ],
      "metadata": {
        "colab": {
          "base_uri": "https://localhost:8080/"
        },
        "id": "A-gjQzky-nEd",
        "outputId": "37187488-e7bc-4260-f7e8-776409fa1474"
      },
      "execution_count": null,
      "outputs": [
        {
          "output_type": "stream",
          "name": "stdout",
          "text": [
            "11914 11812\n"
          ]
        }
      ]
    },
    {
      "cell_type": "code",
      "source": [
        "#Checking mean and variance for selected columns which will be displayed in rows\n",
        "\n",
        "import pyspark.mllib.stat as st\n",
        "dcars=dcars.select(['year','ehp','nc','nod','hmil','cmil','pop','msrp'])\n",
        "numeric_rdd = dcars.rdd\n",
        "numeric_rdd=numeric_rdd.map(lambda row: [e for e in row])\n",
        "#numeric_rdd=numeric_rdd.map(lambda e: e in ['year','ehp','nc','nod','hmil','cmil','pop','msrp'])\n",
        "numeric_rdd.take(3)\n",
        "mllib_stats = st.Statistics.colStats(numeric_rdd)\n",
        "mllib_stats.mean(), mllib_stats.variance()"
      ],
      "metadata": {
        "colab": {
          "base_uri": "https://localhost:8080/"
        },
        "id": "JKxEr8x4-yew",
        "outputId": "a31d82d9-aa68-4f96-bc50-a564252aaa66"
      },
      "execution_count": null,
      "outputs": [
        {
          "output_type": "execute_result",
          "data": {
            "text/plain": [
              "(array([2.01036158e+03, 2.49504487e+02, 5.64942431e+00, 3.43252624e+00,\n",
              "        2.63209448e+01, 1.93281409e+01, 1.55367990e+03, 4.05599353e+04]),\n",
              " array([5.76786627e+01, 1.19261574e+04, 3.06826400e+00, 7.79546475e-01,\n",
              "        5.54070187e+01, 4.26113052e+01, 2.07379533e+06, 3.63417688e+09]))"
            ]
          },
          "metadata": {},
          "execution_count": 47
        }
      ]
    },
    {
      "cell_type": "code",
      "source": [
        "# find correlation\n",
        "corrs = st.Statistics.corr(numeric_rdd)\n",
        "corrs[-1]"
      ],
      "metadata": {
        "colab": {
          "base_uri": "https://localhost:8080/"
        },
        "id": "s05r0n9e_Rdj",
        "outputId": "47d4bbbe-f8d8-4461-f1a3-2a08aa1dcdf1"
      },
      "execution_count": null,
      "outputs": [
        {
          "output_type": "execute_result",
          "data": {
            "text/plain": [
              "array([ 0.22732735,  0.66182734,  0.54400159, -0.12731632, -0.19896217,\n",
              "       -0.2253169 , -0.04860859,  1.        ])"
            ]
          },
          "metadata": {},
          "execution_count": 48
        }
      ]
    },
    {
      "cell_type": "code",
      "source": [
        "from pyspark.ml.feature import VectorAssembler\n",
        "vectorAssembler = VectorAssembler(inputCols = ['year','cmil','ehp','nc'], outputCol = 'features')\n",
        "cars_vector = vectorAssembler.transform(dcars)\n",
        "cars_vector = cars_vector.select(['features', 'msrp'])\n",
        "cars_vector.show(3,truncate=False)"
      ],
      "metadata": {
        "colab": {
          "base_uri": "https://localhost:8080/"
        },
        "id": "910y5x0K_QPb",
        "outputId": "99a81e76-c6cc-495e-999a-98d2c40b9466"
      },
      "execution_count": null,
      "outputs": [
        {
          "output_type": "stream",
          "name": "stdout",
          "text": [
            "+-----------------------+-----+\n",
            "|features               |msrp |\n",
            "+-----------------------+-----+\n",
            "|[2011.0,19.0,335.0,6.0]|46135|\n",
            "|[2011.0,19.0,300.0,6.0]|40650|\n",
            "|[2011.0,20.0,300.0,6.0]|36350|\n",
            "+-----------------------+-----+\n",
            "only showing top 3 rows\n",
            "\n"
          ]
        }
      ]
    },
    {
      "cell_type": "code",
      "source": [
        "splits=cars_vector.randomSplit([0.7, 0.3])\n",
        "cars_train=splits[0]\n",
        "cars_test=splits[1]\n",
        "cars_train.count(), cars_test.count()"
      ],
      "metadata": {
        "colab": {
          "base_uri": "https://localhost:8080/"
        },
        "id": "KVyq12KP_1W_",
        "outputId": "4c99520b-32b4-4a04-9915-8fdd2b535e19"
      },
      "execution_count": null,
      "outputs": [
        {
          "output_type": "execute_result",
          "data": {
            "text/plain": [
              "(8227, 3585)"
            ]
          },
          "metadata": {},
          "execution_count": 50
        }
      ]
    },
    {
      "cell_type": "code",
      "source": [
        "# perform linear regression\n",
        "\n",
        "from pyspark.ml.regression import LinearRegression\n",
        "lr = LinearRegression(featuresCol = 'features', labelCol='msrp', maxIter=10, regParam=0.3, elasticNetParam=0.8)\n",
        "lr_model = lr.fit(cars_train)\n",
        "print(\"Weights: \" + str(lr_model.coefficients))\n",
        "print(\"Bias: \" + str(lr_model.intercept))"
      ],
      "metadata": {
        "colab": {
          "base_uri": "https://localhost:8080/"
        },
        "id": "S7GwI3nI_7it",
        "outputId": "78efe358-59ab-4b8f-f7be-4a28ed6a1444"
      },
      "execution_count": null,
      "outputs": [
        {
          "output_type": "stream",
          "name": "stdout",
          "text": [
            "Weights: [-306.6542059589587,1801.7441017336596,356.83881004927764,6851.368661538304]\n",
            "Bias: 494753.08131112985\n"
          ]
        }
      ]
    },
    {
      "cell_type": "code",
      "source": [
        "lr_predictions = lr_model.transform(cars_test)\n",
        "lr_predictions.select(\"prediction\",\"msrp\",\"features\").show(5)"
      ],
      "metadata": {
        "colab": {
          "base_uri": "https://localhost:8080/"
        },
        "id": "_nxcSiSTAK7b",
        "outputId": "bdd6d8f4-ba03-47d6-ed71-4e5709734dd2"
      },
      "execution_count": null,
      "outputs": [
        {
          "output_type": "stream",
          "name": "stdout",
          "text": [
            "+-------------------+----+--------------------+\n",
            "|         prediction|msrp|            features|\n",
            "+-------------------+----+--------------------+\n",
            "| 45870.726757640485|2323|[1990.0,12.0,238....|\n",
            "|-30743.403572338517|2000|[1990.0,14.0,90.0...|\n",
            "| 36271.178989284555|2000|[1990.0,14.0,201....|\n",
            "| 2603.0183549356298|2000|[1990.0,15.0,140....|\n",
            "| 2603.0183549356298|2000|[1990.0,15.0,140....|\n",
            "+-------------------+----+--------------------+\n",
            "only showing top 5 rows\n",
            "\n"
          ]
        }
      ]
    },
    {
      "cell_type": "code",
      "source": [
        "#calculate regression evaluator\n",
        "\n",
        "from pyspark.ml.evaluation import RegressionEvaluator\n",
        "lr_evaluator = RegressionEvaluator(predictionCol=\"prediction\", \\\n",
        "                 labelCol=\"msrp\",metricName=\"r2\")\n",
        "print(lr_evaluator.evaluate(lr_predictions))"
      ],
      "metadata": {
        "colab": {
          "base_uri": "https://localhost:8080/"
        },
        "id": "md5hOGldAQ8D",
        "outputId": "3aa723c8-638d-470a-df80-561ec8b31842"
      },
      "execution_count": null,
      "outputs": [
        {
          "output_type": "stream",
          "name": "stdout",
          "text": [
            "0.5407290132146165\n"
          ]
        }
      ]
    },
    {
      "cell_type": "code",
      "source": [
        "from pyspark.ml.regression import DecisionTreeRegressor\n",
        "dt = DecisionTreeRegressor(featuresCol ='features', labelCol = 'msrp')\n",
        "dt_model = dt.fit(cars_train)"
      ],
      "metadata": {
        "id": "OrcUO5l9Agvd"
      },
      "execution_count": null,
      "outputs": []
    },
    {
      "cell_type": "code",
      "source": [
        "#perform predictions\n",
        "\n",
        "dt_predictions = dt_model.transform(cars_test)\n",
        "dt_predictions.show(5)"
      ],
      "metadata": {
        "colab": {
          "base_uri": "https://localhost:8080/"
        },
        "id": "JjbcoLTiAm47",
        "outputId": "f3b2c4d6-aeeb-43e7-c55f-9db46379884a"
      },
      "execution_count": null,
      "outputs": [
        {
          "output_type": "stream",
          "name": "stdout",
          "text": [
            "+--------------------+----+-----------------+\n",
            "|            features|msrp|       prediction|\n",
            "+--------------------+----+-----------------+\n",
            "|[1990.0,12.0,238....|2323|2989.868486352357|\n",
            "|[1990.0,14.0,90.0...|2000|2107.019471488178|\n",
            "|[1990.0,14.0,201....|2000|2989.868486352357|\n",
            "|[1990.0,15.0,140....|2000|2107.019471488178|\n",
            "|[1990.0,15.0,140....|2000|2107.019471488178|\n",
            "+--------------------+----+-----------------+\n",
            "only showing top 5 rows\n",
            "\n"
          ]
        }
      ]
    },
    {
      "cell_type": "code",
      "source": [
        "#evaluate prediction accuracy\n",
        "\n",
        "dt_evaluator = RegressionEvaluator(\n",
        "    labelCol=\"msrp\", predictionCol=\"prediction\", metricName=\"r2\")\n",
        "r2 = dt_evaluator.evaluate(dt_predictions)\n",
        "print(r2)"
      ],
      "metadata": {
        "colab": {
          "base_uri": "https://localhost:8080/"
        },
        "id": "4vGyFRqWA9Le",
        "outputId": "87332c8f-23fd-496c-9b3c-1405c34c010a"
      },
      "execution_count": null,
      "outputs": [
        {
          "output_type": "stream",
          "name": "stdout",
          "text": [
            "0.7969563659648442\n"
          ]
        }
      ]
    },
    {
      "cell_type": "code",
      "source": [
        "#applying grading boosting\n",
        "\n",
        "from pyspark.ml.regression import GBTRegressor\n",
        "gbt = GBTRegressor(featuresCol = 'features', labelCol = 'msrp', maxIter=10)\n",
        "gbt_model = gbt.fit(cars_train)"
      ],
      "metadata": {
        "id": "NOhAy4T5Bxx1"
      },
      "execution_count": null,
      "outputs": []
    },
    {
      "cell_type": "code",
      "source": [
        "#perform prediction\n",
        "\n",
        "gbt_predictions = gbt_model.transform(cars_test)\n",
        "gbt_predictions.select('prediction', 'msrp', 'features').show(5)"
      ],
      "metadata": {
        "colab": {
          "base_uri": "https://localhost:8080/"
        },
        "id": "-aN6lBo5CCbU",
        "outputId": "ca56df8b-bf3c-4a71-9819-fe411f6218a1"
      },
      "execution_count": null,
      "outputs": [
        {
          "output_type": "stream",
          "name": "stdout",
          "text": [
            "+------------------+----+--------------------+\n",
            "|        prediction|msrp|            features|\n",
            "+------------------+----+--------------------+\n",
            "|2906.4928685068817|2323|[1990.0,12.0,238....|\n",
            "|1719.6282722642584|2000|[1990.0,14.0,90.0...|\n",
            "| 2602.477287128437|2000|[1990.0,14.0,201....|\n",
            "|1719.6282722642584|2000|[1990.0,15.0,140....|\n",
            "|1719.6282722642584|2000|[1990.0,15.0,140....|\n",
            "+------------------+----+--------------------+\n",
            "only showing top 5 rows\n",
            "\n"
          ]
        }
      ]
    },
    {
      "cell_type": "code",
      "source": [
        "#evaluate prediction accuracy\n",
        "\n",
        "gbt_evaluator = RegressionEvaluator(\n",
        "    labelCol=\"msrp\", predictionCol=\"prediction\", metricName=\"r2\")\n",
        "r2 = gbt_evaluator.evaluate(gbt_predictions)\n",
        "print(r2)"
      ],
      "metadata": {
        "colab": {
          "base_uri": "https://localhost:8080/"
        },
        "id": "2hXDtqUUCHaC",
        "outputId": "c43ce087-605b-4c7d-93bd-381a1afb5288"
      },
      "execution_count": null,
      "outputs": [
        {
          "output_type": "stream",
          "name": "stdout",
          "text": [
            "0.8209738033065297\n"
          ]
        }
      ]
    },
    {
      "cell_type": "code",
      "source": [
        "#creating our own dataset\n",
        "\n",
        "from pyspark.sql.types import *\n",
        "#create the structure of schema\n",
        "schema = StructType().add(\"id\",\"integer\").add(\"name\",\"string\").add(\"qualification\",\"string\").add(\"age\", \"integer\").add(\"gender\", \"string\")\n",
        "#create data\n",
        "data = [\n",
        "    (1,'John',\"B.A.\", 20, \"Male\"),\n",
        "    (2,'Martha',\"B.Com.\", 20, \"Female\"),\n",
        "    (3,'Mona',\"B.Com.\", 21, \"Female\"),\n",
        "    (4,'Harish',\"B.Sc.\", 22, \"Male\"),\n",
        "    (5,'Jonny',\"B.A.\", 22, \"Male\"),\n",
        "    (6,'Maria',\"B.A.\", 23, \"Female\"),\n",
        "    (7,'Monalisa',\"B.A.\", 21, \"Female\")]"
      ],
      "metadata": {
        "id": "5ispORy5CTon"
      },
      "execution_count": 2,
      "outputs": []
    },
    {
      "cell_type": "code",
      "source": [
        "#create a custom data frame\n",
        "\n",
        "df=sess.createDataFrame(data,schema=schema)\n",
        "df.show()\n",
        "df.describe()"
      ],
      "metadata": {
        "colab": {
          "base_uri": "https://localhost:8080/"
        },
        "id": "bSkTNP63C_bZ",
        "outputId": "0af8c9b6-2181-4862-e570-7d2d87860764"
      },
      "execution_count": 6,
      "outputs": [
        {
          "output_type": "stream",
          "name": "stdout",
          "text": [
            "+---+--------+-------------+---+------+\n",
            "| id|    name|qualification|age|gender|\n",
            "+---+--------+-------------+---+------+\n",
            "|  1|    John|         B.A.| 20|  Male|\n",
            "|  2|  Martha|       B.Com.| 20|Female|\n",
            "|  3|    Mona|       B.Com.| 21|Female|\n",
            "|  4|  Harish|        B.Sc.| 22|  Male|\n",
            "|  5|   Jonny|         B.A.| 22|  Male|\n",
            "|  6|   Maria|         B.A.| 23|Female|\n",
            "|  7|Monalisa|         B.A.| 21|Female|\n",
            "+---+--------+-------------+---+------+\n",
            "\n"
          ]
        },
        {
          "output_type": "execute_result",
          "data": {
            "text/plain": [
              "DataFrame[summary: string, id: string, name: string, qualification: string, age: string, gender: string]"
            ]
          },
          "metadata": {},
          "execution_count": 6
        }
      ]
    },
    {
      "cell_type": "code",
      "source": [
        "#use string indexer for conversion from categorical to numeric\n",
        "#creating for each index\n",
        "\n",
        "from pyspark.ml.feature import StringIndexer\n",
        "qual_indexer=StringIndexer(inputCol=\"qualification\",outputCol=\"qualification_index\")\n",
        "dfq=qual_indexer.fit(df).transform(df)\n",
        "dfq.show()"
      ],
      "metadata": {
        "colab": {
          "base_uri": "https://localhost:8080/"
        },
        "id": "o21gbSN_DHsk",
        "outputId": "ecd4523e-1aaf-4398-e934-deb5c644b7d4"
      },
      "execution_count": 11,
      "outputs": [
        {
          "output_type": "stream",
          "name": "stdout",
          "text": [
            "+---+--------+-------------+---+------+-------------------+\n",
            "| id|    name|qualification|age|gender|qualification_index|\n",
            "+---+--------+-------------+---+------+-------------------+\n",
            "|  1|    John|         B.A.| 20|  Male|                0.0|\n",
            "|  2|  Martha|       B.Com.| 20|Female|                1.0|\n",
            "|  3|    Mona|       B.Com.| 21|Female|                1.0|\n",
            "|  4|  Harish|        B.Sc.| 22|  Male|                2.0|\n",
            "|  5|   Jonny|         B.A.| 22|  Male|                0.0|\n",
            "|  6|   Maria|         B.A.| 23|Female|                0.0|\n",
            "|  7|Monalisa|         B.A.| 21|Female|                0.0|\n",
            "+---+--------+-------------+---+------+-------------------+\n",
            "\n"
          ]
        }
      ]
    },
    {
      "cell_type": "code",
      "source": [
        "#use string indexer for conversion from categorical to numeric\n",
        "#creating sub from existing database\n",
        "#it is for example for previous command\n",
        "\n",
        "from pyspark.ml.feature import StringIndexer\n",
        "gender_indexer=StringIndexer(inputCol=\"gender\",outputCol=\"gender_index\")\n",
        "dfq=gender_indexer.fit(df).transform(df)\n",
        "dfq.show()"
      ],
      "metadata": {
        "colab": {
          "base_uri": "https://localhost:8080/"
        },
        "id": "4nHwVohRDYlI",
        "outputId": "6cc7e5ea-688a-43a6-baef-0a538091415a"
      },
      "execution_count": 14,
      "outputs": [
        {
          "output_type": "stream",
          "name": "stdout",
          "text": [
            "+---+--------+-------------+---+------+------------+\n",
            "| id|    name|qualification|age|gender|gender_index|\n",
            "+---+--------+-------------+---+------+------------+\n",
            "|  1|    John|         B.A.| 20|  Male|         1.0|\n",
            "|  2|  Martha|       B.Com.| 20|Female|         0.0|\n",
            "|  3|    Mona|       B.Com.| 21|Female|         0.0|\n",
            "|  4|  Harish|        B.Sc.| 22|  Male|         1.0|\n",
            "|  5|   Jonny|         B.A.| 22|  Male|         1.0|\n",
            "|  6|   Maria|         B.A.| 23|Female|         0.0|\n",
            "|  7|Monalisa|         B.A.| 21|Female|         0.0|\n",
            "+---+--------+-------------+---+------+------------+\n",
            "\n"
          ]
        }
      ]
    },
    {
      "cell_type": "code",
      "source": [
        "df.describe()"
      ],
      "metadata": {
        "colab": {
          "base_uri": "https://localhost:8080/"
        },
        "id": "AMrNBWgyGBXO",
        "outputId": "4c95520f-bc26-4c96-8e3e-4b46fec77394"
      },
      "execution_count": null,
      "outputs": [
        {
          "output_type": "execute_result",
          "data": {
            "text/plain": [
              "DataFrame[summary: string, id: string, name: string, qualification: string, age: string, gender: string]"
            ]
          },
          "metadata": {},
          "execution_count": 89
        }
      ]
    },
    {
      "cell_type": "code",
      "source": [
        "from pyspark.ml.feature import OneHotEncoder\n",
        "qual_onehot=OneHotEncoder(inputCol=\"qualification_index\",outputCol=\"qualification_vector\")\n",
        "dfqo=qual_onehot.fit(dfq).transform(dfq)\n",
        "dfqo.show()"
      ],
      "metadata": {
        "colab": {
          "base_uri": "https://localhost:8080/"
        },
        "id": "iw-WSWFHDqbG",
        "outputId": "d6d86b84-08b9-4829-aaaa-487c7204ea2d"
      },
      "execution_count": 12,
      "outputs": [
        {
          "output_type": "stream",
          "name": "stdout",
          "text": [
            "+---+--------+-------------+---+------+-------------------+--------------------+\n",
            "| id|    name|qualification|age|gender|qualification_index|qualification_vector|\n",
            "+---+--------+-------------+---+------+-------------------+--------------------+\n",
            "|  1|    John|         B.A.| 20|  Male|                0.0|       (2,[0],[1.0])|\n",
            "|  2|  Martha|       B.Com.| 20|Female|                1.0|       (2,[1],[1.0])|\n",
            "|  3|    Mona|       B.Com.| 21|Female|                1.0|       (2,[1],[1.0])|\n",
            "|  4|  Harish|        B.Sc.| 22|  Male|                2.0|           (2,[],[])|\n",
            "|  5|   Jonny|         B.A.| 22|  Male|                0.0|       (2,[0],[1.0])|\n",
            "|  6|   Maria|         B.A.| 23|Female|                0.0|       (2,[0],[1.0])|\n",
            "|  7|Monalisa|         B.A.| 21|Female|                0.0|       (2,[0],[1.0])|\n",
            "+---+--------+-------------+---+------+-------------------+--------------------+\n",
            "\n"
          ]
        }
      ]
    },
    {
      "cell_type": "code",
      "source": [
        "from pyspark.ml.feature import OneHotEncoder\n",
        "gender_onehot=OneHotEncoder(inputCol=\"gender_index\",outputCol=\"gender_vector\")\n",
        "dfqo=gender_onehot.fit(dfq).transform(dfq)\n",
        "dfqo.show()"
      ],
      "metadata": {
        "colab": {
          "base_uri": "https://localhost:8080/"
        },
        "id": "Rs4ssYcbEu0Z",
        "outputId": "3afdded8-5e26-4865-a19f-be36ff775ea8"
      },
      "execution_count": 15,
      "outputs": [
        {
          "output_type": "stream",
          "name": "stdout",
          "text": [
            "+---+--------+-------------+---+------+------------+-------------+\n",
            "| id|    name|qualification|age|gender|gender_index|gender_vector|\n",
            "+---+--------+-------------+---+------+------------+-------------+\n",
            "|  1|    John|         B.A.| 20|  Male|         1.0|    (1,[],[])|\n",
            "|  2|  Martha|       B.Com.| 20|Female|         0.0|(1,[0],[1.0])|\n",
            "|  3|    Mona|       B.Com.| 21|Female|         0.0|(1,[0],[1.0])|\n",
            "|  4|  Harish|        B.Sc.| 22|  Male|         1.0|    (1,[],[])|\n",
            "|  5|   Jonny|         B.A.| 22|  Male|         1.0|    (1,[],[])|\n",
            "|  6|   Maria|         B.A.| 23|Female|         0.0|(1,[0],[1.0])|\n",
            "|  7|Monalisa|         B.A.| 21|Female|         0.0|(1,[0],[1.0])|\n",
            "+---+--------+-------------+---+------+------------+-------------+\n",
            "\n"
          ]
        }
      ]
    },
    {
      "cell_type": "code",
      "source": [
        "from pyspark.ml import Pipeline\n",
        "from pyspark.ml.feature import StringIndexer\n",
        "from pyspark.ml.feature import OneHotEncoder\n",
        "qual_indexer=StringIndexer(inputCol=\"qualification\",outputCol=\"qualification_index\")\n",
        "gender_indexer=StringIndexer(inputCol=\"gender\",outputCol=\"gender_index\")\n",
        "qual_onehot=OneHotEncoder(inputCol=\"qualification_index\",outputCol=\"qualification_vector\")\n",
        "gender_onehot=OneHotEncoder(inputCol=\"gender_index\",outputCol=\"gender_vector\")\n",
        "pipeline=Pipeline(stages=[qual_indexer,gender_indexer,qual_onehot,gender_onehot])\n",
        "model=pipeline.fit(df).transform(df)\n",
        "model.show()"
      ],
      "metadata": {
        "colab": {
          "base_uri": "https://localhost:8080/"
        },
        "id": "VhmkeuT2HnGm",
        "outputId": "67dd435c-523a-4def-e6b7-5bb7ab4883a8"
      },
      "execution_count": 17,
      "outputs": [
        {
          "output_type": "stream",
          "name": "stdout",
          "text": [
            "+---+--------+-------------+---+------+-------------------+------------+--------------------+-------------+\n",
            "| id|    name|qualification|age|gender|qualification_index|gender_index|qualification_vector|gender_vector|\n",
            "+---+--------+-------------+---+------+-------------------+------------+--------------------+-------------+\n",
            "|  1|    John|         B.A.| 20|  Male|                0.0|         1.0|       (2,[0],[1.0])|    (1,[],[])|\n",
            "|  2|  Martha|       B.Com.| 20|Female|                1.0|         0.0|       (2,[1],[1.0])|(1,[0],[1.0])|\n",
            "|  3|    Mona|       B.Com.| 21|Female|                1.0|         0.0|       (2,[1],[1.0])|(1,[0],[1.0])|\n",
            "|  4|  Harish|        B.Sc.| 22|  Male|                2.0|         1.0|           (2,[],[])|    (1,[],[])|\n",
            "|  5|   Jonny|         B.A.| 22|  Male|                0.0|         1.0|       (2,[0],[1.0])|    (1,[],[])|\n",
            "|  6|   Maria|         B.A.| 23|Female|                0.0|         0.0|       (2,[0],[1.0])|(1,[0],[1.0])|\n",
            "|  7|Monalisa|         B.A.| 21|Female|                0.0|         0.0|       (2,[0],[1.0])|(1,[0],[1.0])|\n",
            "+---+--------+-------------+---+------+-------------------+------------+--------------------+-------------+\n",
            "\n"
          ]
        }
      ]
    },
    {
      "cell_type": "code",
      "source": [
        "# DAY-06\n",
        "# for every restart of our computer we need to install pyspark every time\n",
        "\n",
        "!pip install pyspark"
      ],
      "metadata": {
        "colab": {
          "base_uri": "https://localhost:8080/"
        },
        "id": "RNFiI1KAWLRh",
        "outputId": "f881a9e9-045c-440c-9169-68a4082b5166"
      },
      "execution_count": 1,
      "outputs": [
        {
          "output_type": "stream",
          "name": "stdout",
          "text": [
            "Collecting pyspark\n",
            "  Downloading pyspark-3.4.1.tar.gz (310.8 MB)\n",
            "\u001b[2K     \u001b[90m━━━━━━━━━━━━━━━━━━━━━━━━━━━━━━━━━━━━━━━\u001b[0m \u001b[32m310.8/310.8 MB\u001b[0m \u001b[31m4.6 MB/s\u001b[0m eta \u001b[36m0:00:00\u001b[0m\n",
            "\u001b[?25h  Preparing metadata (setup.py) ... \u001b[?25l\u001b[?25hdone\n",
            "Requirement already satisfied: py4j==0.10.9.7 in /usr/local/lib/python3.10/dist-packages (from pyspark) (0.10.9.7)\n",
            "Building wheels for collected packages: pyspark\n",
            "  Building wheel for pyspark (setup.py) ... \u001b[?25l\u001b[?25hdone\n",
            "  Created wheel for pyspark: filename=pyspark-3.4.1-py2.py3-none-any.whl size=311285387 sha256=20cf4fae1ea6026b6f8091fbc1b115c4b113d09d75c5e85b022f52e2d27efb6c\n",
            "  Stored in directory: /root/.cache/pip/wheels/0d/77/a3/ff2f74cc9ab41f8f594dabf0579c2a7c6de920d584206e0834\n",
            "Successfully built pyspark\n",
            "Installing collected packages: pyspark\n",
            "Successfully installed pyspark-3.4.1\n"
          ]
        }
      ]
    },
    {
      "cell_type": "code",
      "source": [
        "#create spark session and read banking csv file\n",
        "\n",
        "from pyspark.sql import SparkSession\n",
        "spark=SparkSession.builder.getOrCreate()\n",
        "df=spark.read.csv('/content/sample_data/bank-full.csv',header=True,inferSchema=True)\n",
        "df.printSchema()\n",
        "len(df.columns)\n",
        "df.dtypes # use to check the dataTypes"
      ],
      "metadata": {
        "colab": {
          "base_uri": "https://localhost:8080/"
        },
        "id": "bs-8MJ5vZ4Xg",
        "outputId": "6e124891-5668-444f-e772-dae56f0e9bdf"
      },
      "execution_count": 21,
      "outputs": [
        {
          "output_type": "stream",
          "name": "stdout",
          "text": [
            "root\n",
            " |-- age: integer (nullable = true)\n",
            " |-- job: string (nullable = true)\n",
            " |-- marital: string (nullable = true)\n",
            " |-- education: string (nullable = true)\n",
            " |-- default: string (nullable = true)\n",
            " |-- balance: integer (nullable = true)\n",
            " |-- housing: string (nullable = true)\n",
            " |-- loan: string (nullable = true)\n",
            " |-- contact: string (nullable = true)\n",
            " |-- day: integer (nullable = true)\n",
            " |-- month: string (nullable = true)\n",
            " |-- duration: integer (nullable = true)\n",
            " |-- campaign: integer (nullable = true)\n",
            " |-- pdays: integer (nullable = true)\n",
            " |-- previous: integer (nullable = true)\n",
            " |-- poutcome: string (nullable = true)\n",
            " |-- deposit: string (nullable = true)\n",
            "\n"
          ]
        },
        {
          "output_type": "execute_result",
          "data": {
            "text/plain": [
              "[('age', 'int'),\n",
              " ('job', 'string'),\n",
              " ('marital', 'string'),\n",
              " ('education', 'string'),\n",
              " ('default', 'string'),\n",
              " ('balance', 'int'),\n",
              " ('housing', 'string'),\n",
              " ('loan', 'string'),\n",
              " ('contact', 'string'),\n",
              " ('day', 'int'),\n",
              " ('month', 'string'),\n",
              " ('duration', 'int'),\n",
              " ('campaign', 'int'),\n",
              " ('pdays', 'int'),\n",
              " ('previous', 'int'),\n",
              " ('poutcome', 'string'),\n",
              " ('deposit', 'string')]"
            ]
          },
          "metadata": {},
          "execution_count": 21
        }
      ]
    },
    {
      "cell_type": "code",
      "source": [
        "#use pandas to display in a tabular format\n",
        "\n",
        "import pandas as pd\n",
        "pd.DataFrame(df.take(5),columns=df.columns)"
      ],
      "metadata": {
        "colab": {
          "base_uri": "https://localhost:8080/",
          "height": 226
        },
        "id": "WwZEzpmrax6J",
        "outputId": "1c212a6d-2f7a-4732-b2ba-6acdf78adef7"
      },
      "execution_count": 22,
      "outputs": [
        {
          "output_type": "execute_result",
          "data": {
            "text/plain": [
              "   age           job  marital  education default  balance housing loan  \\\n",
              "0   58    management  married   tertiary      no     2143     yes   no   \n",
              "1   44    technician   single  secondary      no       29     yes   no   \n",
              "2   33  entrepreneur  married  secondary      no        2     yes  yes   \n",
              "3   47   blue-collar  married    unknown      no     1506     yes   no   \n",
              "4   33       unknown   single    unknown      no        1      no   no   \n",
              "\n",
              "   contact  day month  duration  campaign  pdays  previous poutcome deposit  \n",
              "0  unknown    5   may       261         1     -1         0  unknown      no  \n",
              "1  unknown    5   may       151         1     -1         0  unknown      no  \n",
              "2  unknown    5   may        76         1     -1         0  unknown      no  \n",
              "3  unknown    5   may        92         1     -1         0  unknown      no  \n",
              "4  unknown    5   may       198         1     -1         0  unknown      no  "
            ],
            "text/html": [
              "\n",
              "  <div id=\"df-12b50c23-0bc9-472e-ad9a-2be7fe2166f1\" class=\"colab-df-container\">\n",
              "    <div>\n",
              "<style scoped>\n",
              "    .dataframe tbody tr th:only-of-type {\n",
              "        vertical-align: middle;\n",
              "    }\n",
              "\n",
              "    .dataframe tbody tr th {\n",
              "        vertical-align: top;\n",
              "    }\n",
              "\n",
              "    .dataframe thead th {\n",
              "        text-align: right;\n",
              "    }\n",
              "</style>\n",
              "<table border=\"1\" class=\"dataframe\">\n",
              "  <thead>\n",
              "    <tr style=\"text-align: right;\">\n",
              "      <th></th>\n",
              "      <th>age</th>\n",
              "      <th>job</th>\n",
              "      <th>marital</th>\n",
              "      <th>education</th>\n",
              "      <th>default</th>\n",
              "      <th>balance</th>\n",
              "      <th>housing</th>\n",
              "      <th>loan</th>\n",
              "      <th>contact</th>\n",
              "      <th>day</th>\n",
              "      <th>month</th>\n",
              "      <th>duration</th>\n",
              "      <th>campaign</th>\n",
              "      <th>pdays</th>\n",
              "      <th>previous</th>\n",
              "      <th>poutcome</th>\n",
              "      <th>deposit</th>\n",
              "    </tr>\n",
              "  </thead>\n",
              "  <tbody>\n",
              "    <tr>\n",
              "      <th>0</th>\n",
              "      <td>58</td>\n",
              "      <td>management</td>\n",
              "      <td>married</td>\n",
              "      <td>tertiary</td>\n",
              "      <td>no</td>\n",
              "      <td>2143</td>\n",
              "      <td>yes</td>\n",
              "      <td>no</td>\n",
              "      <td>unknown</td>\n",
              "      <td>5</td>\n",
              "      <td>may</td>\n",
              "      <td>261</td>\n",
              "      <td>1</td>\n",
              "      <td>-1</td>\n",
              "      <td>0</td>\n",
              "      <td>unknown</td>\n",
              "      <td>no</td>\n",
              "    </tr>\n",
              "    <tr>\n",
              "      <th>1</th>\n",
              "      <td>44</td>\n",
              "      <td>technician</td>\n",
              "      <td>single</td>\n",
              "      <td>secondary</td>\n",
              "      <td>no</td>\n",
              "      <td>29</td>\n",
              "      <td>yes</td>\n",
              "      <td>no</td>\n",
              "      <td>unknown</td>\n",
              "      <td>5</td>\n",
              "      <td>may</td>\n",
              "      <td>151</td>\n",
              "      <td>1</td>\n",
              "      <td>-1</td>\n",
              "      <td>0</td>\n",
              "      <td>unknown</td>\n",
              "      <td>no</td>\n",
              "    </tr>\n",
              "    <tr>\n",
              "      <th>2</th>\n",
              "      <td>33</td>\n",
              "      <td>entrepreneur</td>\n",
              "      <td>married</td>\n",
              "      <td>secondary</td>\n",
              "      <td>no</td>\n",
              "      <td>2</td>\n",
              "      <td>yes</td>\n",
              "      <td>yes</td>\n",
              "      <td>unknown</td>\n",
              "      <td>5</td>\n",
              "      <td>may</td>\n",
              "      <td>76</td>\n",
              "      <td>1</td>\n",
              "      <td>-1</td>\n",
              "      <td>0</td>\n",
              "      <td>unknown</td>\n",
              "      <td>no</td>\n",
              "    </tr>\n",
              "    <tr>\n",
              "      <th>3</th>\n",
              "      <td>47</td>\n",
              "      <td>blue-collar</td>\n",
              "      <td>married</td>\n",
              "      <td>unknown</td>\n",
              "      <td>no</td>\n",
              "      <td>1506</td>\n",
              "      <td>yes</td>\n",
              "      <td>no</td>\n",
              "      <td>unknown</td>\n",
              "      <td>5</td>\n",
              "      <td>may</td>\n",
              "      <td>92</td>\n",
              "      <td>1</td>\n",
              "      <td>-1</td>\n",
              "      <td>0</td>\n",
              "      <td>unknown</td>\n",
              "      <td>no</td>\n",
              "    </tr>\n",
              "    <tr>\n",
              "      <th>4</th>\n",
              "      <td>33</td>\n",
              "      <td>unknown</td>\n",
              "      <td>single</td>\n",
              "      <td>unknown</td>\n",
              "      <td>no</td>\n",
              "      <td>1</td>\n",
              "      <td>no</td>\n",
              "      <td>no</td>\n",
              "      <td>unknown</td>\n",
              "      <td>5</td>\n",
              "      <td>may</td>\n",
              "      <td>198</td>\n",
              "      <td>1</td>\n",
              "      <td>-1</td>\n",
              "      <td>0</td>\n",
              "      <td>unknown</td>\n",
              "      <td>no</td>\n",
              "    </tr>\n",
              "  </tbody>\n",
              "</table>\n",
              "</div>\n",
              "    <div class=\"colab-df-buttons\">\n",
              "\n",
              "  <div class=\"colab-df-container\">\n",
              "    <button class=\"colab-df-convert\" onclick=\"convertToInteractive('df-12b50c23-0bc9-472e-ad9a-2be7fe2166f1')\"\n",
              "            title=\"Convert this dataframe to an interactive table.\"\n",
              "            style=\"display:none;\">\n",
              "\n",
              "  <svg xmlns=\"http://www.w3.org/2000/svg\" height=\"24px\" viewBox=\"0 -960 960 960\">\n",
              "    <path d=\"M120-120v-720h720v720H120Zm60-500h600v-160H180v160Zm220 220h160v-160H400v160Zm0 220h160v-160H400v160ZM180-400h160v-160H180v160Zm440 0h160v-160H620v160ZM180-180h160v-160H180v160Zm440 0h160v-160H620v160Z\"/>\n",
              "  </svg>\n",
              "    </button>\n",
              "\n",
              "  <style>\n",
              "    .colab-df-container {\n",
              "      display:flex;\n",
              "      gap: 12px;\n",
              "    }\n",
              "\n",
              "    .colab-df-convert {\n",
              "      background-color: #E8F0FE;\n",
              "      border: none;\n",
              "      border-radius: 50%;\n",
              "      cursor: pointer;\n",
              "      display: none;\n",
              "      fill: #1967D2;\n",
              "      height: 32px;\n",
              "      padding: 0 0 0 0;\n",
              "      width: 32px;\n",
              "    }\n",
              "\n",
              "    .colab-df-convert:hover {\n",
              "      background-color: #E2EBFA;\n",
              "      box-shadow: 0px 1px 2px rgba(60, 64, 67, 0.3), 0px 1px 3px 1px rgba(60, 64, 67, 0.15);\n",
              "      fill: #174EA6;\n",
              "    }\n",
              "\n",
              "    .colab-df-buttons div {\n",
              "      margin-bottom: 4px;\n",
              "    }\n",
              "\n",
              "    [theme=dark] .colab-df-convert {\n",
              "      background-color: #3B4455;\n",
              "      fill: #D2E3FC;\n",
              "    }\n",
              "\n",
              "    [theme=dark] .colab-df-convert:hover {\n",
              "      background-color: #434B5C;\n",
              "      box-shadow: 0px 1px 3px 1px rgba(0, 0, 0, 0.15);\n",
              "      filter: drop-shadow(0px 1px 2px rgba(0, 0, 0, 0.3));\n",
              "      fill: #FFFFFF;\n",
              "    }\n",
              "  </style>\n",
              "\n",
              "    <script>\n",
              "      const buttonEl =\n",
              "        document.querySelector('#df-12b50c23-0bc9-472e-ad9a-2be7fe2166f1 button.colab-df-convert');\n",
              "      buttonEl.style.display =\n",
              "        google.colab.kernel.accessAllowed ? 'block' : 'none';\n",
              "\n",
              "      async function convertToInteractive(key) {\n",
              "        const element = document.querySelector('#df-12b50c23-0bc9-472e-ad9a-2be7fe2166f1');\n",
              "        const dataTable =\n",
              "          await google.colab.kernel.invokeFunction('convertToInteractive',\n",
              "                                                    [key], {});\n",
              "        if (!dataTable) return;\n",
              "\n",
              "        const docLinkHtml = 'Like what you see? Visit the ' +\n",
              "          '<a target=\"_blank\" href=https://colab.research.google.com/notebooks/data_table.ipynb>data table notebook</a>'\n",
              "          + ' to learn more about interactive tables.';\n",
              "        element.innerHTML = '';\n",
              "        dataTable['output_type'] = 'display_data';\n",
              "        await google.colab.output.renderOutput(dataTable, element);\n",
              "        const docLink = document.createElement('div');\n",
              "        docLink.innerHTML = docLinkHtml;\n",
              "        element.appendChild(docLink);\n",
              "      }\n",
              "    </script>\n",
              "  </div>\n",
              "\n",
              "\n",
              "<div id=\"df-b6853404-0f57-47a7-a021-f4bef77271fc\">\n",
              "  <button class=\"colab-df-quickchart\" onclick=\"quickchart('df-b6853404-0f57-47a7-a021-f4bef77271fc')\"\n",
              "            title=\"Suggest charts.\"\n",
              "            style=\"display:none;\">\n",
              "\n",
              "<svg xmlns=\"http://www.w3.org/2000/svg\" height=\"24px\"viewBox=\"0 0 24 24\"\n",
              "     width=\"24px\">\n",
              "    <g>\n",
              "        <path d=\"M19 3H5c-1.1 0-2 .9-2 2v14c0 1.1.9 2 2 2h14c1.1 0 2-.9 2-2V5c0-1.1-.9-2-2-2zM9 17H7v-7h2v7zm4 0h-2V7h2v10zm4 0h-2v-4h2v4z\"/>\n",
              "    </g>\n",
              "</svg>\n",
              "  </button>\n",
              "\n",
              "<style>\n",
              "  .colab-df-quickchart {\n",
              "    background-color: #E8F0FE;\n",
              "    border: none;\n",
              "    border-radius: 50%;\n",
              "    cursor: pointer;\n",
              "    display: none;\n",
              "    fill: #1967D2;\n",
              "    height: 32px;\n",
              "    padding: 0 0 0 0;\n",
              "    width: 32px;\n",
              "  }\n",
              "\n",
              "  .colab-df-quickchart:hover {\n",
              "    background-color: #E2EBFA;\n",
              "    box-shadow: 0px 1px 2px rgba(60, 64, 67, 0.3), 0px 1px 3px 1px rgba(60, 64, 67, 0.15);\n",
              "    fill: #174EA6;\n",
              "  }\n",
              "\n",
              "  [theme=dark] .colab-df-quickchart {\n",
              "    background-color: #3B4455;\n",
              "    fill: #D2E3FC;\n",
              "  }\n",
              "\n",
              "  [theme=dark] .colab-df-quickchart:hover {\n",
              "    background-color: #434B5C;\n",
              "    box-shadow: 0px 1px 3px 1px rgba(0, 0, 0, 0.15);\n",
              "    filter: drop-shadow(0px 1px 2px rgba(0, 0, 0, 0.3));\n",
              "    fill: #FFFFFF;\n",
              "  }\n",
              "</style>\n",
              "\n",
              "  <script>\n",
              "    async function quickchart(key) {\n",
              "      const charts = await google.colab.kernel.invokeFunction(\n",
              "          'suggestCharts', [key], {});\n",
              "    }\n",
              "    (() => {\n",
              "      let quickchartButtonEl =\n",
              "        document.querySelector('#df-b6853404-0f57-47a7-a021-f4bef77271fc button');\n",
              "      quickchartButtonEl.style.display =\n",
              "        google.colab.kernel.accessAllowed ? 'block' : 'none';\n",
              "    })();\n",
              "  </script>\n",
              "</div>\n",
              "    </div>\n",
              "  </div>\n"
            ]
          },
          "metadata": {},
          "execution_count": 22
        }
      ]
    },
    {
      "cell_type": "code",
      "source": [
        "#extract numerical columns\n",
        "\n",
        "numerical_cols=[t[0] for t in df.dtypes if t[1]=='int']\n",
        "numerical_cols"
      ],
      "metadata": {
        "colab": {
          "base_uri": "https://localhost:8080/"
        },
        "id": "K32c8DzUbY4S",
        "outputId": "902fe5bd-7b6b-414b-baa5-d9f5b6f557fa"
      },
      "execution_count": 23,
      "outputs": [
        {
          "output_type": "execute_result",
          "data": {
            "text/plain": [
              "['age', 'balance', 'day', 'duration', 'campaign', 'pdays', 'previous']"
            ]
          },
          "metadata": {},
          "execution_count": 23
        }
      ]
    },
    {
      "cell_type": "code",
      "source": [
        "#descriptive stats of numerical columns\n",
        "\n",
        "df.select(numerical_cols).describe().toPandas().transpose()"
      ],
      "metadata": {
        "colab": {
          "base_uri": "https://localhost:8080/",
          "height": 300
        },
        "id": "ar72KKiWbdwj",
        "outputId": "d834a4a2-2d26-4963-822b-84b39e0fd3ee"
      },
      "execution_count": 24,
      "outputs": [
        {
          "output_type": "execute_result",
          "data": {
            "text/plain": [
              "              0                   1                   2      3       4\n",
              "summary   count                mean              stddev    min     max\n",
              "age       45211   40.93621021432837  10.618762040975405     18      95\n",
              "balance   45211  1362.2720576850766  3044.7658291685257  -8019  102127\n",
              "day       45211   15.80641879188693   8.322476153044594      1      31\n",
              "duration  45211   258.1630797814691   257.5278122651706      0    4918\n",
              "campaign  45211   2.763840658246887   3.098020883279192      1      63\n",
              "pdays     45211   40.19782796222158  100.12874599059828     -1     871\n",
              "previous  45211  0.5803233726305546   2.303441044931218      0     275"
            ],
            "text/html": [
              "\n",
              "  <div id=\"df-f2ea408b-b3aa-438c-a4d9-03e651f66a55\" class=\"colab-df-container\">\n",
              "    <div>\n",
              "<style scoped>\n",
              "    .dataframe tbody tr th:only-of-type {\n",
              "        vertical-align: middle;\n",
              "    }\n",
              "\n",
              "    .dataframe tbody tr th {\n",
              "        vertical-align: top;\n",
              "    }\n",
              "\n",
              "    .dataframe thead th {\n",
              "        text-align: right;\n",
              "    }\n",
              "</style>\n",
              "<table border=\"1\" class=\"dataframe\">\n",
              "  <thead>\n",
              "    <tr style=\"text-align: right;\">\n",
              "      <th></th>\n",
              "      <th>0</th>\n",
              "      <th>1</th>\n",
              "      <th>2</th>\n",
              "      <th>3</th>\n",
              "      <th>4</th>\n",
              "    </tr>\n",
              "  </thead>\n",
              "  <tbody>\n",
              "    <tr>\n",
              "      <th>summary</th>\n",
              "      <td>count</td>\n",
              "      <td>mean</td>\n",
              "      <td>stddev</td>\n",
              "      <td>min</td>\n",
              "      <td>max</td>\n",
              "    </tr>\n",
              "    <tr>\n",
              "      <th>age</th>\n",
              "      <td>45211</td>\n",
              "      <td>40.93621021432837</td>\n",
              "      <td>10.618762040975405</td>\n",
              "      <td>18</td>\n",
              "      <td>95</td>\n",
              "    </tr>\n",
              "    <tr>\n",
              "      <th>balance</th>\n",
              "      <td>45211</td>\n",
              "      <td>1362.2720576850766</td>\n",
              "      <td>3044.7658291685257</td>\n",
              "      <td>-8019</td>\n",
              "      <td>102127</td>\n",
              "    </tr>\n",
              "    <tr>\n",
              "      <th>day</th>\n",
              "      <td>45211</td>\n",
              "      <td>15.80641879188693</td>\n",
              "      <td>8.322476153044594</td>\n",
              "      <td>1</td>\n",
              "      <td>31</td>\n",
              "    </tr>\n",
              "    <tr>\n",
              "      <th>duration</th>\n",
              "      <td>45211</td>\n",
              "      <td>258.1630797814691</td>\n",
              "      <td>257.5278122651706</td>\n",
              "      <td>0</td>\n",
              "      <td>4918</td>\n",
              "    </tr>\n",
              "    <tr>\n",
              "      <th>campaign</th>\n",
              "      <td>45211</td>\n",
              "      <td>2.763840658246887</td>\n",
              "      <td>3.098020883279192</td>\n",
              "      <td>1</td>\n",
              "      <td>63</td>\n",
              "    </tr>\n",
              "    <tr>\n",
              "      <th>pdays</th>\n",
              "      <td>45211</td>\n",
              "      <td>40.19782796222158</td>\n",
              "      <td>100.12874599059828</td>\n",
              "      <td>-1</td>\n",
              "      <td>871</td>\n",
              "    </tr>\n",
              "    <tr>\n",
              "      <th>previous</th>\n",
              "      <td>45211</td>\n",
              "      <td>0.5803233726305546</td>\n",
              "      <td>2.303441044931218</td>\n",
              "      <td>0</td>\n",
              "      <td>275</td>\n",
              "    </tr>\n",
              "  </tbody>\n",
              "</table>\n",
              "</div>\n",
              "    <div class=\"colab-df-buttons\">\n",
              "\n",
              "  <div class=\"colab-df-container\">\n",
              "    <button class=\"colab-df-convert\" onclick=\"convertToInteractive('df-f2ea408b-b3aa-438c-a4d9-03e651f66a55')\"\n",
              "            title=\"Convert this dataframe to an interactive table.\"\n",
              "            style=\"display:none;\">\n",
              "\n",
              "  <svg xmlns=\"http://www.w3.org/2000/svg\" height=\"24px\" viewBox=\"0 -960 960 960\">\n",
              "    <path d=\"M120-120v-720h720v720H120Zm60-500h600v-160H180v160Zm220 220h160v-160H400v160Zm0 220h160v-160H400v160ZM180-400h160v-160H180v160Zm440 0h160v-160H620v160ZM180-180h160v-160H180v160Zm440 0h160v-160H620v160Z\"/>\n",
              "  </svg>\n",
              "    </button>\n",
              "\n",
              "  <style>\n",
              "    .colab-df-container {\n",
              "      display:flex;\n",
              "      gap: 12px;\n",
              "    }\n",
              "\n",
              "    .colab-df-convert {\n",
              "      background-color: #E8F0FE;\n",
              "      border: none;\n",
              "      border-radius: 50%;\n",
              "      cursor: pointer;\n",
              "      display: none;\n",
              "      fill: #1967D2;\n",
              "      height: 32px;\n",
              "      padding: 0 0 0 0;\n",
              "      width: 32px;\n",
              "    }\n",
              "\n",
              "    .colab-df-convert:hover {\n",
              "      background-color: #E2EBFA;\n",
              "      box-shadow: 0px 1px 2px rgba(60, 64, 67, 0.3), 0px 1px 3px 1px rgba(60, 64, 67, 0.15);\n",
              "      fill: #174EA6;\n",
              "    }\n",
              "\n",
              "    .colab-df-buttons div {\n",
              "      margin-bottom: 4px;\n",
              "    }\n",
              "\n",
              "    [theme=dark] .colab-df-convert {\n",
              "      background-color: #3B4455;\n",
              "      fill: #D2E3FC;\n",
              "    }\n",
              "\n",
              "    [theme=dark] .colab-df-convert:hover {\n",
              "      background-color: #434B5C;\n",
              "      box-shadow: 0px 1px 3px 1px rgba(0, 0, 0, 0.15);\n",
              "      filter: drop-shadow(0px 1px 2px rgba(0, 0, 0, 0.3));\n",
              "      fill: #FFFFFF;\n",
              "    }\n",
              "  </style>\n",
              "\n",
              "    <script>\n",
              "      const buttonEl =\n",
              "        document.querySelector('#df-f2ea408b-b3aa-438c-a4d9-03e651f66a55 button.colab-df-convert');\n",
              "      buttonEl.style.display =\n",
              "        google.colab.kernel.accessAllowed ? 'block' : 'none';\n",
              "\n",
              "      async function convertToInteractive(key) {\n",
              "        const element = document.querySelector('#df-f2ea408b-b3aa-438c-a4d9-03e651f66a55');\n",
              "        const dataTable =\n",
              "          await google.colab.kernel.invokeFunction('convertToInteractive',\n",
              "                                                    [key], {});\n",
              "        if (!dataTable) return;\n",
              "\n",
              "        const docLinkHtml = 'Like what you see? Visit the ' +\n",
              "          '<a target=\"_blank\" href=https://colab.research.google.com/notebooks/data_table.ipynb>data table notebook</a>'\n",
              "          + ' to learn more about interactive tables.';\n",
              "        element.innerHTML = '';\n",
              "        dataTable['output_type'] = 'display_data';\n",
              "        await google.colab.output.renderOutput(dataTable, element);\n",
              "        const docLink = document.createElement('div');\n",
              "        docLink.innerHTML = docLinkHtml;\n",
              "        element.appendChild(docLink);\n",
              "      }\n",
              "    </script>\n",
              "  </div>\n",
              "\n",
              "\n",
              "<div id=\"df-9f35aa0b-d609-44a1-a62f-e37caf41a446\">\n",
              "  <button class=\"colab-df-quickchart\" onclick=\"quickchart('df-9f35aa0b-d609-44a1-a62f-e37caf41a446')\"\n",
              "            title=\"Suggest charts.\"\n",
              "            style=\"display:none;\">\n",
              "\n",
              "<svg xmlns=\"http://www.w3.org/2000/svg\" height=\"24px\"viewBox=\"0 0 24 24\"\n",
              "     width=\"24px\">\n",
              "    <g>\n",
              "        <path d=\"M19 3H5c-1.1 0-2 .9-2 2v14c0 1.1.9 2 2 2h14c1.1 0 2-.9 2-2V5c0-1.1-.9-2-2-2zM9 17H7v-7h2v7zm4 0h-2V7h2v10zm4 0h-2v-4h2v4z\"/>\n",
              "    </g>\n",
              "</svg>\n",
              "  </button>\n",
              "\n",
              "<style>\n",
              "  .colab-df-quickchart {\n",
              "    background-color: #E8F0FE;\n",
              "    border: none;\n",
              "    border-radius: 50%;\n",
              "    cursor: pointer;\n",
              "    display: none;\n",
              "    fill: #1967D2;\n",
              "    height: 32px;\n",
              "    padding: 0 0 0 0;\n",
              "    width: 32px;\n",
              "  }\n",
              "\n",
              "  .colab-df-quickchart:hover {\n",
              "    background-color: #E2EBFA;\n",
              "    box-shadow: 0px 1px 2px rgba(60, 64, 67, 0.3), 0px 1px 3px 1px rgba(60, 64, 67, 0.15);\n",
              "    fill: #174EA6;\n",
              "  }\n",
              "\n",
              "  [theme=dark] .colab-df-quickchart {\n",
              "    background-color: #3B4455;\n",
              "    fill: #D2E3FC;\n",
              "  }\n",
              "\n",
              "  [theme=dark] .colab-df-quickchart:hover {\n",
              "    background-color: #434B5C;\n",
              "    box-shadow: 0px 1px 3px 1px rgba(0, 0, 0, 0.15);\n",
              "    filter: drop-shadow(0px 1px 2px rgba(0, 0, 0, 0.3));\n",
              "    fill: #FFFFFF;\n",
              "  }\n",
              "</style>\n",
              "\n",
              "  <script>\n",
              "    async function quickchart(key) {\n",
              "      const charts = await google.colab.kernel.invokeFunction(\n",
              "          'suggestCharts', [key], {});\n",
              "    }\n",
              "    (() => {\n",
              "      let quickchartButtonEl =\n",
              "        document.querySelector('#df-9f35aa0b-d609-44a1-a62f-e37caf41a446 button');\n",
              "      quickchartButtonEl.style.display =\n",
              "        google.colab.kernel.accessAllowed ? 'block' : 'none';\n",
              "    })();\n",
              "  </script>\n",
              "</div>\n",
              "    </div>\n",
              "  </div>\n"
            ]
          },
          "metadata": {},
          "execution_count": 24
        }
      ]
    },
    {
      "cell_type": "code",
      "source": [
        "#Import following modules for performing specific operations\n",
        "\n",
        "from pyspark.ml.feature import OneHotEncoder, StringIndexer, VectorAssembler\n",
        "from pyspark.ml import Pipeline"
      ],
      "metadata": {
        "id": "dENXDSn5cTry"
      },
      "execution_count": 25,
      "outputs": []
    },
    {
      "cell_type": "code",
      "source": [
        "df = df.select('age', 'job', 'marital', 'education', 'default', 'balance','housing', 'loan', 'contact', 'duration', 'campaign', 'pdays',\n",
        "'previous', 'poutcome', 'deposit')\n",
        "cols = df.columns\n",
        "cols"
      ],
      "metadata": {
        "colab": {
          "base_uri": "https://localhost:8080/"
        },
        "id": "amqmQ5QpfCbp",
        "outputId": "7af73d18-fd16-4739-8703-e1a7e1b09820"
      },
      "execution_count": 27,
      "outputs": [
        {
          "output_type": "execute_result",
          "data": {
            "text/plain": [
              "['age',\n",
              " 'job',\n",
              " 'marital',\n",
              " 'education',\n",
              " 'default',\n",
              " 'balance',\n",
              " 'housing',\n",
              " 'loan',\n",
              " 'contact',\n",
              " 'duration',\n",
              " 'campaign',\n",
              " 'pdays',\n",
              " 'previous',\n",
              " 'poutcome',\n",
              " 'deposit']"
            ]
          },
          "metadata": {},
          "execution_count": 27
        }
      ]
    },
    {
      "cell_type": "code",
      "source": [
        "categoricalColumns = ['job', 'marital', 'education', 'default', 'housing', 'loan', 'contact', 'poutcome']"
      ],
      "metadata": {
        "id": "yzm5eO8kc7zb"
      },
      "execution_count": 26,
      "outputs": []
    },
    {
      "cell_type": "code",
      "source": [
        "stages = []\n",
        "for categoricalCol in categoricalColumns:\n",
        "  stringIndexer = StringIndexer(inputCol = categoricalCol, outputCol = categoricalCol + 'Index')\n",
        "  encoder = OneHotEncoder(inputCols=[stringIndexer.getOutputCol()], outputCols=[categoricalCol + \"classVec\"])\n",
        "  stages += [stringIndexer, encoder]\n",
        "label_stringIdx = StringIndexer(inputCol = 'deposit', outputCol = 'label')\n",
        "stages += [label_stringIdx]\n",
        "numericCols = ['age', 'balance', 'duration', 'campaign', 'pdays', 'previous']\n",
        "assemblerInputs = [c + \"classVec\" for c in categoricalColumns] + numericCols\n",
        "assembler = VectorAssembler(inputCols=assemblerInputs, outputCol=\"features\")\n",
        "stages += [assembler]\n",
        "# creating pipeline for all stages\n",
        "\n",
        "pipeline = Pipeline(stages = stages)\n",
        "pipelineModel = pipeline.fit(df)\n",
        "df = pipelineModel.transform(df)\n",
        "selectedCols = ['label', 'features'] + cols\n",
        "df = df.select(selectedCols)\n",
        "df.printSchema()"
      ],
      "metadata": {
        "colab": {
          "base_uri": "https://localhost:8080/"
        },
        "id": "Kmm2WkNxdEFy",
        "outputId": "b1dfcf7f-9144-4d20-fad6-09e0349dea3f"
      },
      "execution_count": 28,
      "outputs": [
        {
          "output_type": "stream",
          "name": "stdout",
          "text": [
            "root\n",
            " |-- label: double (nullable = false)\n",
            " |-- features: vector (nullable = true)\n",
            " |-- age: integer (nullable = true)\n",
            " |-- job: string (nullable = true)\n",
            " |-- marital: string (nullable = true)\n",
            " |-- education: string (nullable = true)\n",
            " |-- default: string (nullable = true)\n",
            " |-- balance: integer (nullable = true)\n",
            " |-- housing: string (nullable = true)\n",
            " |-- loan: string (nullable = true)\n",
            " |-- contact: string (nullable = true)\n",
            " |-- duration: integer (nullable = true)\n",
            " |-- campaign: integer (nullable = true)\n",
            " |-- pdays: integer (nullable = true)\n",
            " |-- previous: integer (nullable = true)\n",
            " |-- poutcome: string (nullable = true)\n",
            " |-- deposit: string (nullable = true)\n",
            "\n"
          ]
        }
      ]
    },
    {
      "cell_type": "code",
      "source": [
        "df.show()"
      ],
      "metadata": {
        "colab": {
          "base_uri": "https://localhost:8080/"
        },
        "id": "IneJLx66fx3l",
        "outputId": "27aa554c-b3ea-4698-df6c-9c1dd87d30ff"
      },
      "execution_count": 29,
      "outputs": [
        {
          "output_type": "stream",
          "name": "stdout",
          "text": [
            "+-----+--------------------+---+------------+--------+---------+-------+-------+-------+----+-------+--------+--------+-----+--------+--------+-------+\n",
            "|label|            features|age|         job| marital|education|default|balance|housing|loan|contact|duration|campaign|pdays|previous|poutcome|deposit|\n",
            "+-----+--------------------+---+------------+--------+---------+-------+-------+-------+----+-------+--------+--------+-----+--------+--------+-------+\n",
            "|  0.0|(30,[1,11,14,16,1...| 58|  management| married| tertiary|     no|   2143|    yes|  no|unknown|     261|       1|   -1|       0| unknown|     no|\n",
            "|  0.0|(30,[2,12,13,16,1...| 44|  technician|  single|secondary|     no|     29|    yes|  no|unknown|     151|       1|   -1|       0| unknown|     no|\n",
            "|  0.0|(30,[7,11,13,16,1...| 33|entrepreneur| married|secondary|     no|      2|    yes| yes|unknown|      76|       1|   -1|       0| unknown|     no|\n",
            "|  0.0|(30,[0,11,16,17,1...| 47| blue-collar| married|  unknown|     no|   1506|    yes|  no|unknown|      92|       1|   -1|       0| unknown|     no|\n",
            "|  0.0|(30,[12,16,18,20,...| 33|     unknown|  single|  unknown|     no|      1|     no|  no|unknown|     198|       1|   -1|       0| unknown|     no|\n",
            "|  0.0|(30,[1,11,14,16,1...| 35|  management| married| tertiary|     no|    231|    yes|  no|unknown|     139|       1|   -1|       0| unknown|     no|\n",
            "|  0.0|(30,[1,12,14,16,1...| 28|  management|  single| tertiary|     no|    447|    yes| yes|unknown|     217|       1|   -1|       0| unknown|     no|\n",
            "|  0.0|(30,[7,14,17,18,2...| 42|entrepreneur|divorced| tertiary|    yes|      2|    yes|  no|unknown|     380|       1|   -1|       0| unknown|     no|\n",
            "|  0.0|(30,[5,11,15,16,1...| 58|     retired| married|  primary|     no|    121|    yes|  no|unknown|      50|       1|   -1|       0| unknown|     no|\n",
            "|  0.0|(30,[2,12,13,16,1...| 43|  technician|  single|secondary|     no|    593|    yes|  no|unknown|      55|       1|   -1|       0| unknown|     no|\n",
            "|  0.0|(30,[3,13,16,17,1...| 41|      admin.|divorced|secondary|     no|    270|    yes|  no|unknown|     222|       1|   -1|       0| unknown|     no|\n",
            "|  0.0|(30,[3,12,13,16,1...| 29|      admin.|  single|secondary|     no|    390|    yes|  no|unknown|     137|       1|   -1|       0| unknown|     no|\n",
            "|  0.0|(30,[2,11,13,16,1...| 53|  technician| married|secondary|     no|      6|    yes|  no|unknown|     517|       1|   -1|       0| unknown|     no|\n",
            "|  0.0|(30,[2,11,16,17,1...| 58|  technician| married|  unknown|     no|     71|    yes|  no|unknown|      71|       1|   -1|       0| unknown|     no|\n",
            "|  0.0|(30,[4,11,13,16,1...| 57|    services| married|secondary|     no|    162|    yes|  no|unknown|     174|       1|   -1|       0| unknown|     no|\n",
            "|  0.0|(30,[5,11,15,16,1...| 51|     retired| married|  primary|     no|    229|    yes|  no|unknown|     353|       1|   -1|       0| unknown|     no|\n",
            "|  0.0|(30,[3,12,16,17,1...| 45|      admin.|  single|  unknown|     no|     13|    yes|  no|unknown|      98|       1|   -1|       0| unknown|     no|\n",
            "|  0.0|(30,[0,11,15,16,1...| 57| blue-collar| married|  primary|     no|     52|    yes|  no|unknown|      38|       1|   -1|       0| unknown|     no|\n",
            "|  0.0|(30,[5,11,15,16,1...| 60|     retired| married|  primary|     no|     60|    yes|  no|unknown|     219|       1|   -1|       0| unknown|     no|\n",
            "|  0.0|(30,[4,11,13,16,1...| 33|    services| married|secondary|     no|      0|    yes|  no|unknown|      54|       1|   -1|       0| unknown|     no|\n",
            "+-----+--------------------+---+------------+--------+---------+-------+-------+-------+----+-------+--------+--------+-----+--------+--------+-------+\n",
            "only showing top 20 rows\n",
            "\n"
          ]
        }
      ]
    },
    {
      "cell_type": "code",
      "source": [
        "# training and testing data for the existing data using randomsplit\n",
        "\n",
        "train, test = df.randomSplit([0.7, 0.3], seed = 2018)\n",
        "print(\"Training Dataset Count: \" + str(train.count()))\n",
        "print(\"Test Dataset Count: \" + str(test.count()))"
      ],
      "metadata": {
        "colab": {
          "base_uri": "https://localhost:8080/"
        },
        "id": "4t9-uKQuf8ya",
        "outputId": "71c05395-7a4d-4bed-beb2-7ca58df3ef0a"
      },
      "execution_count": 30,
      "outputs": [
        {
          "output_type": "stream",
          "name": "stdout",
          "text": [
            "Training Dataset Count: 31716\n",
            "Test Dataset Count: 13495\n"
          ]
        }
      ]
    },
    {
      "cell_type": "code",
      "source": [
        "#using logistic regression(it will provide only 0 and 1,where in linear regression it provide in range and outside of range)\n",
        "\n",
        "from pyspark.ml.classification import LogisticRegression   #importing logistic regression from pyspark\n",
        "lr = LogisticRegression(featuresCol = 'features', labelCol = 'label', maxIter=10)\n",
        "lrModel = lr.fit(train)"
      ],
      "metadata": {
        "id": "Wlb4szvSgaYO"
      },
      "execution_count": 31,
      "outputs": []
    },
    {
      "cell_type": "code",
      "source": [
        "#make predictions\n",
        "\n",
        "predictions = lrModel.transform(test)\n",
        "predictions.select('age', 'job', 'label', 'rawPrediction', 'prediction', 'probability').show(10)"
      ],
      "metadata": {
        "colab": {
          "base_uri": "https://localhost:8080/"
        },
        "id": "IZukNroZhIq0",
        "outputId": "41e000f0-3d0c-4fe0-f350-59325dc41afa"
      },
      "execution_count": 32,
      "outputs": [
        {
          "output_type": "stream",
          "name": "stdout",
          "text": [
            "+---+-----------+-----+--------------------+----------+--------------------+\n",
            "|age|        job|label|       rawPrediction|prediction|         probability|\n",
            "+---+-----------+-----+--------------------+----------+--------------------+\n",
            "| 24|blue-collar|  0.0|[3.70038618690008...|       0.0|[0.97588206964663...|\n",
            "| 26|blue-collar|  0.0|[3.35922810707748...|       0.0|[0.9664057256952,...|\n",
            "| 26|blue-collar|  0.0|[3.13807248724922...|       0.0|[0.95843616356727...|\n",
            "| 26|blue-collar|  0.0|[0.98479177264443...|       0.0|[0.72805797338141...|\n",
            "| 27|blue-collar|  0.0|[4.62265241584982...|       0.0|[0.99026892732556...|\n",
            "| 28|blue-collar|  0.0|[3.06394670619342...|       0.0|[0.95538084098277...|\n",
            "| 28|blue-collar|  0.0|[3.15379880374951...|       0.0|[0.95905814457810...|\n",
            "| 28|blue-collar|  0.0|[3.06317159677341...|       0.0|[0.95534778772874...|\n",
            "| 28|blue-collar|  0.0|[2.47175165699889...|       0.0|[0.92213762657030...|\n",
            "| 28|blue-collar|  0.0|[2.61145448494408...|       0.0|[0.93159514245437...|\n",
            "+---+-----------+-----+--------------------+----------+--------------------+\n",
            "only showing top 10 rows\n",
            "\n"
          ]
        }
      ]
    },
    {
      "cell_type": "code",
      "source": [
        "#evaluation metric and curve plot\n",
        "\n",
        "import matplotlib.pyplot as plt\n",
        "trainingSummary = lrModel.summary\n",
        "print(trainingSummary.roc)\n",
        "roc = trainingSummary.roc.toPandas()\n",
        "plt.plot(roc['FPR'],roc['TPR'])\n",
        "plt.ylabel('False Positive Rate')\n",
        "plt.xlabel('True Positive Rate')\n",
        "plt.title('ROC Curve')\n",
        "plt.show()\n",
        "print('Training set areaUnderROC: ' + str(trainingSummary.areaUnderROC))"
      ],
      "metadata": {
        "colab": {
          "base_uri": "https://localhost:8080/",
          "height": 507
        },
        "id": "FKEfb1cwhbO0",
        "outputId": "f54a89a0-1d3f-45e9-e730-3f18cd1bc809"
      },
      "execution_count": 33,
      "outputs": [
        {
          "output_type": "stream",
          "name": "stdout",
          "text": [
            "DataFrame[FPR: double, TPR: double]\n"
          ]
        },
        {
          "output_type": "display_data",
          "data": {
            "text/plain": [
              "<Figure size 640x480 with 1 Axes>"
            ],
            "image/png": "[encoded data removed]"
          },
          "metadata": {}
        },
        {
          "output_type": "stream",
          "name": "stdout",
          "text": [
            "Training set areaUnderROC: 0.8893819685424522\n"
          ]
        }
      ]
    },
    {
      "cell_type": "code",
      "source": [
        "#build Decision tree model\n",
        "\n",
        "from pyspark.ml.classification import DecisionTreeClassifier\n",
        "dt = DecisionTreeClassifier(featuresCol = 'features', labelCol = 'label', maxDepth = 3)\n",
        "dtModel = dt.fit(train)\n",
        "predictions = dtModel.transform(test)\n",
        "predictions.select('age', 'job', 'label', 'rawPrediction', 'prediction', 'probability').show(10)"
      ],
      "metadata": {
        "colab": {
          "base_uri": "https://localhost:8080/"
        },
        "id": "AO5gJDneiGP5",
        "outputId": "4f2d3fe4-ce3b-4b40-99e9-3b8b013de6ee"
      },
      "execution_count": 34,
      "outputs": [
        {
          "output_type": "stream",
          "name": "stdout",
          "text": [
            "+---+-----------+-----+----------------+----------+--------------------+\n",
            "|age|        job|label|   rawPrediction|prediction|         probability|\n",
            "+---+-----------+-----+----------------+----------+--------------------+\n",
            "| 24|blue-collar|  0.0|[25509.0,2051.0]|       0.0|[0.92558055152394...|\n",
            "| 26|blue-collar|  0.0|[25509.0,2051.0]|       0.0|[0.92558055152394...|\n",
            "| 26|blue-collar|  0.0|[25509.0,2051.0]|       0.0|[0.92558055152394...|\n",
            "| 26|blue-collar|  0.0|   [687.0,864.0]|       1.0|[0.44294003868471...|\n",
            "| 27|blue-collar|  0.0|[25509.0,2051.0]|       0.0|[0.92558055152394...|\n",
            "| 28|blue-collar|  0.0|[25509.0,2051.0]|       0.0|[0.92558055152394...|\n",
            "| 28|blue-collar|  0.0|[25509.0,2051.0]|       0.0|[0.92558055152394...|\n",
            "| 28|blue-collar|  0.0|[25509.0,2051.0]|       0.0|[0.92558055152394...|\n",
            "| 28|blue-collar|  0.0|[25509.0,2051.0]|       0.0|[0.92558055152394...|\n",
            "| 28|blue-collar|  0.0|[25509.0,2051.0]|       0.0|[0.92558055152394...|\n",
            "+---+-----------+-----+----------------+----------+--------------------+\n",
            "only showing top 10 rows\n",
            "\n"
          ]
        }
      ]
    },
    {
      "cell_type": "code",
      "source": [
        "#perform evaluation\n",
        "\n",
        "from pyspark.ml.evaluation import BinaryClassificationEvaluator\n",
        "evaluator = BinaryClassificationEvaluator()\n",
        "print(\"Test Area Under ROC: \" + str(evaluator.evaluate(predictions, {evaluator.metricName: \"areaUnderROC\"})))"
      ],
      "metadata": {
        "colab": {
          "base_uri": "https://localhost:8080/"
        },
        "id": "3tpJ76VKiq43",
        "outputId": "0c566cc7-6382-484b-d0b5-9c7adeff50f9"
      },
      "execution_count": 35,
      "outputs": [
        {
          "output_type": "stream",
          "name": "stdout",
          "text": [
            "Test Area Under ROC: 0.31803264347820626\n"
          ]
        }
      ]
    },
    {
      "cell_type": "code",
      "source": [
        "#build Random forest classifier\n",
        "\n",
        "from pyspark.ml.classification import RandomForestClassifier\n",
        "rf = RandomForestClassifier(featuresCol = 'features', labelCol = 'label')\n",
        "rfModel = rf.fit(train)\n",
        "predictions = rfModel.transform(test)\n",
        "predictions.select('age', 'job', 'label', 'rawPrediction', 'prediction', 'probability').show(10)"
      ],
      "metadata": {
        "colab": {
          "base_uri": "https://localhost:8080/"
        },
        "id": "6f-MIcpRiwNT",
        "outputId": "2c1c6970-22c3-4ed1-8bc3-876664ba0c01"
      },
      "execution_count": 36,
      "outputs": [
        {
          "output_type": "stream",
          "name": "stdout",
          "text": [
            "+---+-----------+-----+--------------------+----------+--------------------+\n",
            "|age|        job|label|       rawPrediction|prediction|         probability|\n",
            "+---+-----------+-----+--------------------+----------+--------------------+\n",
            "| 24|blue-collar|  0.0|[18.7390990471506...|       0.0|[0.93695495235753...|\n",
            "| 26|blue-collar|  0.0|[18.5537940035447...|       0.0|[0.92768970017723...|\n",
            "| 26|blue-collar|  0.0|[18.4907969321040...|       0.0|[0.92453984660520...|\n",
            "| 26|blue-collar|  0.0|[13.3419565313332...|       0.0|[0.66709782656666...|\n",
            "| 27|blue-collar|  0.0|[18.6761019757099...|       0.0|[0.93380509878549...|\n",
            "| 28|blue-collar|  0.0|[18.6478195654083...|       0.0|[0.93239097827041...|\n",
            "| 28|blue-collar|  0.0|[18.6478195654083...|       0.0|[0.93239097827041...|\n",
            "| 28|blue-collar|  0.0|[18.4907969321040...|       0.0|[0.92453984660520...|\n",
            "| 28|blue-collar|  0.0|[18.3415029100364...|       0.0|[0.91707514550182...|\n",
            "| 28|blue-collar|  0.0|[18.4907969321040...|       0.0|[0.92453984660520...|\n",
            "+---+-----------+-----+--------------------+----------+--------------------+\n",
            "only showing top 10 rows\n",
            "\n"
          ]
        }
      ]
    },
    {
      "cell_type": "code",
      "source": [
        "#perform evaluation\n",
        "\n",
        "evaluator = BinaryClassificationEvaluator()\n",
        "print(\"Test Area Under ROC: \" + str(evaluator.evaluate(predictions, {evaluator.metricName: \"areaUnderROC\"})))"
      ],
      "metadata": {
        "colab": {
          "base_uri": "https://localhost:8080/"
        },
        "id": "IVWHt44-j1Ts",
        "outputId": "1987c637-2f1b-4681-df33-026d91a4eaf1"
      },
      "execution_count": 37,
      "outputs": [
        {
          "output_type": "stream",
          "name": "stdout",
          "text": [
            "Test Area Under ROC: 0.8810640565222376\n"
          ]
        }
      ]
    },
    {
      "cell_type": "code",
      "source": [
        "# create gradient boost classifier\n",
        "\n",
        "from pyspark.ml.classification import GBTClassifier\n",
        "gbt = GBTClassifier(maxIter=10)\n",
        "gbtModel = gbt.fit(train)\n",
        "predictions = gbtModel.transform(test)\n",
        "predictions.select('age', 'job', 'label', 'rawPrediction', 'prediction', 'probability').show(10)"
      ],
      "metadata": {
        "colab": {
          "base_uri": "https://localhost:8080/"
        },
        "id": "wn8xQOs9j_Jg",
        "outputId": "1b1da563-70af-476c-8158-178e898c556f"
      },
      "execution_count": 38,
      "outputs": [
        {
          "output_type": "stream",
          "name": "stdout",
          "text": [
            "+---+-----------+-----+--------------------+----------+--------------------+\n",
            "|age|        job|label|       rawPrediction|prediction|         probability|\n",
            "+---+-----------+-----+--------------------+----------+--------------------+\n",
            "| 24|blue-collar|  0.0|[1.16259331448166...|       0.0|[0.91094161407168...|\n",
            "| 26|blue-collar|  0.0|[0.97216461372287...|       0.0|[0.87482698416331...|\n",
            "| 26|blue-collar|  0.0|[0.97216461372287...|       0.0|[0.87482698416331...|\n",
            "| 26|blue-collar|  0.0|[0.14434276578440...|       0.0|[0.57167429888516...|\n",
            "| 27|blue-collar|  0.0|[1.31679675796552...|       0.0|[0.93299255671121...|\n",
            "| 28|blue-collar|  0.0|[0.99219746995291...|       0.0|[0.87914888606321...|\n",
            "| 28|blue-collar|  0.0|[0.95894760083232...|       0.0|[0.87190353743128...|\n",
            "| 28|blue-collar|  0.0|[0.94505156482109...|       0.0|[0.86876728888996...|\n",
            "| 28|blue-collar|  0.0|[0.93507147529476...|       0.0|[0.86647481717443...|\n",
            "| 28|blue-collar|  0.0|[0.93967006418349...|       0.0|[0.86753531385544...|\n",
            "+---+-----------+-----+--------------------+----------+--------------------+\n",
            "only showing top 10 rows\n",
            "\n"
          ]
        }
      ]
    },
    {
      "cell_type": "code",
      "source": [
        "#perform evaluations\n",
        "\n",
        "evaluator = BinaryClassificationEvaluator()\n",
        "print(\"Test Area Under ROC: \" + str(evaluator.evaluate(predictions, {evaluator.metricName: \"areaUnderROC\"})))"
      ],
      "metadata": {
        "colab": {
          "base_uri": "https://localhost:8080/"
        },
        "id": "ddwsLdYjkM5U",
        "outputId": "f3239539-75cb-4927-af15-313807de5acf"
      },
      "execution_count": 39,
      "outputs": [
        {
          "output_type": "stream",
          "name": "stdout",
          "text": [
            "Test Area Under ROC: 0.8958701908726582\n"
          ]
        }
      ]
    },
    {
      "cell_type": "code",
      "source": [
        "#best clustering alorithm is K-means clustering algorithm\n",
        "#creating a simple data frame for performing clustering algorithm\n",
        "#\n",
        "\n",
        "df = spark.createDataFrame([[0, 35.3, 37.5],\n",
        "                          [1, 41.4, -23.5],\n",
        "                          [2, 28.3, -13.3],\n",
        "                          [3, 09.5, -9.0],\n",
        "                          [4, 62.8, -18.23],\n",
        "                          [5, 63.8, -18.33],\n",
        "                          [6, 82.8, -17.23],\n",
        "                          [7, 52.8, -13.43],\n",
        "                          [8, 72.8, 48.23],\n",
        "                          [9, 65.8, 15.43],\n",
        "                          [10, 42.8, -13.23]],[\"ID\",\"Att_1\", \"Att_2\"])\n",
        "df.show()"
      ],
      "metadata": {
        "colab": {
          "base_uri": "https://localhost:8080/"
        },
        "id": "QN91Kit-kaFG",
        "outputId": "7d7fffd9-8e9c-4e57-db07-3aaef510cf0f"
      },
      "execution_count": 46,
      "outputs": [
        {
          "output_type": "stream",
          "name": "stdout",
          "text": [
            "+---+-----+------+\n",
            "| ID|Att_1| Att_2|\n",
            "+---+-----+------+\n",
            "|  0| 35.3|  37.5|\n",
            "|  1| 41.4| -23.5|\n",
            "|  2| 28.3| -13.3|\n",
            "|  3|  9.5|  -9.0|\n",
            "|  4| 62.8|-18.23|\n",
            "|  5| 63.8|-18.33|\n",
            "|  6| 82.8|-17.23|\n",
            "|  7| 52.8|-13.43|\n",
            "|  8| 72.8| 48.23|\n",
            "|  9| 65.8| 15.43|\n",
            "| 10| 42.8|-13.23|\n",
            "+---+-----+------+\n",
            "\n"
          ]
        }
      ]
    },
    {
      "cell_type": "code",
      "source": [
        "#assemble features using vector assembler\n",
        "\n",
        "from pyspark.ml.feature import OneHotEncoder, StringIndexer, VectorAssembler\n",
        "from pyspark.ml import Pipeline\n",
        "vecAssembler = VectorAssembler(inputCols=[\"Att_1\", \"Att_2\"], outputCol=\"features\")\n",
        "new_df = vecAssembler.transform(df)\n",
        "new_df.show()"
      ],
      "metadata": {
        "colab": {
          "base_uri": "https://localhost:8080/"
        },
        "id": "STdFjLU1mjSe",
        "outputId": "c9a9888f-38f0-4c81-ae7c-543ee22d254e"
      },
      "execution_count": 50,
      "outputs": [
        {
          "output_type": "stream",
          "name": "stdout",
          "text": [
            "+---+-----+------+-------------+\n",
            "| ID|Att_1| Att_2|     features|\n",
            "+---+-----+------+-------------+\n",
            "|  0| 35.3|  37.5|  [35.3,37.5]|\n",
            "|  1| 41.4| -23.5| [41.4,-23.5]|\n",
            "|  2| 28.3| -13.3| [28.3,-13.3]|\n",
            "|  3|  9.5|  -9.0|   [9.5,-9.0]|\n",
            "|  4| 62.8|-18.23|[62.8,-18.23]|\n",
            "|  5| 63.8|-18.33|[63.8,-18.33]|\n",
            "|  6| 82.8|-17.23|[82.8,-17.23]|\n",
            "|  7| 52.8|-13.43|[52.8,-13.43]|\n",
            "|  8| 72.8| 48.23| [72.8,48.23]|\n",
            "|  9| 65.8| 15.43| [65.8,15.43]|\n",
            "| 10| 42.8|-13.23|[42.8,-13.23]|\n",
            "+---+-----+------+-------------+\n",
            "\n"
          ]
        }
      ]
    },
    {
      "cell_type": "code",
      "source": [
        "from pyspark.ml.clustering import KMeans\n",
        "kmeans = KMeans(k=2, seed=1)\n",
        "model = kmeans.fit(new_df.select('features'))\n",
        "transformed = model.transform(new_df)\n",
        "transformed.show()"
      ],
      "metadata": {
        "colab": {
          "base_uri": "https://localhost:8080/"
        },
        "id": "_ZKy0n9tmyTS",
        "outputId": "1e615a25-2f86-42f4-e29c-b27cdecce037"
      },
      "execution_count": 55,
      "outputs": [
        {
          "output_type": "stream",
          "name": "stdout",
          "text": [
            "+---+-----+------+-------------+----------+\n",
            "| ID|Att_1| Att_2|     features|prediction|\n",
            "+---+-----+------+-------------+----------+\n",
            "|  0| 35.3|  37.5|  [35.3,37.5]|         0|\n",
            "|  1| 41.4| -23.5| [41.4,-23.5]|         1|\n",
            "|  2| 28.3| -13.3| [28.3,-13.3]|         0|\n",
            "|  3|  9.5|  -9.0|   [9.5,-9.0]|         0|\n",
            "|  4| 62.8|-18.23|[62.8,-18.23]|         1|\n",
            "|  5| 63.8|-18.33|[63.8,-18.33]|         1|\n",
            "|  6| 82.8|-17.23|[82.8,-17.23]|         1|\n",
            "|  7| 52.8|-13.43|[52.8,-13.43]|         1|\n",
            "|  8| 72.8| 48.23| [72.8,48.23]|         1|\n",
            "|  9| 65.8| 15.43| [65.8,15.43]|         1|\n",
            "| 10| 42.8|-13.23|[42.8,-13.23]|         1|\n",
            "+---+-----+------+-------------+----------+\n",
            "\n"
          ]
        }
      ]
    }
  ],
  "metadata": {
    "colab": {
      "provenance": [],
      "authorship_tag": "ABX9TyMT/AM+fUW+Gk8Mmfzas4Ph",
      "include_colab_link": true
    },
    "kernelspec": {
      "display_name": "Python 3",
      "name": "python3"
    },
    "language_info": {
      "name": "python"
    }
  },
  "nbformat": 4,
  "nbformat_minor": 0
}