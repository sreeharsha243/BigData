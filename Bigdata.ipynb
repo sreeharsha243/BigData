{
  "cells": [
    {
      "cell_type": "markdown",
      "metadata": {
        "id": "view-in-github",
        "colab_type": "text"
      },
      "source": [
        "<a href=\"https://colab.research.google.com/github/sreeharsha243/BigData/blob/main/Bigdata.ipynb\" target=\"_parent\"><img src=\"https://colab.research.google.com/assets/colab-badge.svg\" alt=\"Open In Colab\"/></a>"
      ]
    },
    {
      "cell_type": "code",
      "execution_count": null,
      "metadata": {
        "colab": {
          "base_uri": "https://localhost:8080/"
        },
        "id": "7W6NDY47EfzU",
        "outputId": "f39d681c-7f95-40bf-ffc6-24742ba94653"
      },
      "outputs": [
        {
          "data": {
            "text/plain": [
              "['ashwin', 'Jadeja', 'rahul', 'rohit', 'virat']"
            ]
          },
          "execution_count": 7,
          "metadata": {},
          "output_type": "execute_result"
        }
      ],
      "source": [
        "# DAY-01\n",
        "\n",
        "#create a list of cricket player names and sort them\n",
        "\n",
        "cplayers=[\"virat\",\"rahul\",\"ashwin\",\"rohit\",\"Jadeja\"]\n",
        "splayers=sorted(cplayers,key=lambda arg:arg.lower())\n",
        "splayers\n"
      ]
    },
    {
      "cell_type": "code",
      "execution_count": null,
      "metadata": {
        "colab": {
          "base_uri": "https://localhost:8080/"
        },
        "id": "TzzeICNMIHLX",
        "outputId": "9a770414-bf65-46e7-a187-8f90fc6cb0fa"
      },
      "outputs": [
        {
          "data": {
            "text/plain": [
              "['rahul', 'ashwin', 'rohit']"
            ]
          },
          "execution_count": 9,
          "metadata": {},
          "output_type": "execute_result"
        }
      ],
      "source": [
        "#list the players whose name contain 'h'\n",
        "\n",
        "list(filter(lambda arg:'h' in arg,cplayers))"
      ]
    },
    {
      "cell_type": "code",
      "execution_count": null,
      "metadata": {
        "colab": {
          "base_uri": "https://localhost:8080/"
        },
        "id": "rPsNNE0II-x_",
        "outputId": "4ba57a1b-cc27-4db7-cd57-f78bc9425df3"
      },
      "outputs": [
        {
          "data": {
            "text/plain": [
              "['ashwin', 'Jadeja']"
            ]
          },
          "execution_count": 12,
          "metadata": {},
          "output_type": "execute_result"
        }
      ],
      "source": [
        "#list the players whose name length is >5\n",
        "\n",
        "list(filter(lambda arg:len(arg)>5,cplayers))"
      ]
    },
    {
      "cell_type": "code",
      "execution_count": null,
      "metadata": {
        "colab": {
          "base_uri": "https://localhost:8080/"
        },
        "id": "iMhpbtpJJpu3",
        "outputId": "e2cbc486-485a-498b-8ab0-79746c31733b"
      },
      "outputs": [
        {
          "data": {
            "text/plain": [
              "['VIRAT', 'RAHUL', 'ASHWIN', 'ROHIT', 'JADEJA']"
            ]
          },
          "execution_count": 14,
          "metadata": {},
          "output_type": "execute_result"
        }
      ],
      "source": [
        "#map each case to upper case\n",
        "\n",
        "list(map(lambda item:item.upper(),cplayers))"
      ]
    },
    {
      "cell_type": "code",
      "execution_count": null,
      "metadata": {
        "colab": {
          "base_uri": "https://localhost:8080/"
        },
        "id": "X5PWU6OuKJIo",
        "outputId": "2049065b-8588-4a2d-c37f-4b3cdc7dca51"
      },
      "outputs": [
        {
          "data": {
            "text/plain": [
              "[('virat', 5), ('rahul', 5), ('ashwin', 6), ('rohit', 5), ('Jadeja', 6)]"
            ]
          },
          "execution_count": 15,
          "metadata": {},
          "output_type": "execute_result"
        }
      ],
      "source": [
        "#map each name to (name,length)\n",
        "#virat ->(virat,5)\n",
        "\n",
        "list(map(lambda name:(name,len(name)),cplayers))"
      ]
    },
    {
      "cell_type": "code",
      "execution_count": null,
      "metadata": {
        "colab": {
          "base_uri": "https://localhost:8080/",
          "height": 36
        },
        "id": "mEM4wGhJKkuf",
        "outputId": "7070b676-5da9-42e6-d03a-9b66a92fba97"
      },
      "outputs": [
        {
          "data": {
            "application/vnd.google.colaboratory.intrinsic+json": {
              "type": "string"
            },
            "text/plain": [
              "'viratrahulashwinrohitJadeja'"
            ]
          },
          "execution_count": 16,
          "metadata": {},
          "output_type": "execute_result"
        }
      ],
      "source": [
        "#Reduce all cricket players names to a single string\n",
        "\n",
        "from functools import reduce\n",
        "reduce(lambda a,b:a+b,cplayers)"
      ]
    },
    {
      "cell_type": "code",
      "execution_count": null,
      "metadata": {
        "colab": {
          "base_uri": "https://localhost:8080/"
        },
        "id": "q5MXUUqTLNXh",
        "outputId": "185beca6-3924-4949-f951-c10e1c8e57f5"
      },
      "outputs": [
        {
          "data": {
            "text/plain": [
              "6"
            ]
          },
          "execution_count": 17,
          "metadata": {},
          "output_type": "execute_result"
        }
      ],
      "source": [
        "l1=[1,3,5,2,6]\n",
        "reduce(max,l1)"
      ]
    },
    {
      "cell_type": "code",
      "execution_count": null,
      "metadata": {
        "colab": {
          "base_uri": "https://localhost:8080/"
        },
        "id": "NO8MTqTcLWgh",
        "outputId": "48355b11-c314-470c-d71c-e17d006bd0c8"
      },
      "outputs": [
        {
          "name": "stdout",
          "output_type": "stream",
          "text": [
            "[(6, 'ashwin'), (6, 'Jadeja'), (5, 'virat'), (5, 'rohit'), (5, 'rahul')]\n",
            "[(6, 'ashwin'), (6, 'Jadeja')]\n",
            "[('ashwin', 6), ('Jadeja', 6)]\n",
            "[('Jadeja', 6), ('ashwin', 6)]\n",
            "Jadeja\n"
          ]
        }
      ],
      "source": [
        "#Find the cricket player with maximum length\n",
        "\n",
        "l1=list(map(lambda name:(len(name),name),cplayers))\n",
        "l1.sort(reverse=True)\n",
        "print(l1)\n",
        "l2=list(filter(lambda x:(x[0]==l1[0][0]),l1))\n",
        "print(l2)\n",
        "l3=list(map(lambda w:(w[1],w[0]),l2))\n",
        "print(l3)\n",
        "l3.sort()\n",
        "print(l3)\n",
        "print(l3[0][0])\n",
        "\n"
      ]
    },
    {
      "cell_type": "code",
      "execution_count": null,
      "metadata": {
        "colab": {
          "base_uri": "https://localhost:8080/"
        },
        "id": "8aiYBgOWWhrM",
        "outputId": "49908dfc-f276-476c-8773-cdc0012ae41d"
      },
      "outputs": [
        {
          "name": "stdout",
          "output_type": "stream",
          "text": [
            "Collecting pyspark\n",
            "  Downloading pyspark-3.4.1.tar.gz (310.8 MB)\n",
            "\u001b[2K     \u001b[90m━━━━━━━━━━━━━━━━━━━━━━━━━━━━━━━━━━━━━━━\u001b[0m \u001b[32m310.8/310.8 MB\u001b[0m \u001b[31m4.8 MB/s\u001b[0m eta \u001b[36m0:00:00\u001b[0m\n",
            "\u001b[?25h  Preparing metadata (setup.py) ... \u001b[?25l\u001b[?25hdone\n",
            "Requirement already satisfied: py4j==0.10.9.7 in /usr/local/lib/python3.10/dist-packages (from pyspark) (0.10.9.7)\n",
            "Building wheels for collected packages: pyspark\n",
            "  Building wheel for pyspark (setup.py) ... \u001b[?25l\u001b[?25hdone\n",
            "  Created wheel for pyspark: filename=pyspark-3.4.1-py2.py3-none-any.whl size=311285388 sha256=5ce7893ff656a851757320759f5d133fd7c16a27097a3d94d9165e391ab18efa\n",
            "  Stored in directory: /root/.cache/pip/wheels/0d/77/a3/ff2f74cc9ab41f8f594dabf0579c2a7c6de920d584206e0834\n",
            "Successfully built pyspark\n",
            "Installing collected packages: pyspark\n",
            "Successfully installed pyspark-3.4.1\n"
          ]
        }
      ],
      "source": [
        "# INTERACTIVE PTYHON NOTEBOOK\n",
        "# DAY-02\n",
        "#python install packager\n",
        "# ! define as python as commands\n",
        "\n",
        "!pip install pyspark\n",
        "\n"
      ]
    },
    {
      "cell_type": "code",
      "execution_count": null,
      "metadata": {
        "id": "TOMEmt72aDdf"
      },
      "outputs": [],
      "source": [
        "from pyspark import SparkContext\n",
        "sc=SparkContext.getOrCreate()\n"
      ]
    },
    {
      "cell_type": "code",
      "execution_count": null,
      "metadata": {
        "colab": {
          "base_uri": "https://localhost:8080/"
        },
        "id": "0_oEokRfdYWv",
        "outputId": "025d0f98-2984-4911-9e1e-9dfd8bfe1ac2"
      },
      "outputs": [
        {
          "name": "stdout",
          "output_type": "stream",
          "text": [
            "[0, 1, 2, 3, 4, 5, 6, 7, 8, 9, 10, 11, 12, 13, 14]\n"
          ]
        }
      ],
      "source": [
        "# range(1000) means 0,1,2,3,.....,999\n",
        "\n",
        "rdd=sc.parallelize(range(1000))\n",
        "print(rdd.take(15))"
      ]
    },
    {
      "cell_type": "code",
      "execution_count": null,
      "metadata": {
        "colab": {
          "base_uri": "https://localhost:8080/"
        },
        "id": "WXL6gZ-KeNm9",
        "outputId": "3c779586-41f7-482e-8a6b-85ba80d1cfb1"
      },
      "outputs": [
        {
          "name": "stdout",
          "output_type": "stream",
          "text": [
            "[1, 3, 5, 7, 9, 11, 13, 15, 17, 19, 21, 23, 25, 27, 29]\n"
          ]
        },
        {
          "data": {
            "text/plain": [
              "[0, 2, 4, 6, 8, 10, 12, 14, 16, 18, 20, 22, 24, 26, 28]"
            ]
          },
          "execution_count": 50,
          "metadata": {},
          "output_type": "execute_result"
        }
      ],
      "source": [
        "odd=rdd.filter(lambda n:n%2!=0)\n",
        "print(odd.take(15))\n",
        "even=rdd.filter(lambda n:n%2==0)\n",
        "even.take(15)"
      ]
    },
    {
      "cell_type": "code",
      "execution_count": null,
      "metadata": {
        "colab": {
          "base_uri": "https://localhost:8080/"
        },
        "id": "oGi5GnOYe0Mo",
        "outputId": "e06631e0-cb1a-4322-8cbf-95ca4e3b0130"
      },
      "outputs": [
        {
          "data": {
            "text/plain": [
              "['Think of it for a moment – 1 Qunitillion = 1 Million Billion! Can you imagine how many drives / CDs / Blue-ray DVDs would be required to store them? It is difficult to imagine this scale of data generation even as a data science professional. While this pace of data generation is very exciting,  it has created entirely new set of challenges and has forced us to find new ways to handle Big Huge data effectively.',\n",
              " '',\n",
              " '',\n",
              " 'Big Data is not a new phenomena. It has been around for a while now. However, it has become really important with this pace of data generation. In past, several systems were developed for processing big data. Most of them were based on MapReduce framework. These frameworks typically rely on use of hard disk for saving and retrieving the results. However, this turns out to be very costly in terms of time and speed.',\n",
              " '']"
            ]
          },
          "execution_count": 52,
          "metadata": {},
          "output_type": "execute_result"
        }
      ],
      "source": [
        "blog=sc.textFile('/content/sample_data/blogtt.txt')\n",
        "blog.take(5)\n",
        "#or we can use blog.collect() for whole text file"
      ]
    },
    {
      "cell_type": "code",
      "execution_count": null,
      "metadata": {
        "colab": {
          "base_uri": "https://localhost:8080/"
        },
        "id": "5O-82HJzf8Oc",
        "outputId": "d2d0fa8f-8256-45d7-ed5c-4d1d7b16fd14"
      },
      "outputs": [
        {
          "data": {
            "text/plain": [
              "['Think of it for a moment – 1 Qunitillion = 1 Million Billion! Can you imagine how many drives / CDs / Blue-ray DVDs would be required to store them? It is difficult to imagine this scale of data generation even as a data science professional. While this pace of data generation is very exciting,  it has created entirely new set of challenges and has forced us to find new ways to handle Big Huge data effectively.',\n",
              " 'Big Data is not a new phenomena. It has been around for a while now. However, it has become really important with this pace of data generation. In past, several systems were developed for processing big data. Most of them were based on MapReduce framework. These frameworks typically rely on use of hard disk for saving and retrieving the results. However, this turns out to be very costly in terms of time and speed.',\n",
              " 'On the other hand, Organizations have never been more hungrier to add a competitive differentiation through understanding this data and offering its customer a much better experience. Imagine how valuable would be Facebook, if it did not understand your interests well? The traditional hard disk based MapReduce kind of frameworks do not help much to address this challenge.',\n",
              " 'In this article, I will introduce you to one such framework, which has made querying and analysing data at a large scale much more efficient than previous systems / frameworks – Read on!',\n",
              " 'P.S. This article is meant for complete beginners on the topic and presumes minimal prior knowledge in Big Data']"
            ]
          },
          "execution_count": 54,
          "metadata": {},
          "output_type": "execute_result"
        }
      ],
      "source": [
        "#Filter blank lines from RDD and create another stripped RDD\n",
        "# it was used to remove blank lines from text file\n",
        "srdd=blog.filter(lambda l:l.strip())\n",
        "srdd.take(5)"
      ]
    },
    {
      "cell_type": "code",
      "execution_count": null,
      "metadata": {
        "colab": {
          "base_uri": "https://localhost:8080/"
        },
        "id": "Dw7_IOtJgvZU",
        "outputId": "8975ebef-0bbf-4931-af26-3dca6b28427d"
      },
      "outputs": [
        {
          "name": "stdout",
          "output_type": "stream",
          "text": [
            "648 259\n"
          ]
        }
      ],
      "source": [
        "#to print the number of lines\n",
        "\n",
        "print(blog.count(),srdd.count())"
      ]
    },
    {
      "cell_type": "code",
      "execution_count": null,
      "metadata": {
        "colab": {
          "base_uri": "https://localhost:8080/"
        },
        "id": "41hdTLG1hBNq",
        "outputId": "7703d1e9-0a57-4acc-cde6-906958c8a647"
      },
      "outputs": [
        {
          "data": {
            "text/plain": [
              "['Think', 'of', 'it', 'for', 'a']"
            ]
          },
          "execution_count": 82,
          "metadata": {},
          "output_type": "execute_result"
        }
      ],
      "source": [
        "#Map each lines to list of words (use map and flatMap)\n",
        "\n",
        "wrdd=srdd.flatMap(lambda l:l.split(' '))\n",
        "wrdd.take(5)"
      ]
    },
    {
      "cell_type": "code",
      "execution_count": null,
      "metadata": {
        "colab": {
          "base_uri": "https://localhost:8080/"
        },
        "id": "t3SYswNDiQMi",
        "outputId": "93bade3e-5e86-4cdc-ac00-a72f4e9c8c90"
      },
      "outputs": [
        {
          "data": {
            "text/plain": [
              "[('i', <pyspark.resultiterable.ResultIterable at 0x7fb7dea46230>),\n",
              " ('1', <pyspark.resultiterable.ResultIterable at 0x7fb7dea47250>),\n",
              " ('=', <pyspark.resultiterable.ResultIterable at 0x7fb7dea462f0>),\n",
              " ('C', <pyspark.resultiterable.ResultIterable at 0x7fb7dea44e80>),\n",
              " ('y', <pyspark.resultiterable.ResultIterable at 0x7fb7dea45600>)]"
            ]
          },
          "execution_count": 83,
          "metadata": {},
          "output_type": "execute_result"
        }
      ],
      "source": [
        "#group each word by first letter\n",
        "\n",
        "grdd=wrdd.groupBy(lambda w:w[0:1])\n",
        "grdd.take(5)"
      ]
    },
    {
      "cell_type": "code",
      "execution_count": null,
      "metadata": {
        "colab": {
          "base_uri": "https://localhost:8080/"
        },
        "id": "scnfM5JujY6N",
        "outputId": "8a04fe16-fbf8-4ebc-b372-37988b530024"
      },
      "outputs": [
        {
          "data": {
            "text/plain": [
              "[(357, 'i'), (18, '1'), (41, '='), (25, 'C'), (35, 'y')]"
            ]
          },
          "execution_count": 84,
          "metadata": {},
          "output_type": "execute_result"
        }
      ],
      "source": [
        "#Reverse count and letter\n",
        "rgrdd=grdd.map(lambda w:(len(w[1]),w[0]))\n",
        "rgrdd.take(5)"
      ]
    },
    {
      "cell_type": "code",
      "execution_count": null,
      "metadata": {
        "colab": {
          "base_uri": "https://localhost:8080/"
        },
        "id": "MfksFrF-lkiR",
        "outputId": "663810e6-b992-4ff0-d444-7536710005d5"
      },
      "outputs": [
        {
          "data": {
            "text/plain": [
              "[(672, 't'), (507, 'a'), (357, 'i'), (303, 'c'), (277, 's')]"
            ]
          },
          "execution_count": 79,
          "metadata": {},
          "output_type": "execute_result"
        }
      ],
      "source": [
        "#Sort by count in reverse order\n",
        "\n",
        "srgdd=rgrdd.sortByKey(False)\n",
        "srgdd.take(5)"
      ]
    },
    {
      "cell_type": "code",
      "execution_count": null,
      "metadata": {
        "colab": {
          "base_uri": "https://localhost:8080/"
        },
        "id": "j69qlsFxmsGJ",
        "outputId": "ba3d8bc5-38e6-4918-8faf-2c58d8db8b9c"
      },
      "outputs": [
        {
          "data": {
            "text/plain": [
              "(4300, 5281)"
            ]
          },
          "execution_count": 89,
          "metadata": {},
          "output_type": "execute_result"
        }
      ],
      "source": [
        "stopwords=[\"in\",\"on\",\"for\",\"the\",\"a\",\"to\",\"of\",\"and\",\"is\"]\n",
        "stwrdd=wrdd.filter(lambda w:w not in stopwords)\n",
        "stwrdd.count(),wrdd.count()"
      ]
    },
    {
      "cell_type": "code",
      "execution_count": null,
      "metadata": {
        "colab": {
          "base_uri": "https://localhost:8080/"
        },
        "id": "7WWzOBKenzyD",
        "outputId": "d2fc1ce9-0a29-4e30-fc23-0c90d55edf10"
      },
      "outputs": [
        {
          "data": {
            "text/plain": [
              "(4300, 4300)"
            ]
          },
          "execution_count": 93,
          "metadata": {},
          "output_type": "execute_result"
        }
      ],
      "source": [
        "import string\n",
        "pstpwrdd=stwrdd.map(lambda w:w.translate(str.maketrans('','',string.punctuation)))\n",
        "stwrdd.count(),pstpwrd.count()"
      ]
    },
    {
      "cell_type": "code",
      "execution_count": null,
      "metadata": {
        "colab": {
          "base_uri": "https://localhost:8080/"
        },
        "id": "YFMlQq0eoVG9",
        "outputId": "4996b69f-abf7-46d5-a68a-86ebc93ce9a5"
      },
      "outputs": [
        {
          "data": {
            "text/plain": [
              "[(118, ''),\n",
              " (86, 'Spark'),\n",
              " (73, 'we'),\n",
              " (69, 'data'),\n",
              " (54, 'can'),\n",
              " (51, 'this'),\n",
              " (50, 'are'),\n",
              " (50, 'Apache'),\n",
              " (41, 'RDD'),\n",
              " (39, 'which')]"
            ]
          },
          "execution_count": 92,
          "metadata": {},
          "output_type": "execute_result"
        }
      ],
      "source": [
        "#group and sort\n",
        "\n",
        "grdd=pstpwrdd.groupBy(lambda w:w)\n",
        "mrdd=grdd.map(lambda x:(len(x[1]),x[0]))\n",
        "srdd=mrdd.sortByKey(False)\n",
        "srdd.take(10)"
      ]
    },
    {
      "cell_type": "code",
      "execution_count": null,
      "metadata": {
        "colab": {
          "base_uri": "https://localhost:8080/"
        },
        "id": "iXnRhd67p_Yr",
        "outputId": "e747d21a-a6ce-4ea2-e9dc-64f955c91935"
      },
      "outputs": [
        {
          "data": {
            "text/plain": [
              "(4300, 2127)"
            ]
          },
          "execution_count": 95,
          "metadata": {},
          "output_type": "execute_result"
        }
      ],
      "source": [
        "#demostrate sampling of RDDs\n",
        "samplerdd=pstpwrdd.sample(False,0.5,42)\n",
        "pstpwrdd.count(),samplerdd.count()"
      ]
    },
    {
      "cell_type": "code",
      "execution_count": null,
      "metadata": {
        "colab": {
          "base_uri": "https://localhost:8080/"
        },
        "id": "06vuc7C1r1-o",
        "outputId": "46025409-bbb4-44f5-9955-2c051800f9fe"
      },
      "outputs": [
        {
          "data": {
            "text/plain": [
              "(1287, 1260, 2547, 316, 331, 317)"
            ]
          },
          "execution_count": 96,
          "metadata": {},
          "output_type": "execute_result"
        }
      ],
      "source": [
        "samplerdd1=pstpwrdd.sample(True,0.3,42)#30% random samples\n",
        "samplerdd2=pstpwrdd.sample(True,0.3,43)#30%\n",
        "usample=samplerdd1.union(samplerdd2)\n",
        "isample=samplerdd1.intersection(samplerdd2)\n",
        "d1sample=samplerdd1.subtract(samplerdd2)\n",
        "d2sample=samplerdd2.subtract(samplerdd1)\n",
        "samplerdd1.count(),samplerdd2.count(),usample.count(),isample.count(),d1sample.count(),d2sample.count()"
      ]
    },
    {
      "cell_type": "code",
      "execution_count": null,
      "metadata": {
        "colab": {
          "base_uri": "https://localhost:8080/"
        },
        "id": "WunkYefswpCE",
        "outputId": "0ae2e53d-20c0-4160-ff56-8d673aba21f4"
      },
      "outputs": [
        {
          "data": {
            "text/plain": [
              "['1|24|M|technician|85711',\n",
              " '2|53|F|other|94043',\n",
              " '3|23|M|writer|32067',\n",
              " '4|24|M|technician|43537',\n",
              " '5|33|F|other|15213']"
            ]
          },
          "execution_count": 99,
          "metadata": {},
          "output_type": "execute_result"
        }
      ],
      "source": [
        "rdd=sc.textFile('/content/sample_data/u.user.txt')\n",
        "\n",
        "rdd.take(5)"
      ]
    },
    {
      "cell_type": "code",
      "execution_count": null,
      "metadata": {
        "colab": {
          "base_uri": "https://localhost:8080/"
        },
        "id": "j076BTsi00kL",
        "outputId": "f6f285b1-88a3-42a1-dbe6-4c9ef0b97853"
      },
      "outputs": [
        {
          "data": {
            "text/plain": [
              "[(670, 'M'), (273, 'F')]"
            ]
          },
          "execution_count": 105,
          "metadata": {},
          "output_type": "execute_result"
        }
      ],
      "source": [
        "grdd=rdd.groupBy(lambda l:l.split('|')[2])\n",
        "grdd.take(5)\n",
        "rgrdd=grdd.map(lambda l:(len(l[1]),l[0]))\n",
        "rgrdd.take(5)\n"
      ]
    },
    {
      "cell_type": "code",
      "execution_count": null,
      "metadata": {
        "colab": {
          "base_uri": "https://localhost:8080/"
        },
        "id": "LdQOFQ3p02r9",
        "outputId": "6642579d-6be5-4580-b8ba-73be0a84e0a3"
      },
      "outputs": [
        {
          "data": {
            "text/plain": [
              "[('student', 196),\n",
              " ('other', 105),\n",
              " ('educator', 95),\n",
              " ('administrator', 79),\n",
              " ('engineer', 67),\n",
              " ('programmer', 66),\n",
              " ('librarian', 51),\n",
              " ('writer', 45),\n",
              " ('executive', 32),\n",
              " ('scientist', 31)]"
            ]
          },
          "execution_count": 111,
          "metadata": {},
          "output_type": "execute_result"
        }
      ],
      "source": [
        "grdd=rdd.groupBy(lambda l:l.split('|')[3])\n",
        "grdd.take(5)\n",
        "rgrdd=grdd.map(lambda l:(len(l[1]),l[0]))\n",
        "rgrdd=rgrdd.sortByKey(False)\n",
        "rrgrdd=rgrdd.map(lambda l:(l[1],l[0]))\n",
        "rrgrdd.take(10)\n"
      ]
    },
    {
      "cell_type": "code",
      "execution_count": null,
      "metadata": {
        "colab": {
          "base_uri": "https://localhost:8080/"
        },
        "id": "4ggJLzdf19zK",
        "outputId": "8c9d51b6-1d68-4a1d-900a-74ab2cea3f04"
      },
      "outputs": [
        {
          "data": {
            "text/plain": [
              "(943, 399)"
            ]
          },
          "execution_count": 117,
          "metadata": {},
          "output_type": "execute_result"
        }
      ],
      "source": [
        "# find average age of users\n",
        "agerdd=rdd.map(lambda l:int(l.split('|')[1]))\n",
        "average=agerdd.mean()\n",
        "filterbyage=rdd.filter(lambda l:float(l.split('|')[1])>average)\n",
        "filterbyage.take(5)\n",
        "rdd.count(),filterbyage.count()"
      ]
    },
    {
      "cell_type": "code",
      "execution_count": null,
      "metadata": {
        "colab": {
          "base_uri": "https://localhost:8080/"
        },
        "id": "YjhCO_yNLLJs",
        "outputId": "a2af5a35-2705-400f-d269-3a800c148ffd"
      },
      "outputs": [
        {
          "name": "stdout",
          "output_type": "stream",
          "text": [
            "Collecting pyspark\n",
            "  Downloading pyspark-3.4.1.tar.gz (310.8 MB)\n",
            "\u001b[2K     \u001b[90m━━━━━━━━━━━━━━━━━━━━━━━━━━━━━━━━━━━━━━━\u001b[0m \u001b[32m310.8/310.8 MB\u001b[0m \u001b[31m4.1 MB/s\u001b[0m eta \u001b[36m0:00:00\u001b[0m\n",
            "\u001b[?25h  Preparing metadata (setup.py) ... \u001b[?25l\u001b[?25hdone\n",
            "Requirement already satisfied: py4j==0.10.9.7 in /usr/local/lib/python3.10/dist-packages (from pyspark) (0.10.9.7)\n",
            "Building wheels for collected packages: pyspark\n",
            "  Building wheel for pyspark (setup.py) ... \u001b[?25l\u001b[?25hdone\n",
            "  Created wheel for pyspark: filename=pyspark-3.4.1-py2.py3-none-any.whl size=311285388 sha256=38706f7c9f51918cacd8af5a7de4f95c64eb6cea9ac911cc010d8995f5d45ee6\n",
            "  Stored in directory: /root/.cache/pip/wheels/0d/77/a3/ff2f74cc9ab41f8f594dabf0579c2a7c6de920d584206e0834\n",
            "Successfully built pyspark\n",
            "Installing collected packages: pyspark\n",
            "Successfully installed pyspark-3.4.1\n"
          ]
        }
      ],
      "source": [
        "# DAY-03\n",
        "# Structured dats using CSV(comma separated values)\n",
        "\n",
        "!pip install pyspark\n"
      ]
    },
    {
      "cell_type": "code",
      "execution_count": null,
      "metadata": {
        "colab": {
          "base_uri": "https://localhost:8080/"
        },
        "id": "Kh7D9Kk-ND3_",
        "outputId": "ff1cba5f-b6ac-449e-e344-38e874b03bee"
      },
      "outputs": [
        {
          "output_type": "stream",
          "name": "stdout",
          "text": [
            "root\n",
            " |-- User_ID: string (nullable = true)\n",
            " |-- Product_ID: string (nullable = true)\n",
            " |-- Gender: string (nullable = true)\n",
            " |-- Age: string (nullable = true)\n",
            " |-- Occupation: string (nullable = true)\n",
            " |-- City_Category: string (nullable = true)\n",
            " |-- Stay_In_Current_City_Years: string (nullable = true)\n",
            " |-- Marital_Status: string (nullable = true)\n",
            " |-- Product_Category_1: string (nullable = true)\n",
            " |-- Product_Category_2: string (nullable = true)\n",
            " |-- Product_Category_3: string (nullable = true)\n",
            " |-- Purchase: string (nullable = true)\n",
            "\n"
          ]
        },
        {
          "output_type": "execute_result",
          "data": {
            "text/plain": [
              "['User_ID',\n",
              " 'Product_ID',\n",
              " 'Gender',\n",
              " 'Age',\n",
              " 'Occupation',\n",
              " 'City_Category',\n",
              " 'Stay_In_Current_City_Years',\n",
              " 'Marital_Status',\n",
              " 'Product_Category_1',\n",
              " 'Product_Category_2',\n",
              " 'Product_Category_3',\n",
              " 'Purchase']"
            ]
          },
          "metadata": {},
          "execution_count": 4
        }
      ],
      "source": [
        "from pyspark.sql.session import SparkSession\n",
        "sess=SparkSession.builder.getOrCreate()\n",
        "train=sess.read.csv('/content/sample_data/train - train.csv',header=True)\n",
        "train.count()\n",
        "train.printSchema()\n",
        "train.columns"
      ]
    },
    {
      "cell_type": "code",
      "execution_count": null,
      "metadata": {
        "colab": {
          "base_uri": "https://localhost:8080/"
        },
        "id": "XntGuJLnOqXg",
        "outputId": "44d61d3b-5270-49c6-d670-04a5e4d54a43"
      },
      "outputs": [
        {
          "name": "stdout",
          "output_type": "stream",
          "text": [
            "+----------+\n",
            "|Product_ID|\n",
            "+----------+\n",
            "|  P0098242|\n",
            "| P00281742|\n",
            "| P00026042|\n",
            "| P00015342|\n",
            "| P00159842|\n",
            "+----------+\n",
            "only showing top 5 rows\n",
            "\n"
          ]
        }
      ],
      "source": [
        "# Find distinct products\n",
        "\n",
        "train.select('Product_ID').distinct().count()\n",
        "train.select('Product_ID').distinct().show(5)"
      ]
    },
    {
      "cell_type": "code",
      "execution_count": null,
      "metadata": {
        "colab": {
          "base_uri": "https://localhost:8080/"
        },
        "id": "Kt2idYdBPhQr",
        "outputId": "a75bc908-2b47-42ef-a32c-52395068f4a6"
      },
      "outputs": [
        {
          "name": "stdout",
          "output_type": "stream",
          "text": [
            "+-------+-----------------+\n",
            "|summary|         Purchase|\n",
            "+-------+-----------------+\n",
            "|  count|           550068|\n",
            "|   mean|9263.968712959126|\n",
            "| stddev|5023.065393820575|\n",
            "|    min|            10000|\n",
            "|    max|             9999|\n",
            "+-------+-----------------+\n",
            "\n"
          ]
        }
      ],
      "source": [
        "# get descriptive statistics of purchase column\n",
        "\n",
        "train.select('Purchase').describe().show()"
      ]
    },
    {
      "cell_type": "code",
      "execution_count": null,
      "metadata": {
        "colab": {
          "base_uri": "https://localhost:8080/"
        },
        "id": "f8qy-phWRCkw",
        "outputId": "03238fe0-6de2-406c-f20f-10d695d0c035"
      },
      "outputs": [
        {
          "name": "stdout",
          "output_type": "stream",
          "text": [
            "root\n",
            " |-- User_ID: string (nullable = true)\n",
            " |-- Product_ID: string (nullable = true)\n",
            " |-- Gender: string (nullable = true)\n",
            " |-- Age: string (nullable = true)\n",
            " |-- Occupation: integer (nullable = true)\n",
            " |-- City_Category: string (nullable = true)\n",
            " |-- Stay_In_Current_City_Years: string (nullable = true)\n",
            " |-- Marital_Status: integer (nullable = true)\n",
            " |-- Product_Category_1: string (nullable = true)\n",
            " |-- Product_Category_2: string (nullable = true)\n",
            " |-- Product_Category_3: string (nullable = true)\n",
            " |-- Purchase: integer (nullable = true)\n",
            "\n"
          ]
        }
      ],
      "source": [
        "#making our owm schema\n",
        "\n",
        "import pyspark.sql.types as typ\n",
        "labels=[\n",
        "    ('User_ID',typ.StringType()),\n",
        "    ('Product_ID',typ.StringType()),\n",
        "    ('Gender',typ.StringType()),\n",
        "    ('Age',typ.StringType()),\n",
        "    ('Occupation',typ.IntegerType()),\n",
        "    ('City_Category',typ.StringType()),\n",
        "    ('Stay_In_Current_City_Years',typ.StringType()),\n",
        "    ('Marital_Status',typ.IntegerType()),\n",
        "    ('Product_Category_1',typ.StringType()),\n",
        "    ('Product_Category_2',typ.StringType()),\n",
        "    ('Product_Category_3',typ.StringType()),\n",
        "    ('Purchase',typ.IntegerType())\n",
        "]\n",
        "s=typ.StructType([\n",
        "    typ.StructField(e[0],e[1],False) for e in labels\n",
        "])\n",
        "train=sess.read.csv('/content/sample_data/train - train.csv',header=True,schema=s)\n",
        "train.printSchema()\n"
      ]
    },
    {
      "cell_type": "code",
      "execution_count": null,
      "metadata": {
        "colab": {
          "base_uri": "https://localhost:8080/"
        },
        "id": "f3UCVi4ZSe9l",
        "outputId": "1cf66513-0b3f-4a26-8ddd-04b6191165e0"
      },
      "outputs": [
        {
          "name": "stdout",
          "output_type": "stream",
          "text": [
            "+-------+-----------------+\n",
            "|summary|         Purchase|\n",
            "+-------+-----------------+\n",
            "|  count|           550068|\n",
            "|   mean|9263.968712959126|\n",
            "| stddev|5023.065393820575|\n",
            "|    min|               12|\n",
            "|    max|            23961|\n",
            "+-------+-----------------+\n",
            "\n"
          ]
        }
      ],
      "source": [
        "train.select('Purchase').describe().show()"
      ]
    },
    {
      "cell_type": "code",
      "execution_count": null,
      "metadata": {
        "colab": {
          "base_uri": "https://localhost:8080/"
        },
        "id": "N0tUUsvBS4Vc",
        "outputId": "7f67bc77-c875-4349-f5c0-575f2fa19e96"
      },
      "outputs": [
        {
          "name": "stdout",
          "output_type": "stream",
          "text": [
            "+-------+----------+------+-----+----------+-------------+--------------------------+--------------+------------------+------------------+------------------+--------+\n",
            "|User_ID|Product_ID|Gender|  Age|Occupation|City_Category|Stay_In_Current_City_Years|Marital_Status|Product_Category_1|Product_Category_2|Product_Category_3|Purchase|\n",
            "+-------+----------+------+-----+----------+-------------+--------------------------+--------------+------------------+------------------+------------------+--------+\n",
            "|1000001| P00248942|     F| 0-17|        10|            A|                         2|             0|                 1|                 6|                14|   15200|\n",
            "|1000003| P00193542|     M|26-35|        15|            A|                         3|             0|                 1|                 2|              null|   15227|\n",
            "|1000004| P00184942|     M|46-50|         7|            B|                         2|             1|                 1|                 8|                17|   19215|\n",
            "|1000004| P00346142|     M|46-50|         7|            B|                         2|             1|                 1|                15|              null|   15854|\n",
            "|1000004|  P0097242|     M|46-50|         7|            B|                         2|             1|                 1|                16|              null|   15686|\n",
            "|1000005| P00145042|     M|26-35|        20|            A|                         1|             1|                 1|                 2|                 5|   15665|\n",
            "|1000008| P00249542|     M|26-35|        12|            C|                        4+|             1|                 1|                 5|                15|   19614|\n",
            "|1000009| P00135742|     M|26-35|        17|            C|                         0|             0|                 6|                 8|              null|   16662|\n",
            "|1000010| P00085942|     F|36-45|         1|            B|                        4+|             1|                 2|                 4|                 8|   16352|\n",
            "|1000010| P00155442|     F|36-45|         1|            B|                        4+|             1|                 1|                11|                15|   15212|\n",
            "|1000010| P00221342|     F|36-45|         1|            B|                        4+|             1|                 1|                 2|                 5|   15705|\n",
            "|1000010| P00111142|     F|36-45|         1|            B|                        4+|             1|                 1|                15|                16|   18963|\n",
            "|1000010|  P0094542|     F|36-45|         1|            B|                        4+|             1|                 2|                 4|                 9|   16406|\n",
            "|1000011| P00110842|     F|26-35|         1|            C|                         1|             0|                 1|                 2|                 5|   19327|\n",
            "|1000012| P00304242|     M|26-35|        12|            C|                         2|             0|                 1|                 6|              null|   15246|\n",
            "|1000013| P00140742|     M|46-50|         1|            C|                         3|             1|                 1|                15|              null|   15912|\n",
            "|1000015| P00334242|     M|26-35|         7|            A|                         1|             0|                 1|                 8|              null|   19653|\n",
            "|1000017| P00019342|     M|51-55|         1|            C|                         0|             0|                 1|                 6|                15|   15872|\n",
            "|1000017| P00073842|     M|51-55|         1|            C|                         0|             0|                 1|                15|                17|   15172|\n",
            "|1000018| P00112642|     F|18-25|         3|            B|                         3|             0|                 1|                 2|                 5|   19473|\n",
            "+-------+----------+------+-----+----------+-------------+--------------------------+--------------+------------------+------------------+------------------+--------+\n",
            "only showing top 20 rows\n",
            "\n"
          ]
        }
      ],
      "source": [
        "# find the transactions whose purchase amt exceeds 15000\n",
        "\n",
        "train.filter(train.Purchase>15000).show()"
      ]
    },
    {
      "cell_type": "code",
      "execution_count": null,
      "metadata": {
        "colab": {
          "base_uri": "https://localhost:8080/"
        },
        "id": "legaAfXYTbUh",
        "outputId": "bdd4773a-1e96-432f-9484-fd78b50873b4"
      },
      "outputs": [
        {
          "data": {
            "text/plain": [
              "324731"
            ]
          },
          "execution_count": 18,
          "metadata": {},
          "output_type": "execute_result"
        }
      ],
      "source": [
        "# give me details whose marital status is 1\n",
        "\n",
        "train.filter(train.Marital_Status==0).count()"
      ]
    },
    {
      "cell_type": "code",
      "execution_count": null,
      "metadata": {
        "colab": {
          "base_uri": "https://localhost:8080/"
        },
        "id": "6rgAm4utTqdT",
        "outputId": "d0469d78-bdfe-4061-e5ec-d3806d8a91f6"
      },
      "outputs": [
        {
          "name": "stdout",
          "output_type": "stream",
          "text": [
            "+----------+-----+------+\n",
            "|Age_Gender|    F|     M|\n",
            "+----------+-----+------+\n",
            "|     18-25|24628| 75032|\n",
            "|     26-35|50752|168835|\n",
            "|      0-17| 5083| 10019|\n",
            "|     46-50|13199| 32502|\n",
            "|     51-55| 9894| 28607|\n",
            "|     36-45|27170| 82843|\n",
            "|       55+| 5083| 16421|\n",
            "+----------+-----+------+\n",
            "\n"
          ]
        }
      ],
      "source": [
        "#Get the correlation between age gender: we can identify using crosstab\n",
        "\n",
        "train.crosstab('Age','Gender').show()"
      ]
    },
    {
      "cell_type": "code",
      "execution_count": null,
      "metadata": {
        "colab": {
          "base_uri": "https://localhost:8080/"
        },
        "id": "3xXkXr45UOpJ",
        "outputId": "5db5f734-43e1-42bf-a882-fbb3cdf378c0"
      },
      "outputs": [
        {
          "name": "stdout",
          "output_type": "stream",
          "text": [
            "+-----+-----------------+\n",
            "|  Age|    avg(Purchase)|\n",
            "+-----+-----------------+\n",
            "|18-25|9169.663606261289|\n",
            "|26-35|9252.690632869888|\n",
            "| 0-17|8933.464640444974|\n",
            "|46-50|9208.625697468327|\n",
            "|51-55|9534.808030960236|\n",
            "|36-45|9331.350694917874|\n",
            "|  55+|9336.280459449405|\n",
            "+-----+-----------------+\n",
            "\n",
            "+-----+------+\n",
            "|  Age| count|\n",
            "+-----+------+\n",
            "|18-25| 99660|\n",
            "|26-35|219587|\n",
            "| 0-17| 15102|\n",
            "|46-50| 45701|\n",
            "|51-55| 38501|\n",
            "|36-45|110013|\n",
            "|  55+| 21504|\n",
            "+-----+------+\n",
            "\n"
          ]
        }
      ],
      "source": [
        "#Find the mean purchase of each age group\n",
        "# count the number of records of each group\n",
        "\n",
        "train.groupBy('Age').agg({'Purchase':'Mean'}).show()\n",
        "train.groupBy('Age').count().show()"
      ]
    },
    {
      "cell_type": "code",
      "execution_count": null,
      "metadata": {
        "colab": {
          "base_uri": "https://localhost:8080/"
        },
        "id": "3ZNJGwq6VRh-",
        "outputId": "64558526-d21f-44b0-9f03-17b7c26e1231"
      },
      "outputs": [
        {
          "output_type": "stream",
          "name": "stdout",
          "text": [
            "+-------+----------+------+-----+----------+-------------+--------------------------+--------------+------------------+------------------+------------------+--------+\n",
            "|User_ID|Product_ID|Gender|  Age|Occupation|City_Category|Stay_In_Current_City_Years|Marital_Status|Product_Category_1|Product_Category_2|Product_Category_3|Purchase|\n",
            "+-------+----------+------+-----+----------+-------------+--------------------------+--------------+------------------+------------------+------------------+--------+\n",
            "|1001330| P00085342|     M|  55+|         1|            C|                        4+|             0|                10|                13|              null|   23461|\n",
            "|1000008| P00156442|     M|26-35|        12|            C|                        4+|             1|                 8|              null|              null|    9872|\n",
            "|1001333| P00071242|     M|26-35|        17|            A|                        4+|             0|                 1|                15|                16|    4286|\n",
            "|1000010| P00312142|     F|36-45|         1|            B|                        4+|             1|                 8|              null|              null|   10007|\n",
            "|1001331| P00240142|     M|46-50|         0|            C|                        4+|             1|                 5|              null|              null|    6973|\n",
            "|1000008| P00213742|     M|26-35|        12|            C|                        4+|             1|                 8|              null|              null|    9743|\n",
            "|1001313| P00363442|     M|18-25|         4|            B|                        4+|             1|                 1|              null|              null|   12095|\n",
            "|1000010| P00032442|     F|36-45|         1|            B|                        4+|             1|                 5|              null|              null|    5152|\n",
            "|1001331| P00255842|     M|46-50|         0|            C|                        4+|             1|                16|              null|              null|   16385|\n",
            "|1000010| P00148642|     F|36-45|         1|            B|                        4+|             1|                 6|                10|                13|   12642|\n",
            "|1001333| P00010742|     M|26-35|        17|            A|                        4+|             0|                 1|                 8|                17|   15672|\n",
            "|1000010| P00105942|     F|36-45|         1|            B|                        4+|             1|                 5|              null|              null|    7089|\n",
            "|1001333| P00245642|     M|26-35|        17|            A|                        4+|             0|                 5|                11|                12|    6892|\n",
            "|1000008| P00249542|     M|26-35|        12|            C|                        4+|             1|                 1|                 5|                15|   19614|\n",
            "|1001310| P00178142|     M|46-50|         0|            C|                        4+|             1|                 8|                17|              null|    6039|\n",
            "|1000010|  P0094542|     F|36-45|         1|            B|                        4+|             1|                 2|                 4|                 9|   16406|\n",
            "|1001333| P00108142|     M|26-35|        17|            A|                        4+|             0|                11|              null|              null|    3190|\n",
            "|1000010| P00182642|     F|36-45|         1|            B|                        4+|             1|                 2|                 4|                 9|   12909|\n",
            "|1001331| P00275142|     M|46-50|         0|            C|                        4+|             1|                 5|                 8|              null|    5463|\n",
            "|1000008| P00214442|     M|26-35|        12|            C|                        4+|             1|                 8|              null|              null|    5982|\n",
            "+-------+----------+------+-----+----------+-------------+--------------------------+--------------+------------------+------------------+------------------+--------+\n",
            "only showing top 20 rows\n",
            "\n"
          ]
        }
      ],
      "source": [
        "#Order the train results by current stay in yrs:\n",
        "\n",
        "from pyspark.sql.functions import col\n",
        "train.orderBy(col('Stay_In_Current_City_Years').desc()).show()"
      ]
    },
    {
      "cell_type": "code",
      "source": [
        "#Adding a new column to data frame:\n",
        "\n",
        "train=train.withColumn('gst_pa',train.Purchase*1.18)\n",
        "train.columns"
      ],
      "metadata": {
        "colab": {
          "base_uri": "https://localhost:8080/"
        },
        "id": "m0mzJmsHYQ_6",
        "outputId": "3464f193-4050-476f-e205-e4160769cdc3"
      },
      "execution_count": null,
      "outputs": [
        {
          "output_type": "execute_result",
          "data": {
            "text/plain": [
              "['User_ID',\n",
              " 'Product_ID',\n",
              " 'Gender',\n",
              " 'Age',\n",
              " 'Occupation',\n",
              " 'City_Category',\n",
              " 'Stay_In_Current_City_Years',\n",
              " 'Marital_Status',\n",
              " 'Product_Category_1',\n",
              " 'Product_Category_2',\n",
              " 'Product_Category_3',\n",
              " 'Purchase',\n",
              " 'gst_pa']"
            ]
          },
          "metadata": {},
          "execution_count": 6
        }
      ]
    },
    {
      "cell_type": "code",
      "source": [
        "train.select('Purchase','gst_pa').show(3)"
      ],
      "metadata": {
        "colab": {
          "base_uri": "https://localhost:8080/"
        },
        "id": "BnjK77hpYt3W",
        "outputId": "f21e37e0-7578-4fbc-9c5f-d78017d579b1"
      },
      "execution_count": null,
      "outputs": [
        {
          "output_type": "stream",
          "name": "stdout",
          "text": [
            "+--------+------------------+\n",
            "|Purchase|            gst_pa|\n",
            "+--------+------------------+\n",
            "|    8370|            9876.6|\n",
            "|   15200|           17936.0|\n",
            "|    1422|1677.9599999999998|\n",
            "+--------+------------------+\n",
            "only showing top 3 rows\n",
            "\n"
          ]
        }
      ]
    },
    {
      "cell_type": "code",
      "source": [
        "# drop an existing column\n",
        "\n",
        "train=train.drop('gst_pa')\n",
        "train.columns"
      ],
      "metadata": {
        "colab": {
          "base_uri": "https://localhost:8080/"
        },
        "id": "mn3twFV4ZRq5",
        "outputId": "e50a8140-4dd5-4bb1-978e-87812c058a66"
      },
      "execution_count": null,
      "outputs": [
        {
          "output_type": "execute_result",
          "data": {
            "text/plain": [
              "['User_ID',\n",
              " 'Product_ID',\n",
              " 'Gender',\n",
              " 'Age',\n",
              " 'Occupation',\n",
              " 'City_Category',\n",
              " 'Stay_In_Current_City_Years',\n",
              " 'Marital_Status',\n",
              " 'Product_Category_1',\n",
              " 'Product_Category_2',\n",
              " 'Product_Category_3',\n",
              " 'Purchase']"
            ]
          },
          "metadata": {},
          "execution_count": 9
        }
      ]
    },
    {
      "cell_type": "code",
      "source": [
        "#Converting data frame to table:\n",
        "\n",
        "train.createOrReplaceTempView('train_table')"
      ],
      "metadata": {
        "id": "xmGusG_zZj-l"
      },
      "execution_count": null,
      "outputs": []
    },
    {
      "cell_type": "code",
      "source": [
        "#sql query\n",
        "\n",
        "from pyspark import SparkContext,SQLContext\n",
        "sc=SparkContext.getOrCreate()\n",
        "sq=SQLContext(sc)\n",
        "sq.sql(\"select Age,COUNT(*) AS C from train_table group by age order by c desc\").show()"
      ],
      "metadata": {
        "colab": {
          "base_uri": "https://localhost:8080/"
        },
        "id": "pnLkcRcqaUu8",
        "outputId": "24a99b0f-aa61-4f08-9957-8e15fd5e958a"
      },
      "execution_count": null,
      "outputs": [
        {
          "output_type": "stream",
          "name": "stdout",
          "text": [
            "+-----+------+\n",
            "|  Age|     C|\n",
            "+-----+------+\n",
            "|26-35|219587|\n",
            "|36-45|110013|\n",
            "|18-25| 99660|\n",
            "|46-50| 45701|\n",
            "|51-55| 38501|\n",
            "|  55+| 21504|\n",
            "| 0-17| 15102|\n",
            "+-----+------+\n",
            "\n"
          ]
        }
      ]
    },
    {
      "cell_type": "code",
      "source": [
        "# read a JSON file\n",
        "\n",
        "jsondf=sess.read.option(\"multiline\",\"true\").json('/content/sample_data/student.json')\n",
        "jsondf.show()"
      ],
      "metadata": {
        "colab": {
          "base_uri": "https://localhost:8080/"
        },
        "id": "fS8_xiTZgPxl",
        "outputId": "38858927-cd43-451f-875e-063726f4027d"
      },
      "execution_count": null,
      "outputs": [
        {
          "output_type": "stream",
          "name": "stdout",
          "text": [
            "+-------+----+--------+---+\n",
            "|   mode|name|   topic|usn|\n",
            "+-------+----+--------+---+\n",
            "| online|  n1|Big data| u1|\n",
            "|offline|  n2|Big data| u2|\n",
            "| online|  n3|      AI| u3|\n",
            "| online|  n4|      AI| u4|\n",
            "+-------+----+--------+---+\n",
            "\n"
          ]
        }
      ]
    },
    {
      "cell_type": "code",
      "source": [
        "jsondf.groupBy(\"topic\").count().show()"
      ],
      "metadata": {
        "colab": {
          "base_uri": "https://localhost:8080/"
        },
        "id": "o_IS8PRzglsL",
        "outputId": "56a7ecec-5f8a-4cb4-9856-318d228dab93"
      },
      "execution_count": null,
      "outputs": [
        {
          "output_type": "stream",
          "name": "stdout",
          "text": [
            "+--------+-----+\n",
            "|   topic|count|\n",
            "+--------+-----+\n",
            "|      AI|    2|\n",
            "|Big data|    2|\n",
            "+--------+-----+\n",
            "\n"
          ]
        }
      ]
    },
    {
      "cell_type": "code",
      "source": [
        "# Find people who are doing online\n",
        "\n",
        "jsondf.filter(jsondf.mode==\"online\").show()"
      ],
      "metadata": {
        "colab": {
          "base_uri": "https://localhost:8080/"
        },
        "id": "68Yjp44ggvJZ",
        "outputId": "1aac5b95-623c-4e94-c929-5d0b182868e6"
      },
      "execution_count": null,
      "outputs": [
        {
          "output_type": "stream",
          "name": "stdout",
          "text": [
            "+------+----+--------+---+\n",
            "|  mode|name|   topic|usn|\n",
            "+------+----+--------+---+\n",
            "|online|  n1|Big data| u1|\n",
            "|online|  n3|      AI| u3|\n",
            "|online|  n4|      AI| u4|\n",
            "+------+----+--------+---+\n",
            "\n"
          ]
        }
      ]
    },
    {
      "cell_type": "code",
      "source": [
        "# convert data frame to rdd and write to csv\n",
        "\n",
        "ftrain=train.filter(train.Purchase>20000)\n",
        "frdd=ftrain.rdd\n",
        "frdd.saveAsTextFile('/context/sample_data/f.txt')"
      ],
      "metadata": {
        "id": "m3ZP_fOUhNq3"
      },
      "execution_count": null,
      "outputs": []
    },
    {
      "cell_type": "code",
      "source": [
        "# DAY-04\n",
        "\n",
        "!pip install pyspark"
      ],
      "metadata": {
        "colab": {
          "base_uri": "https://localhost:8080/"
        },
        "id": "Jq1iGraVHY6A",
        "outputId": "f5e64de3-e30e-44a5-c82a-41a67ddcb6cb"
      },
      "execution_count": 1,
      "outputs": [
        {
          "output_type": "stream",
          "name": "stdout",
          "text": [
            "Collecting pyspark\n",
            "  Downloading pyspark-3.4.1.tar.gz (310.8 MB)\n",
            "\u001b[2K     \u001b[90m━━━━━━━━━━━━━━━━━━━━━━━━━━━━━━━━━━━━━━━\u001b[0m \u001b[32m310.8/310.8 MB\u001b[0m \u001b[31m3.0 MB/s\u001b[0m eta \u001b[36m0:00:00\u001b[0m\n",
            "\u001b[?25h  Preparing metadata (setup.py) ... \u001b[?25l\u001b[?25hdone\n",
            "Requirement already satisfied: py4j==0.10.9.7 in /usr/local/lib/python3.10/dist-packages (from pyspark) (0.10.9.7)\n",
            "Building wheels for collected packages: pyspark\n",
            "  Building wheel for pyspark (setup.py) ... \u001b[?25l\u001b[?25hdone\n",
            "  Created wheel for pyspark: filename=pyspark-3.4.1-py2.py3-none-any.whl size=311285388 sha256=d3cc9a418316403d82e29c06671c9604b207092fc6cf3db066ba5b5902e6fe3d\n",
            "  Stored in directory: /root/.cache/pip/wheels/0d/77/a3/ff2f74cc9ab41f8f594dabf0579c2a7c6de920d584206e0834\n",
            "Successfully built pyspark\n",
            "Installing collected packages: pyspark\n",
            "Successfully installed pyspark-3.4.1\n"
          ]
        }
      ]
    },
    {
      "cell_type": "code",
      "source": [
        "#Drop duplicates\n",
        "\n",
        "from pyspark.sql.session import SparkSession\n",
        "sess=SparkSession.builder.getOrCreate()\n",
        "df=sess.createDataFrame([\n",
        "    (1,144.5,5.9,33,'M'),\n",
        "    (2,167.2,5.4,45,'M'),\n",
        "    (3,124.1,5.2,23,'F'),\n",
        "    (4,144.5,5.9,33,'M'),\n",
        "    (5,133.2,5.7,54,'F'),\n",
        "    (3,124.1,5.2,23,'F'),\n",
        "    (5,129.2,5.3,42,'M'),\n",
        "],['id','weight','height','age','gender'])\n",
        "\n",
        "df.show()\n",
        "df.count()"
      ],
      "metadata": {
        "colab": {
          "base_uri": "https://localhost:8080/"
        },
        "id": "DuUie8fzH1dN",
        "outputId": "74daf017-21f6-4146-8e08-81b3aa16220e"
      },
      "execution_count": 4,
      "outputs": [
        {
          "output_type": "stream",
          "name": "stdout",
          "text": [
            "+---+------+------+---+------+\n",
            "| id|weight|height|age|gender|\n",
            "+---+------+------+---+------+\n",
            "|  1| 144.5|   5.9| 33|     M|\n",
            "|  2| 167.2|   5.4| 45|     M|\n",
            "|  3| 124.1|   5.2| 23|     F|\n",
            "|  4| 144.5|   5.9| 33|     M|\n",
            "|  5| 133.2|   5.7| 54|     F|\n",
            "|  3| 124.1|   5.2| 23|     F|\n",
            "|  5| 129.2|   5.3| 42|     M|\n",
            "+---+------+------+---+------+\n",
            "\n"
          ]
        },
        {
          "output_type": "execute_result",
          "data": {
            "text/plain": [
              "7"
            ]
          },
          "metadata": {},
          "execution_count": 4
        }
      ]
    },
    {
      "cell_type": "code",
      "source": [
        "df=df.dropDuplicates(subset=[c for c in df.columns if c!='id' ])\n",
        "df.show()"
      ],
      "metadata": {
        "colab": {
          "base_uri": "https://localhost:8080/"
        },
        "id": "20yjwis8JJO1",
        "outputId": "7b20cdc0-1473-41cb-ac58-825d59a4e81b"
      },
      "execution_count": 5,
      "outputs": [
        {
          "output_type": "stream",
          "name": "stdout",
          "text": [
            "+---+------+------+---+------+\n",
            "| id|weight|height|age|gender|\n",
            "+---+------+------+---+------+\n",
            "|  1| 144.5|   5.9| 33|     M|\n",
            "|  2| 167.2|   5.4| 45|     M|\n",
            "|  3| 124.1|   5.2| 23|     F|\n",
            "|  5| 133.2|   5.7| 54|     F|\n",
            "|  5| 129.2|   5.3| 42|     M|\n",
            "+---+------+------+---+------+\n",
            "\n"
          ]
        }
      ]
    },
    {
      "cell_type": "code",
      "source": [
        "df=df.drop('id')\n",
        "df.show()"
      ],
      "metadata": {
        "colab": {
          "base_uri": "https://localhost:8080/"
        },
        "id": "_oas5_mlJ5WP",
        "outputId": "952d6345-9464-4e08-a3fb-473a7a8dd1d8"
      },
      "execution_count": 8,
      "outputs": [
        {
          "output_type": "stream",
          "name": "stdout",
          "text": [
            "+------+------+---+------+\n",
            "|weight|height|age|gender|\n",
            "+------+------+---+------+\n",
            "| 144.5|   5.9| 33|     M|\n",
            "| 167.2|   5.4| 45|     M|\n",
            "| 124.1|   5.2| 23|     F|\n",
            "| 133.2|   5.7| 54|     F|\n",
            "| 129.2|   5.3| 42|     M|\n",
            "+------+------+---+------+\n",
            "\n"
          ]
        }
      ]
    },
    {
      "cell_type": "code",
      "source": [
        "#recreating id with automatic increaser\n",
        "\n",
        "import pyspark.sql.functions as fn\n",
        "df=df.withColumn('id',fn.monotonically_increasing_id()+1)\n",
        "df.show()"
      ],
      "metadata": {
        "colab": {
          "base_uri": "https://localhost:8080/"
        },
        "id": "kk7GzXhtKCjT",
        "outputId": "8a2355c2-1c2a-4aea-87f5-3a38c5833ec5"
      },
      "execution_count": 9,
      "outputs": [
        {
          "output_type": "stream",
          "name": "stdout",
          "text": [
            "+------+------+---+------+---+\n",
            "|weight|height|age|gender| id|\n",
            "+------+------+---+------+---+\n",
            "| 144.5|   5.9| 33|     M|  1|\n",
            "| 167.2|   5.4| 45|     M|  2|\n",
            "| 124.1|   5.2| 23|     F|  3|\n",
            "| 133.2|   5.7| 54|     F|  4|\n",
            "| 129.2|   5.3| 42|     M|  5|\n",
            "+------+------+---+------+---+\n",
            "\n"
          ]
        }
      ]
    },
    {
      "cell_type": "code",
      "source": [
        "#ordering as per our requirements\n",
        "\n",
        "df=df.select('id','height','weight','age','gender')\n",
        "df.show()"
      ],
      "metadata": {
        "colab": {
          "base_uri": "https://localhost:8080/"
        },
        "id": "nZl1U9yRK6S4",
        "outputId": "4fb3b524-9d07-47bf-b936-170631b9972f"
      },
      "execution_count": 10,
      "outputs": [
        {
          "output_type": "stream",
          "name": "stdout",
          "text": [
            "+---+------+------+---+------+\n",
            "| id|height|weight|age|gender|\n",
            "+---+------+------+---+------+\n",
            "|  1|   5.9| 144.5| 33|     M|\n",
            "|  2|   5.4| 167.2| 45|     M|\n",
            "|  3|   5.2| 124.1| 23|     F|\n",
            "|  4|   5.7| 133.2| 54|     F|\n",
            "|  5|   5.3| 129.2| 42|     M|\n",
            "+---+------+------+---+------+\n",
            "\n"
          ]
        }
      ]
    },
    {
      "cell_type": "code",
      "source": [
        "df_miss = sess.createDataFrame([\n",
        "        (1, 143.5, 5.6, 28,   'M',  100000),\n",
        "        (2, 167.2, 5.4, 45,   'M',  None),\n",
        "        (3, None , 5.2, None, None, None),\n",
        "        (4, 144.5, 5.9, 33,   'M',  None),\n",
        "        (5, 133.2, 5.7, 54,   'F',  None),\n",
        "        (6, 124.1, 5.2, None, 'F',  None),\n",
        "        (7, 129.2, 5.3, 42,   'M',  76000),\n",
        "    ], ['id', 'weight', 'height', 'age', 'gender', 'income'])\n",
        "# replacing blank data with meaning data is called imputing\n",
        "\n",
        "df_miss.show()"
      ],
      "metadata": {
        "colab": {
          "base_uri": "https://localhost:8080/"
        },
        "id": "BnjfwxkNLQGU",
        "outputId": "3435a4b9-61e4-4f3d-9c9e-833f0be2fcad"
      },
      "execution_count": 17,
      "outputs": [
        {
          "output_type": "stream",
          "name": "stdout",
          "text": [
            "+---+------+------+----+------+------+\n",
            "| id|weight|height| age|gender|income|\n",
            "+---+------+------+----+------+------+\n",
            "|  1| 143.5|   5.6|  28|     M|100000|\n",
            "|  2| 167.2|   5.4|  45|     M|  null|\n",
            "|  3|  null|   5.2|null|  null|  null|\n",
            "|  4| 144.5|   5.9|  33|     M|  null|\n",
            "|  5| 133.2|   5.7|  54|     F|  null|\n",
            "|  6| 124.1|   5.2|null|     F|  null|\n",
            "|  7| 129.2|   5.3|  42|     M| 76000|\n",
            "+---+------+------+----+------+------+\n",
            "\n"
          ]
        }
      ]
    },
    {
      "cell_type": "code",
      "source": [
        "df_miss.agg(*[\n",
        "    (1-(fn.count(c)/fn.count('*'))).alias(c+'_missing')\n",
        "    for c in df_miss.columns\n",
        "]).show()"
      ],
      "metadata": {
        "colab": {
          "base_uri": "https://localhost:8080/"
        },
        "id": "-y-qiGf2VFx6",
        "outputId": "c29f251b-0d9a-4f35-df9c-2f039f88a660"
      },
      "execution_count": 15,
      "outputs": [
        {
          "output_type": "stream",
          "name": "stdout",
          "text": [
            "+----------+------------------+--------------+------------------+------------------+------------------+\n",
            "|id_missing|    weight_missing|height_missing|       age_missing|    gender_missing|    income_missing|\n",
            "+----------+------------------+--------------+------------------+------------------+------------------+\n",
            "|       0.0|0.1428571428571429|           0.0|0.2857142857142857|0.1428571428571429|0.7142857142857143|\n",
            "+----------+------------------+--------------+------------------+------------------+------------------+\n",
            "\n"
          ]
        }
      ]
    },
    {
      "cell_type": "code",
      "source": [
        "# if row contain more than 3 NULL values delete it\n",
        "\n",
        "df_miss=df_miss.drop('income')\n",
        "df_miss=df_miss.dropna(thresh=3)\n",
        "df_miss.show()"
      ],
      "metadata": {
        "colab": {
          "base_uri": "https://localhost:8080/"
        },
        "id": "BKLSDPCFXKEu",
        "outputId": "9a34bd82-0693-41f9-bab7-6d94c279178c"
      },
      "execution_count": 19,
      "outputs": [
        {
          "output_type": "stream",
          "name": "stdout",
          "text": [
            "+---+------+------+----+------+\n",
            "| id|weight|height| age|gender|\n",
            "+---+------+------+----+------+\n",
            "|  1| 143.5|   5.6|  28|     M|\n",
            "|  2| 167.2|   5.4|  45|     M|\n",
            "|  4| 144.5|   5.9|  33|     M|\n",
            "|  5| 133.2|   5.7|  54|     F|\n",
            "|  6| 124.1|   5.2|null|     F|\n",
            "|  7| 129.2|   5.3|  42|     M|\n",
            "+---+------+------+----+------+\n",
            "\n"
          ]
        }
      ]
    },
    {
      "cell_type": "code",
      "source": [
        "#replace null with average if that row\n",
        "\n",
        "avgdf=df_miss.agg({'age':'mean'})\n",
        "avgage=avgdf.collect()[0][0]\n",
        "avgage\n",
        "avgdf.show()\n",
        "avgdf.collect()[0]"
      ],
      "metadata": {
        "colab": {
          "base_uri": "https://localhost:8080/"
        },
        "id": "mAHE84gAX-oE",
        "outputId": "8a8ec9f3-13bd-42c0-f022-97d0daa90d5f"
      },
      "execution_count": 22,
      "outputs": [
        {
          "output_type": "stream",
          "name": "stdout",
          "text": [
            "+--------+\n",
            "|avg(age)|\n",
            "+--------+\n",
            "|    40.4|\n",
            "+--------+\n",
            "\n"
          ]
        },
        {
          "output_type": "execute_result",
          "data": {
            "text/plain": [
              "Row(avg(age)=40.4)"
            ]
          },
          "metadata": {},
          "execution_count": 22
        }
      ]
    },
    {
      "cell_type": "code",
      "source": [
        "#replacing null\n",
        "\n",
        "df_miss=df_miss.fillna(avgage)\n",
        "df_miss.show()"
      ],
      "metadata": {
        "colab": {
          "base_uri": "https://localhost:8080/"
        },
        "id": "jc3WI5AZZH4S",
        "outputId": "f50220c9-d6b5-4553-b430-0bf5fcd29bf5"
      },
      "execution_count": 23,
      "outputs": [
        {
          "output_type": "stream",
          "name": "stdout",
          "text": [
            "+---+------+------+---+------+\n",
            "| id|weight|height|age|gender|\n",
            "+---+------+------+---+------+\n",
            "|  1| 143.5|   5.6| 28|     M|\n",
            "|  2| 167.2|   5.4| 45|     M|\n",
            "|  4| 144.5|   5.9| 33|     M|\n",
            "|  5| 133.2|   5.7| 54|     F|\n",
            "|  6| 124.1|   5.2| 40|     F|\n",
            "|  7| 129.2|   5.3| 42|     M|\n",
            "+---+------+------+---+------+\n",
            "\n"
          ]
        }
      ]
    },
    {
      "cell_type": "code",
      "source": [
        "#Define schema for boston csv\n",
        "import pyspark.sql.types as typ\n",
        "labels=[\n",
        "        ('crim',typ.DoubleType()),\n",
        "        ('zn',typ.DoubleType()),\n",
        "        ('indus',typ.DoubleType()),\n",
        "        ('chas',typ.DoubleType()),\n",
        "        ('nox',typ.DoubleType()),\n",
        "        ('rm',typ.DoubleType()),\n",
        "        ('age',typ.DoubleType()),\n",
        "        ('dis',typ.DoubleType()),\n",
        "        ('rad',typ.DoubleType()),\n",
        "        ('tax',typ.DoubleType()),\n",
        "        ('ptratio',typ.DoubleType()),\n",
        "        ('black',typ.DoubleType()),\n",
        "        ('lstat',typ.DoubleType()),\n",
        "        ('medv',typ.DoubleType())\n",
        "\n",
        "        ]\n",
        "schema = typ.StructType([\n",
        "typ.StructField(e[0], e[1], False) for e in labels\n",
        "])"
      ],
      "metadata": {
        "id": "XDs5joI7bgUP"
      },
      "execution_count": 24,
      "outputs": []
    },
    {
      "cell_type": "code",
      "source": [
        "#reading boston csv\n",
        "\n",
        "from pyspark.sql.session import SparkSession\n",
        "sess=SparkSession.builder.getOrCreate()\n",
        "boston=sess.read.csv(\"/content/sample_data/Boston - Boston.csv\",header=True,schema=schema)\n",
        "\n",
        "boston.count()\n",
        "boston.printSchema()\n",
        "len(boston.columns)"
      ],
      "metadata": {
        "colab": {
          "base_uri": "https://localhost:8080/"
        },
        "id": "N9mfkB7Eb0Pq",
        "outputId": "ca3f5595-15ef-479c-f8f4-8b3f1fb67e36"
      },
      "execution_count": 28,
      "outputs": [
        {
          "output_type": "stream",
          "name": "stdout",
          "text": [
            "root\n",
            " |-- crim: double (nullable = true)\n",
            " |-- zn: double (nullable = true)\n",
            " |-- indus: double (nullable = true)\n",
            " |-- chas: double (nullable = true)\n",
            " |-- nox: double (nullable = true)\n",
            " |-- rm: double (nullable = true)\n",
            " |-- age: double (nullable = true)\n",
            " |-- dis: double (nullable = true)\n",
            " |-- rad: double (nullable = true)\n",
            " |-- tax: double (nullable = true)\n",
            " |-- ptratio: double (nullable = true)\n",
            " |-- black: double (nullable = true)\n",
            " |-- lstat: double (nullable = true)\n",
            " |-- medv: double (nullable = true)\n",
            "\n"
          ]
        },
        {
          "output_type": "execute_result",
          "data": {
            "text/plain": [
              "14"
            ]
          },
          "metadata": {},
          "execution_count": 28
        }
      ]
    },
    {
      "cell_type": "code",
      "source": [
        "#Drop duplicates and null values\n",
        "\n",
        "boston.count(),boston.dropDuplicates().count(),boston.dropna().count()"
      ],
      "metadata": {
        "colab": {
          "base_uri": "https://localhost:8080/"
        },
        "id": "kdKcY98wcc9D",
        "outputId": "34650219-fce8-4aac-aee1-4f65510f8c8b"
      },
      "execution_count": 29,
      "outputs": [
        {
          "output_type": "execute_result",
          "data": {
            "text/plain": [
              "(506, 506, 506)"
            ]
          },
          "metadata": {},
          "execution_count": 29
        }
      ]
    },
    {
      "cell_type": "code",
      "source": [
        "boston.show(3)"
      ],
      "metadata": {
        "colab": {
          "base_uri": "https://localhost:8080/"
        },
        "id": "6DSMpdPtdIUe",
        "outputId": "d2171922-6201-4324-f532-57700d45db4f"
      },
      "execution_count": 31,
      "outputs": [
        {
          "output_type": "stream",
          "name": "stdout",
          "text": [
            "+-------+----+-----+----+-----+-----+----+------+---+-----+-------+------+-----+----+\n",
            "|   crim|  zn|indus|chas|  nox|   rm| age|   dis|rad|  tax|ptratio| black|lstat|medv|\n",
            "+-------+----+-----+----+-----+-----+----+------+---+-----+-------+------+-----+----+\n",
            "|0.00632|18.0| 2.31| 0.0|0.538|6.575|65.2|  4.09|1.0|296.0|   15.3| 396.9| 4.98|24.0|\n",
            "|0.02731| 0.0| 7.07| 0.0|0.469|6.421|78.9|4.9671|2.0|242.0|   17.8| 396.9| 9.14|21.6|\n",
            "|0.02729| 0.0| 7.07| 0.0|0.469|7.185|61.1|4.9671|2.0|242.0|   17.8|392.83| 4.03|34.7|\n",
            "+-------+----+-----+----+-----+-----+----+------+---+-----+-------+------+-----+----+\n",
            "only showing top 3 rows\n",
            "\n"
          ]
        }
      ]
    },
    {
      "cell_type": "code",
      "source": [
        "#Compute mean and variance stastics\n",
        "\n",
        "import pyspark.mllib.stat as st\n",
        "numeric_rdd=boston.rdd\n",
        "numeric_rdd=numeric_rdd.map(lambda row:[e for e in row])\n",
        "numeric_rdd.take(3)\n"
      ],
      "metadata": {
        "colab": {
          "base_uri": "https://localhost:8080/"
        },
        "id": "1Zx0ABA1csR8",
        "outputId": "37805053-0bb4-4c5b-e493-66db85cf85f9"
      },
      "execution_count": 30,
      "outputs": [
        {
          "output_type": "execute_result",
          "data": {
            "text/plain": [
              "[[0.00632,\n",
              "  18.0,\n",
              "  2.31,\n",
              "  0.0,\n",
              "  0.538,\n",
              "  6.575,\n",
              "  65.2,\n",
              "  4.09,\n",
              "  1.0,\n",
              "  296.0,\n",
              "  15.3,\n",
              "  396.9,\n",
              "  4.98,\n",
              "  24.0],\n",
              " [0.02731,\n",
              "  0.0,\n",
              "  7.07,\n",
              "  0.0,\n",
              "  0.469,\n",
              "  6.421,\n",
              "  78.9,\n",
              "  4.9671,\n",
              "  2.0,\n",
              "  242.0,\n",
              "  17.8,\n",
              "  396.9,\n",
              "  9.14,\n",
              "  21.6],\n",
              " [0.02729,\n",
              "  0.0,\n",
              "  7.07,\n",
              "  0.0,\n",
              "  0.469,\n",
              "  7.185,\n",
              "  61.1,\n",
              "  4.9671,\n",
              "  2.0,\n",
              "  242.0,\n",
              "  17.8,\n",
              "  392.83,\n",
              "  4.03,\n",
              "  34.7]]"
            ]
          },
          "metadata": {},
          "execution_count": 30
        }
      ]
    },
    {
      "cell_type": "code",
      "source": [
        "mllib_stats = st.Statistics.colStats(numeric_rdd)\n",
        "mllib_stats.mean(), mllib_stats.variance()"
      ],
      "metadata": {
        "colab": {
          "base_uri": "https://localhost:8080/"
        },
        "id": "PfZ9CBUNdTi5",
        "outputId": "9a8bb904-ad25-43a9-875f-bb4ffe1d8deb"
      },
      "execution_count": 32,
      "outputs": [
        {
          "output_type": "execute_result",
          "data": {
            "text/plain": [
              "(array([3.61352356e+00, 1.13636364e+01, 1.11367787e+01, 6.91699605e-02,\n",
              "        5.54695059e-01, 6.28463439e+00, 6.85749012e+01, 3.79504269e+00,\n",
              "        9.54940711e+00, 4.08237154e+02, 1.84555336e+01, 3.56674032e+02,\n",
              "        1.26530632e+01, 2.25328063e+01]),\n",
              " array([7.39865782e+01, 5.43936814e+02, 4.70644425e+01, 6.45129730e-02,\n",
              "        1.34276357e-02, 4.93670850e-01, 7.92358399e+02, 4.43401514e+00,\n",
              "        7.58163660e+01, 2.84047595e+04, 4.68698912e+00, 8.33475226e+03,\n",
              "        5.09947595e+01, 8.45867236e+01]))"
            ]
          },
          "metadata": {},
          "execution_count": 32
        }
      ]
    },
    {
      "cell_type": "code",
      "source": [
        "# computing correlation matrix\n",
        "\n",
        "corrs=st.Statistics.corr(numeric_rdd)"
      ],
      "metadata": {
        "id": "J9T2w0_4dq7J"
      },
      "execution_count": 33,
      "outputs": []
    },
    {
      "cell_type": "code",
      "source": [
        "len(corrs)\n",
        "corrs\n",
        "corrs[-1]"
      ],
      "metadata": {
        "colab": {
          "base_uri": "https://localhost:8080/"
        },
        "id": "p4ezDrHgd35k",
        "outputId": "5a21ee39-3350-4253-8bd7-87c71d312f69"
      },
      "execution_count": 37,
      "outputs": [
        {
          "output_type": "execute_result",
          "data": {
            "text/plain": [
              "array([-0.38830461,  0.36044534, -0.48372516,  0.17526018, -0.42732077,\n",
              "        0.69535995, -0.37695457,  0.24992873, -0.38162623, -0.46853593,\n",
              "       -0.50778669,  0.33346082, -0.73766273,  1.        ])"
            ]
          },
          "metadata": {},
          "execution_count": 37
        }
      ]
    },
    {
      "cell_type": "code",
      "source": [
        "#Filter columns based on threshold value of correlation\n",
        "#for example cut off as >=0.4\n",
        "# consider:indus,nox,rm,tax,ptratio,lstat\n",
        "#Form input feature vectors and output variable (target variable)\n",
        "from pyspark.ml.feature import VectorAssembler\n",
        "vectorAssembler = VectorAssembler(inputCols = ['crim','zn','indus','nox','rm',\n",
        "'rad',\n",
        "'tax',\n",
        "'ptratio',\n",
        "'lstat'], outputCol = 'features')\n",
        "boston_vector = vectorAssembler.transform(boston)\n",
        "boston_vector.show(3,truncate=False)"
      ],
      "metadata": {
        "colab": {
          "base_uri": "https://localhost:8080/"
        },
        "id": "3uP0034TeaGR",
        "outputId": "debdae30-5b5c-4edb-d7fa-7719df04c5cb"
      },
      "execution_count": 41,
      "outputs": [
        {
          "output_type": "stream",
          "name": "stdout",
          "text": [
            "+-------+----+-----+----+-----+-----+----+------+---+-----+-------+------+-----+----+---------------------------------------------------+\n",
            "|crim   |zn  |indus|chas|nox  |rm   |age |dis   |rad|tax  |ptratio|black |lstat|medv|features                                           |\n",
            "+-------+----+-----+----+-----+-----+----+------+---+-----+-------+------+-----+----+---------------------------------------------------+\n",
            "|0.00632|18.0|2.31 |0.0 |0.538|6.575|65.2|4.09  |1.0|296.0|15.3   |396.9 |4.98 |24.0|[0.00632,18.0,2.31,0.538,6.575,1.0,296.0,15.3,4.98]|\n",
            "|0.02731|0.0 |7.07 |0.0 |0.469|6.421|78.9|4.9671|2.0|242.0|17.8   |396.9 |9.14 |21.6|[0.02731,0.0,7.07,0.469,6.421,2.0,242.0,17.8,9.14] |\n",
            "|0.02729|0.0 |7.07 |0.0 |0.469|7.185|61.1|4.9671|2.0|242.0|17.8   |392.83|4.03 |34.7|[0.02729,0.0,7.07,0.469,7.185,2.0,242.0,17.8,4.03] |\n",
            "+-------+----+-----+----+-----+-----+----+------+---+-----+-------+------+-----+----+---------------------------------------------------+\n",
            "only showing top 3 rows\n",
            "\n"
          ]
        }
      ]
    },
    {
      "cell_type": "code",
      "source": [
        "boston_vector.select(['features','medv']).show(3,truncate=False)"
      ],
      "metadata": {
        "colab": {
          "base_uri": "https://localhost:8080/"
        },
        "id": "G7x26k-Ghe4i",
        "outputId": "6ba49a58-c41c-4916-df6e-391ca9f49b3c"
      },
      "execution_count": 42,
      "outputs": [
        {
          "output_type": "stream",
          "name": "stdout",
          "text": [
            "+---------------------------------------------------+----+\n",
            "|features                                           |medv|\n",
            "+---------------------------------------------------+----+\n",
            "|[0.00632,18.0,2.31,0.538,6.575,1.0,296.0,15.3,4.98]|24.0|\n",
            "|[0.02731,0.0,7.07,0.469,6.421,2.0,242.0,17.8,9.14] |21.6|\n",
            "|[0.02729,0.0,7.07,0.469,7.185,2.0,242.0,17.8,4.03] |34.7|\n",
            "+---------------------------------------------------+----+\n",
            "only showing top 3 rows\n",
            "\n"
          ]
        }
      ]
    },
    {
      "cell_type": "code",
      "source": [
        "#Split into training and test data frames\n",
        "splits=boston_vector.randomSplit([0.7, 0.3])\n",
        "boston_train=splits[0]\n",
        "boston_test=splits[1]\n",
        "boston_train.count(), boston_test.count()"
      ],
      "metadata": {
        "colab": {
          "base_uri": "https://localhost:8080/"
        },
        "id": "ZZdTJAqEiLJ1",
        "outputId": "b5f7b84e-9925-49fb-bd97-9254d70bafe1"
      },
      "execution_count": 44,
      "outputs": [
        {
          "output_type": "execute_result",
          "data": {
            "text/plain": [
              "(342, 164)"
            ]
          },
          "metadata": {},
          "execution_count": 44
        }
      ]
    },
    {
      "cell_type": "code",
      "source": [
        "#Apply Linear Regression model\n",
        "from pyspark.ml.regression import LinearRegression\n",
        "lr = LinearRegression(featuresCol = 'features', labelCol='medv', maxIter=10, regParam=0.3, elasticNetParam=0.8)\n",
        "lr_model = lr.fit(boston_train)\n",
        "print(\"Weights: \" + str(lr_model.coefficients))\n",
        "print(\"Bias: \" + str(lr_model.intercept))"
      ],
      "metadata": {
        "colab": {
          "base_uri": "https://localhost:8080/"
        },
        "id": "IJKxVRBeizYp",
        "outputId": "811b9501-c221-4188-aa84-e664a6f3bb25"
      },
      "execution_count": 45,
      "outputs": [
        {
          "output_type": "stream",
          "name": "stdout",
          "text": [
            "Weights: [-0.035062599919979696,0.0,0.0,0.0,4.730092879441258,0.0,0.0,-0.8351409819210796,-0.5148362343080108]\n",
            "Bias: 14.831869874350472\n"
          ]
        }
      ]
    },
    {
      "cell_type": "code",
      "source": [
        "# Perform predictions\n",
        "lr_predictions = lr_model.transform(boston_test)\n",
        "lr_predictions.select(\"prediction\",\"medv\",\"features\").show(5)"
      ],
      "metadata": {
        "colab": {
          "base_uri": "https://localhost:8080/"
        },
        "id": "Hc2s5fk5jIAJ",
        "outputId": "eaf7eb08-2308-4058-e07e-dab1649ba1bf"
      },
      "execution_count": 46,
      "outputs": [
        {
          "output_type": "stream",
          "name": "stdout",
          "text": [
            "+------------------+----+--------------------+\n",
            "|        prediction|medv|            features|\n",
            "+------------------+----+--------------------+\n",
            "|30.590467490798837|24.0|[0.00632,18.0,2.3...|\n",
            "|31.539329073964424|32.2|[0.00906,90.0,2.9...|\n",
            "| 33.31088010383194|32.7|[0.01301,35.0,1.5...|\n",
            "| 31.69446762332634|35.4|[0.01311,90.0,1.2...|\n",
            "| 17.44112891084834|18.9|[0.0136,75.0,4.0,...|\n",
            "+------------------+----+--------------------+\n",
            "only showing top 5 rows\n",
            "\n"
          ]
        }
      ]
    },
    {
      "cell_type": "code",
      "source": [
        "# Evaluate prediction accuracy (R2)\n",
        "from pyspark.ml.evaluation import RegressionEvaluator\n",
        "lr_evaluator = RegressionEvaluator(predictionCol=\"prediction\", \\\n",
        "                 labelCol=\"medv\",metricName=\"r2\")\n",
        "print(lr_evaluator.evaluate(lr_predictions))"
      ],
      "metadata": {
        "colab": {
          "base_uri": "https://localhost:8080/"
        },
        "id": "7lGkDz4UjZpV",
        "outputId": "c1b418c2-3d0f-47f9-d646-5aecb5bace53"
      },
      "execution_count": 47,
      "outputs": [
        {
          "output_type": "stream",
          "name": "stdout",
          "text": [
            "0.6330504133035548\n"
          ]
        }
      ]
    }
  ],
  "metadata": {
    "colab": {
      "provenance": [],
      "authorship_tag": "ABX9TyPjMLJpiY7j62UKqhU8Bfej",
      "include_colab_link": true
    },
    "kernelspec": {
      "display_name": "Python 3",
      "name": "python3"
    },
    "language_info": {
      "name": "python"
    }
  },
  "nbformat": 4,
  "nbformat_minor": 0
}