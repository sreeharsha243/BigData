{
  "nbformat": 4,
  "nbformat_minor": 0,
  "metadata": {
    "colab": {
      "provenance": [],
      "authorship_tag": "ABX9TyNJrtGt3ltgi8kEw4aSORQR",
      "include_colab_link": true
    },
    "kernelspec": {
      "name": "python3",
      "display_name": "Python 3"
    },
    "language_info": {
      "name": "python"
    }
  },
  "cells": [
    {
      "cell_type": "markdown",
      "metadata": {
        "id": "view-in-github",
        "colab_type": "text"
      },
      "source": [
        "<a href=\"https://colab.research.google.com/github/sreeharsha243/BigData/blob/main/Bigdata.ipynb\" target=\"_parent\"><img src=\"https://colab.research.google.com/assets/colab-badge.svg\" alt=\"Open In Colab\"/></a>"
      ]
    },
    {
      "cell_type": "code",
      "source": [
        "#create a list of cricket player names and sort them\n",
        "\n",
        "cplayers=[\"virat\",\"rahul\",\"ashwin\",\"rohit\",\"Jadeja\"]\n",
        "splayers=sorted(cplayers,key=lambda arg:arg.lower())\n",
        "splayers\n"
      ],
      "metadata": {
        "colab": {
          "base_uri": "https://localhost:8080/"
        },
        "id": "7W6NDY47EfzU",
        "outputId": "f39d681c-7f95-40bf-ffc6-24742ba94653"
      },
      "execution_count": 7,
      "outputs": [
        {
          "output_type": "execute_result",
          "data": {
            "text/plain": [
              "['ashwin', 'Jadeja', 'rahul', 'rohit', 'virat']"
            ]
          },
          "metadata": {},
          "execution_count": 7
        }
      ]
    },
    {
      "cell_type": "code",
      "source": [
        "#list the players whose name contain 'h'\n",
        "\n",
        "list(filter(lambda arg:'h' in arg,cplayers))"
      ],
      "metadata": {
        "colab": {
          "base_uri": "https://localhost:8080/"
        },
        "id": "TzzeICNMIHLX",
        "outputId": "9a770414-bf65-46e7-a187-8f90fc6cb0fa"
      },
      "execution_count": 9,
      "outputs": [
        {
          "output_type": "execute_result",
          "data": {
            "text/plain": [
              "['rahul', 'ashwin', 'rohit']"
            ]
          },
          "metadata": {},
          "execution_count": 9
        }
      ]
    },
    {
      "cell_type": "code",
      "source": [
        "#list the players whose name length is >5\n",
        "\n",
        "list(filter(lambda arg:len(arg)>5,cplayers))"
      ],
      "metadata": {
        "colab": {
          "base_uri": "https://localhost:8080/"
        },
        "id": "rPsNNE0II-x_",
        "outputId": "4ba57a1b-cc27-4db7-cd57-f78bc9425df3"
      },
      "execution_count": 12,
      "outputs": [
        {
          "output_type": "execute_result",
          "data": {
            "text/plain": [
              "['ashwin', 'Jadeja']"
            ]
          },
          "metadata": {},
          "execution_count": 12
        }
      ]
    },
    {
      "cell_type": "code",
      "source": [
        "#map each case to upper case\n",
        "\n",
        "list(map(lambda item:item.upper(),cplayers))"
      ],
      "metadata": {
        "colab": {
          "base_uri": "https://localhost:8080/"
        },
        "id": "iMhpbtpJJpu3",
        "outputId": "e2cbc486-485a-498b-8ab0-79746c31733b"
      },
      "execution_count": 14,
      "outputs": [
        {
          "output_type": "execute_result",
          "data": {
            "text/plain": [
              "['VIRAT', 'RAHUL', 'ASHWIN', 'ROHIT', 'JADEJA']"
            ]
          },
          "metadata": {},
          "execution_count": 14
        }
      ]
    },
    {
      "cell_type": "code",
      "source": [
        "#map each name to (name,length)\n",
        "#virat ->(virat,5)\n",
        "\n",
        "list(map(lambda name:(name,len(name)),cplayers))"
      ],
      "metadata": {
        "colab": {
          "base_uri": "https://localhost:8080/"
        },
        "id": "X5PWU6OuKJIo",
        "outputId": "2049065b-8588-4a2d-c37f-4b3cdc7dca51"
      },
      "execution_count": 15,
      "outputs": [
        {
          "output_type": "execute_result",
          "data": {
            "text/plain": [
              "[('virat', 5), ('rahul', 5), ('ashwin', 6), ('rohit', 5), ('Jadeja', 6)]"
            ]
          },
          "metadata": {},
          "execution_count": 15
        }
      ]
    },
    {
      "cell_type": "code",
      "source": [
        "#Reduce all cricket players names to a single string\n",
        "\n",
        "from functools import reduce\n",
        "reduce(lambda a,b:a+b,cplayers)"
      ],
      "metadata": {
        "colab": {
          "base_uri": "https://localhost:8080/",
          "height": 36
        },
        "id": "mEM4wGhJKkuf",
        "outputId": "7070b676-5da9-42e6-d03a-9b66a92fba97"
      },
      "execution_count": 16,
      "outputs": [
        {
          "output_type": "execute_result",
          "data": {
            "text/plain": [
              "'viratrahulashwinrohitJadeja'"
            ],
            "application/vnd.google.colaboratory.intrinsic+json": {
              "type": "string"
            }
          },
          "metadata": {},
          "execution_count": 16
        }
      ]
    },
    {
      "cell_type": "code",
      "source": [
        "l1=[1,3,5,2,6]\n",
        "reduce(max,l1)"
      ],
      "metadata": {
        "colab": {
          "base_uri": "https://localhost:8080/"
        },
        "id": "q5MXUUqTLNXh",
        "outputId": "185beca6-3924-4949-f951-c10e1c8e57f5"
      },
      "execution_count": 17,
      "outputs": [
        {
          "output_type": "execute_result",
          "data": {
            "text/plain": [
              "6"
            ]
          },
          "metadata": {},
          "execution_count": 17
        }
      ]
    },
    {
      "cell_type": "code",
      "source": [
        "#Find the cricket player with maximum length\n",
        "\n",
        "list(filter(lambda arg:len(arg)>5,cplayers))"
      ],
      "metadata": {
        "colab": {
          "base_uri": "https://localhost:8080/"
        },
        "id": "NO8MTqTcLWgh",
        "outputId": "1d8bffcc-660b-4d8d-ef19-6da77d395e1c"
      },
      "execution_count": 30,
      "outputs": [
        {
          "output_type": "execute_result",
          "data": {
            "text/plain": [
              "['ashwin', 'Jadeja']"
            ]
          },
          "metadata": {},
          "execution_count": 30
        }
      ]
    }
  ]
}