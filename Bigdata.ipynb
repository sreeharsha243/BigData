{
  "nbformat": 4,
  "nbformat_minor": 0,
  "metadata": {
    "colab": {
      "provenance": [],
      "authorship_tag": "ABX9TyPzrR73fYx/wd68tSIX1XIy",
      "include_colab_link": true
    },
    "kernelspec": {
      "name": "python3",
      "display_name": "Python 3"
    },
    "language_info": {
      "name": "python"
    }
  },
  "cells": [
    {
      "cell_type": "markdown",
      "metadata": {
        "id": "view-in-github",
        "colab_type": "text"
      },
      "source": [
        "<a href=\"https://colab.research.google.com/github/sreeharsha243/BigData/blob/main/Bigdata.ipynb\" target=\"_parent\"><img src=\"https://colab.research.google.com/assets/colab-badge.svg\" alt=\"Open In Colab\"/></a>"
      ]
    },
    {
      "cell_type": "code",
      "source": [
        "# DAY-01\n",
        "\n",
        "#create a list of cricket player names and sort them\n",
        "\n",
        "cplayers=[\"virat\",\"rahul\",\"ashwin\",\"rohit\",\"Jadeja\"]\n",
        "splayers=sorted(cplayers,key=lambda arg:arg.lower())\n",
        "splayers\n"
      ],
      "metadata": {
        "colab": {
          "base_uri": "https://localhost:8080/"
        },
        "id": "7W6NDY47EfzU",
        "outputId": "f39d681c-7f95-40bf-ffc6-24742ba94653"
      },
      "execution_count": null,
      "outputs": [
        {
          "output_type": "execute_result",
          "data": {
            "text/plain": [
              "['ashwin', 'Jadeja', 'rahul', 'rohit', 'virat']"
            ]
          },
          "metadata": {},
          "execution_count": 7
        }
      ]
    },
    {
      "cell_type": "code",
      "source": [
        "#list the players whose name contain 'h'\n",
        "\n",
        "list(filter(lambda arg:'h' in arg,cplayers))"
      ],
      "metadata": {
        "colab": {
          "base_uri": "https://localhost:8080/"
        },
        "id": "TzzeICNMIHLX",
        "outputId": "9a770414-bf65-46e7-a187-8f90fc6cb0fa"
      },
      "execution_count": null,
      "outputs": [
        {
          "output_type": "execute_result",
          "data": {
            "text/plain": [
              "['rahul', 'ashwin', 'rohit']"
            ]
          },
          "metadata": {},
          "execution_count": 9
        }
      ]
    },
    {
      "cell_type": "code",
      "source": [
        "#list the players whose name length is >5\n",
        "\n",
        "list(filter(lambda arg:len(arg)>5,cplayers))"
      ],
      "metadata": {
        "colab": {
          "base_uri": "https://localhost:8080/"
        },
        "id": "rPsNNE0II-x_",
        "outputId": "4ba57a1b-cc27-4db7-cd57-f78bc9425df3"
      },
      "execution_count": null,
      "outputs": [
        {
          "output_type": "execute_result",
          "data": {
            "text/plain": [
              "['ashwin', 'Jadeja']"
            ]
          },
          "metadata": {},
          "execution_count": 12
        }
      ]
    },
    {
      "cell_type": "code",
      "source": [
        "#map each case to upper case\n",
        "\n",
        "list(map(lambda item:item.upper(),cplayers))"
      ],
      "metadata": {
        "colab": {
          "base_uri": "https://localhost:8080/"
        },
        "id": "iMhpbtpJJpu3",
        "outputId": "e2cbc486-485a-498b-8ab0-79746c31733b"
      },
      "execution_count": null,
      "outputs": [
        {
          "output_type": "execute_result",
          "data": {
            "text/plain": [
              "['VIRAT', 'RAHUL', 'ASHWIN', 'ROHIT', 'JADEJA']"
            ]
          },
          "metadata": {},
          "execution_count": 14
        }
      ]
    },
    {
      "cell_type": "code",
      "source": [
        "#map each name to (name,length)\n",
        "#virat ->(virat,5)\n",
        "\n",
        "list(map(lambda name:(name,len(name)),cplayers))"
      ],
      "metadata": {
        "colab": {
          "base_uri": "https://localhost:8080/"
        },
        "id": "X5PWU6OuKJIo",
        "outputId": "2049065b-8588-4a2d-c37f-4b3cdc7dca51"
      },
      "execution_count": null,
      "outputs": [
        {
          "output_type": "execute_result",
          "data": {
            "text/plain": [
              "[('virat', 5), ('rahul', 5), ('ashwin', 6), ('rohit', 5), ('Jadeja', 6)]"
            ]
          },
          "metadata": {},
          "execution_count": 15
        }
      ]
    },
    {
      "cell_type": "code",
      "source": [
        "#Reduce all cricket players names to a single string\n",
        "\n",
        "from functools import reduce\n",
        "reduce(lambda a,b:a+b,cplayers)"
      ],
      "metadata": {
        "colab": {
          "base_uri": "https://localhost:8080/",
          "height": 36
        },
        "id": "mEM4wGhJKkuf",
        "outputId": "7070b676-5da9-42e6-d03a-9b66a92fba97"
      },
      "execution_count": null,
      "outputs": [
        {
          "output_type": "execute_result",
          "data": {
            "text/plain": [
              "'viratrahulashwinrohitJadeja'"
            ],
            "application/vnd.google.colaboratory.intrinsic+json": {
              "type": "string"
            }
          },
          "metadata": {},
          "execution_count": 16
        }
      ]
    },
    {
      "cell_type": "code",
      "source": [
        "l1=[1,3,5,2,6]\n",
        "reduce(max,l1)"
      ],
      "metadata": {
        "colab": {
          "base_uri": "https://localhost:8080/"
        },
        "id": "q5MXUUqTLNXh",
        "outputId": "185beca6-3924-4949-f951-c10e1c8e57f5"
      },
      "execution_count": null,
      "outputs": [
        {
          "output_type": "execute_result",
          "data": {
            "text/plain": [
              "6"
            ]
          },
          "metadata": {},
          "execution_count": 17
        }
      ]
    },
    {
      "cell_type": "code",
      "source": [
        "#Find the cricket player with maximum length\n",
        "\n",
        "l1=list(map(lambda name:(len(name),name),cplayers))\n",
        "l1.sort(reverse=True)\n",
        "print(l1)\n",
        "l2=list(filter(lambda x:(x[0]==l1[0][0]),l1))\n",
        "print(l2)\n",
        "l3=list(map(lambda w:(w[1],w[0]),l2))\n",
        "print(l3)\n",
        "l3.sort()\n",
        "print(l3)\n",
        "print(l3[0][0])\n",
        "\n"
      ],
      "metadata": {
        "colab": {
          "base_uri": "https://localhost:8080/"
        },
        "id": "NO8MTqTcLWgh",
        "outputId": "48355b11-c314-470c-d71c-e17d006bd0c8"
      },
      "execution_count": 43,
      "outputs": [
        {
          "output_type": "stream",
          "name": "stdout",
          "text": [
            "[(6, 'ashwin'), (6, 'Jadeja'), (5, 'virat'), (5, 'rohit'), (5, 'rahul')]\n",
            "[(6, 'ashwin'), (6, 'Jadeja')]\n",
            "[('ashwin', 6), ('Jadeja', 6)]\n",
            "[('Jadeja', 6), ('ashwin', 6)]\n",
            "Jadeja\n"
          ]
        }
      ]
    },
    {
      "cell_type": "code",
      "source": [
        "# INTERACTIVE PTYHON NOTEBOOK\n",
        "# DAY-02\n",
        "#python install packager\n",
        "# ! define as python as commands\n",
        "\n",
        "!pip install pyspark\n",
        "\n"
      ],
      "metadata": {
        "colab": {
          "base_uri": "https://localhost:8080/"
        },
        "id": "8aiYBgOWWhrM",
        "outputId": "49908dfc-f276-476c-8773-cdc0012ae41d"
      },
      "execution_count": 45,
      "outputs": [
        {
          "output_type": "stream",
          "name": "stdout",
          "text": [
            "Collecting pyspark\n",
            "  Downloading pyspark-3.4.1.tar.gz (310.8 MB)\n",
            "\u001b[2K     \u001b[90m━━━━━━━━━━━━━━━━━━━━━━━━━━━━━━━━━━━━━━━\u001b[0m \u001b[32m310.8/310.8 MB\u001b[0m \u001b[31m4.8 MB/s\u001b[0m eta \u001b[36m0:00:00\u001b[0m\n",
            "\u001b[?25h  Preparing metadata (setup.py) ... \u001b[?25l\u001b[?25hdone\n",
            "Requirement already satisfied: py4j==0.10.9.7 in /usr/local/lib/python3.10/dist-packages (from pyspark) (0.10.9.7)\n",
            "Building wheels for collected packages: pyspark\n",
            "  Building wheel for pyspark (setup.py) ... \u001b[?25l\u001b[?25hdone\n",
            "  Created wheel for pyspark: filename=pyspark-3.4.1-py2.py3-none-any.whl size=311285388 sha256=5ce7893ff656a851757320759f5d133fd7c16a27097a3d94d9165e391ab18efa\n",
            "  Stored in directory: /root/.cache/pip/wheels/0d/77/a3/ff2f74cc9ab41f8f594dabf0579c2a7c6de920d584206e0834\n",
            "Successfully built pyspark\n",
            "Installing collected packages: pyspark\n",
            "Successfully installed pyspark-3.4.1\n"
          ]
        }
      ]
    },
    {
      "cell_type": "code",
      "source": [
        "from pyspark import SparkContext\n",
        "sc=SparkContext.getOrCreate()\n"
      ],
      "metadata": {
        "id": "TOMEmt72aDdf"
      },
      "execution_count": 46,
      "outputs": []
    },
    {
      "cell_type": "code",
      "source": [
        "# range(1000) means 0,1,2,3,.....,999\n",
        "\n",
        "rdd=sc.parallelize(range(1000))\n",
        "print(rdd.take(15))"
      ],
      "metadata": {
        "colab": {
          "base_uri": "https://localhost:8080/"
        },
        "id": "0_oEokRfdYWv",
        "outputId": "025d0f98-2984-4911-9e1e-9dfd8bfe1ac2"
      },
      "execution_count": 47,
      "outputs": [
        {
          "output_type": "stream",
          "name": "stdout",
          "text": [
            "[0, 1, 2, 3, 4, 5, 6, 7, 8, 9, 10, 11, 12, 13, 14]\n"
          ]
        }
      ]
    },
    {
      "cell_type": "code",
      "source": [
        "odd=rdd.filter(lambda n:n%2!=0)\n",
        "print(odd.take(15))\n",
        "even=rdd.filter(lambda n:n%2==0)\n",
        "even.take(15)"
      ],
      "metadata": {
        "colab": {
          "base_uri": "https://localhost:8080/"
        },
        "id": "WXL6gZ-KeNm9",
        "outputId": "3c779586-41f7-482e-8a6b-85ba80d1cfb1"
      },
      "execution_count": 50,
      "outputs": [
        {
          "output_type": "stream",
          "name": "stdout",
          "text": [
            "[1, 3, 5, 7, 9, 11, 13, 15, 17, 19, 21, 23, 25, 27, 29]\n"
          ]
        },
        {
          "output_type": "execute_result",
          "data": {
            "text/plain": [
              "[0, 2, 4, 6, 8, 10, 12, 14, 16, 18, 20, 22, 24, 26, 28]"
            ]
          },
          "metadata": {},
          "execution_count": 50
        }
      ]
    },
    {
      "cell_type": "code",
      "source": [
        "blog=sc.textFile('/content/sample_data/blogtt.txt')\n",
        "blog.take(5)\n",
        "#or we can use blog.collect() for whole text file"
      ],
      "metadata": {
        "colab": {
          "base_uri": "https://localhost:8080/"
        },
        "id": "oGi5GnOYe0Mo",
        "outputId": "e06631e0-cb1a-4322-8cbf-95ca4e3b0130"
      },
      "execution_count": 52,
      "outputs": [
        {
          "output_type": "execute_result",
          "data": {
            "text/plain": [
              "['Think of it for a moment – 1 Qunitillion = 1 Million Billion! Can you imagine how many drives / CDs / Blue-ray DVDs would be required to store them? It is difficult to imagine this scale of data generation even as a data science professional. While this pace of data generation is very exciting,  it has created entirely new set of challenges and has forced us to find new ways to handle Big Huge data effectively.',\n",
              " '',\n",
              " '',\n",
              " 'Big Data is not a new phenomena. It has been around for a while now. However, it has become really important with this pace of data generation. In past, several systems were developed for processing big data. Most of them were based on MapReduce framework. These frameworks typically rely on use of hard disk for saving and retrieving the results. However, this turns out to be very costly in terms of time and speed.',\n",
              " '']"
            ]
          },
          "metadata": {},
          "execution_count": 52
        }
      ]
    },
    {
      "cell_type": "code",
      "source": [
        "#Filter blank lines from RDD and create another stripped RDD\n",
        "# it was used to remove blank lines from text file\n",
        "srdd=blog.filter(lambda l:l.strip())\n",
        "srdd.take(5)"
      ],
      "metadata": {
        "colab": {
          "base_uri": "https://localhost:8080/"
        },
        "id": "5O-82HJzf8Oc",
        "outputId": "d2d0fa8f-8256-45d7-ed5c-4d1d7b16fd14"
      },
      "execution_count": 54,
      "outputs": [
        {
          "output_type": "execute_result",
          "data": {
            "text/plain": [
              "['Think of it for a moment – 1 Qunitillion = 1 Million Billion! Can you imagine how many drives / CDs / Blue-ray DVDs would be required to store them? It is difficult to imagine this scale of data generation even as a data science professional. While this pace of data generation is very exciting,  it has created entirely new set of challenges and has forced us to find new ways to handle Big Huge data effectively.',\n",
              " 'Big Data is not a new phenomena. It has been around for a while now. However, it has become really important with this pace of data generation. In past, several systems were developed for processing big data. Most of them were based on MapReduce framework. These frameworks typically rely on use of hard disk for saving and retrieving the results. However, this turns out to be very costly in terms of time and speed.',\n",
              " 'On the other hand, Organizations have never been more hungrier to add a competitive differentiation through understanding this data and offering its customer a much better experience. Imagine how valuable would be Facebook, if it did not understand your interests well? The traditional hard disk based MapReduce kind of frameworks do not help much to address this challenge.',\n",
              " 'In this article, I will introduce you to one such framework, which has made querying and analysing data at a large scale much more efficient than previous systems / frameworks – Read on!',\n",
              " 'P.S. This article is meant for complete beginners on the topic and presumes minimal prior knowledge in Big Data']"
            ]
          },
          "metadata": {},
          "execution_count": 54
        }
      ]
    },
    {
      "cell_type": "code",
      "source": [
        "#to print the number of lines\n",
        "\n",
        "print(blog.count(),srdd.count())"
      ],
      "metadata": {
        "colab": {
          "base_uri": "https://localhost:8080/"
        },
        "id": "Dw7_IOtJgvZU",
        "outputId": "8975ebef-0bbf-4931-af26-3dca6b28427d"
      },
      "execution_count": 55,
      "outputs": [
        {
          "output_type": "stream",
          "name": "stdout",
          "text": [
            "648 259\n"
          ]
        }
      ]
    },
    {
      "cell_type": "code",
      "source": [
        "#Map each lines to list of words (use map and flatMap)\n",
        "\n",
        "wrdd=srdd.flatMap(lambda l:l.split(' '))\n",
        "wrdd.take(5)"
      ],
      "metadata": {
        "colab": {
          "base_uri": "https://localhost:8080/"
        },
        "id": "41hdTLG1hBNq",
        "outputId": "7703d1e9-0a57-4acc-cde6-906958c8a647"
      },
      "execution_count": 82,
      "outputs": [
        {
          "output_type": "execute_result",
          "data": {
            "text/plain": [
              "['Think', 'of', 'it', 'for', 'a']"
            ]
          },
          "metadata": {},
          "execution_count": 82
        }
      ]
    },
    {
      "cell_type": "code",
      "source": [
        "#group each word by first letter\n",
        "\n",
        "grdd=wrdd.groupBy(lambda w:w[0:1])\n",
        "grdd.take(5)"
      ],
      "metadata": {
        "colab": {
          "base_uri": "https://localhost:8080/"
        },
        "id": "t3SYswNDiQMi",
        "outputId": "93bade3e-5e86-4cdc-ac00-a72f4e9c8c90"
      },
      "execution_count": 83,
      "outputs": [
        {
          "output_type": "execute_result",
          "data": {
            "text/plain": [
              "[('i', <pyspark.resultiterable.ResultIterable at 0x7fb7dea46230>),\n",
              " ('1', <pyspark.resultiterable.ResultIterable at 0x7fb7dea47250>),\n",
              " ('=', <pyspark.resultiterable.ResultIterable at 0x7fb7dea462f0>),\n",
              " ('C', <pyspark.resultiterable.ResultIterable at 0x7fb7dea44e80>),\n",
              " ('y', <pyspark.resultiterable.ResultIterable at 0x7fb7dea45600>)]"
            ]
          },
          "metadata": {},
          "execution_count": 83
        }
      ]
    },
    {
      "cell_type": "code",
      "source": [
        "#Reverse count and letter\n",
        "rgrdd=grdd.map(lambda w:(len(w[1]),w[0]))\n",
        "rgrdd.take(5)"
      ],
      "metadata": {
        "colab": {
          "base_uri": "https://localhost:8080/"
        },
        "id": "scnfM5JujY6N",
        "outputId": "8a04fe16-fbf8-4ebc-b372-37988b530024"
      },
      "execution_count": 84,
      "outputs": [
        {
          "output_type": "execute_result",
          "data": {
            "text/plain": [
              "[(357, 'i'), (18, '1'), (41, '='), (25, 'C'), (35, 'y')]"
            ]
          },
          "metadata": {},
          "execution_count": 84
        }
      ]
    },
    {
      "cell_type": "code",
      "source": [
        "#Sort by count in reverse order\n",
        "\n",
        "srgdd=rgrdd.sortByKey(False)\n",
        "srgdd.take(5)"
      ],
      "metadata": {
        "colab": {
          "base_uri": "https://localhost:8080/"
        },
        "id": "MfksFrF-lkiR",
        "outputId": "663810e6-b992-4ff0-d444-7536710005d5"
      },
      "execution_count": 79,
      "outputs": [
        {
          "output_type": "execute_result",
          "data": {
            "text/plain": [
              "[(672, 't'), (507, 'a'), (357, 'i'), (303, 'c'), (277, 's')]"
            ]
          },
          "metadata": {},
          "execution_count": 79
        }
      ]
    },
    {
      "cell_type": "code",
      "source": [
        "stopwords=[\"in\",\"on\",\"for\",\"the\",\"a\",\"to\",\"of\",\"and\",\"is\"]\n",
        "stwrdd=wrdd.filter(lambda w:w not in stopwords)\n",
        "stwrdd.count(),wrdd.count()"
      ],
      "metadata": {
        "colab": {
          "base_uri": "https://localhost:8080/"
        },
        "id": "j69qlsFxmsGJ",
        "outputId": "ba3d8bc5-38e6-4918-8faf-2c58d8db8b9c"
      },
      "execution_count": 89,
      "outputs": [
        {
          "output_type": "execute_result",
          "data": {
            "text/plain": [
              "(4300, 5281)"
            ]
          },
          "metadata": {},
          "execution_count": 89
        }
      ]
    },
    {
      "cell_type": "code",
      "source": [
        "import string\n",
        "pstpwrdd=stwrdd.map(lambda w:w.translate(str.maketrans('','',string.punctuation)))\n",
        "stwrdd.count(),pstpwrd.count()"
      ],
      "metadata": {
        "colab": {
          "base_uri": "https://localhost:8080/"
        },
        "id": "7WWzOBKenzyD",
        "outputId": "d2fc1ce9-0a29-4e30-fc23-0c90d55edf10"
      },
      "execution_count": 93,
      "outputs": [
        {
          "output_type": "execute_result",
          "data": {
            "text/plain": [
              "(4300, 4300)"
            ]
          },
          "metadata": {},
          "execution_count": 93
        }
      ]
    },
    {
      "cell_type": "code",
      "source": [
        "#group and sort\n",
        "\n",
        "grdd=pstpwrdd.groupBy(lambda w:w)\n",
        "mrdd=grdd.map(lambda x:(len(x[1]),x[0]))\n",
        "srdd=mrdd.sortByKey(False)\n",
        "srdd.take(10)"
      ],
      "metadata": {
        "colab": {
          "base_uri": "https://localhost:8080/"
        },
        "id": "YFMlQq0eoVG9",
        "outputId": "4996b69f-abf7-46d5-a68a-86ebc93ce9a5"
      },
      "execution_count": 92,
      "outputs": [
        {
          "output_type": "execute_result",
          "data": {
            "text/plain": [
              "[(118, ''),\n",
              " (86, 'Spark'),\n",
              " (73, 'we'),\n",
              " (69, 'data'),\n",
              " (54, 'can'),\n",
              " (51, 'this'),\n",
              " (50, 'are'),\n",
              " (50, 'Apache'),\n",
              " (41, 'RDD'),\n",
              " (39, 'which')]"
            ]
          },
          "metadata": {},
          "execution_count": 92
        }
      ]
    },
    {
      "cell_type": "code",
      "source": [
        "#demostrate sampling of RDDs\n",
        "samplerdd=pstpwrdd.sample(False,0.5,42)\n",
        "pstpwrdd.count(),samplerdd.count()"
      ],
      "metadata": {
        "colab": {
          "base_uri": "https://localhost:8080/"
        },
        "id": "iXnRhd67p_Yr",
        "outputId": "e747d21a-a6ce-4ea2-e9dc-64f955c91935"
      },
      "execution_count": 95,
      "outputs": [
        {
          "output_type": "execute_result",
          "data": {
            "text/plain": [
              "(4300, 2127)"
            ]
          },
          "metadata": {},
          "execution_count": 95
        }
      ]
    },
    {
      "cell_type": "code",
      "source": [
        "samplerdd1=pstpwrdd.sample(True,0.3,42)#30% random samples\n",
        "samplerdd2=pstpwrdd.sample(True,0.3,43)#30%\n",
        "usample=samplerdd1.union(samplerdd2)\n",
        "isample=samplerdd1.intersection(samplerdd2)\n",
        "d1sample=samplerdd1.subtract(samplerdd2)\n",
        "d2sample=samplerdd2.subtract(samplerdd1)\n",
        "samplerdd1.count(),samplerdd2.count(),usample.count(),isample.count(),d1sample.count(),d2sample.count()"
      ],
      "metadata": {
        "colab": {
          "base_uri": "https://localhost:8080/"
        },
        "id": "06vuc7C1r1-o",
        "outputId": "46025409-bbb4-44f5-9955-2c051800f9fe"
      },
      "execution_count": 96,
      "outputs": [
        {
          "output_type": "execute_result",
          "data": {
            "text/plain": [
              "(1287, 1260, 2547, 316, 331, 317)"
            ]
          },
          "metadata": {},
          "execution_count": 96
        }
      ]
    },
    {
      "cell_type": "code",
      "source": [
        "rdd=sc.textFile('/content/sample_data/u.user.txt')\n",
        "\n",
        "rdd.take(5)"
      ],
      "metadata": {
        "colab": {
          "base_uri": "https://localhost:8080/"
        },
        "id": "WunkYefswpCE",
        "outputId": "0ae2e53d-20c0-4160-ff56-8d673aba21f4"
      },
      "execution_count": 99,
      "outputs": [
        {
          "output_type": "execute_result",
          "data": {
            "text/plain": [
              "['1|24|M|technician|85711',\n",
              " '2|53|F|other|94043',\n",
              " '3|23|M|writer|32067',\n",
              " '4|24|M|technician|43537',\n",
              " '5|33|F|other|15213']"
            ]
          },
          "metadata": {},
          "execution_count": 99
        }
      ]
    },
    {
      "cell_type": "code",
      "source": [
        "grdd=rdd.groupBy(lambda l:l.split('|')[2])\n",
        "grdd.take(5)\n",
        "rgrdd=grdd.map(lambda l:(len(l[1]),l[0]))\n",
        "rgrdd.take(5)\n"
      ],
      "metadata": {
        "colab": {
          "base_uri": "https://localhost:8080/"
        },
        "id": "j076BTsi00kL",
        "outputId": "f6f285b1-88a3-42a1-dbe6-4c9ef0b97853"
      },
      "execution_count": 105,
      "outputs": [
        {
          "output_type": "execute_result",
          "data": {
            "text/plain": [
              "[(670, 'M'), (273, 'F')]"
            ]
          },
          "metadata": {},
          "execution_count": 105
        }
      ]
    },
    {
      "cell_type": "code",
      "source": [
        "grdd=rdd.groupBy(lambda l:l.split('|')[3])\n",
        "grdd.take(5)\n",
        "rgrdd=grdd.map(lambda l:(len(l[1]),l[0]))\n",
        "rgrdd=rgrdd.sortByKey(False)\n",
        "rrgrdd=rgrdd.map(lambda l:(l[1],l[0]))\n",
        "rrgrdd.take(10)\n"
      ],
      "metadata": {
        "colab": {
          "base_uri": "https://localhost:8080/"
        },
        "id": "LdQOFQ3p02r9",
        "outputId": "6642579d-6be5-4580-b8ba-73be0a84e0a3"
      },
      "execution_count": 111,
      "outputs": [
        {
          "output_type": "execute_result",
          "data": {
            "text/plain": [
              "[('student', 196),\n",
              " ('other', 105),\n",
              " ('educator', 95),\n",
              " ('administrator', 79),\n",
              " ('engineer', 67),\n",
              " ('programmer', 66),\n",
              " ('librarian', 51),\n",
              " ('writer', 45),\n",
              " ('executive', 32),\n",
              " ('scientist', 31)]"
            ]
          },
          "metadata": {},
          "execution_count": 111
        }
      ]
    },
    {
      "cell_type": "code",
      "source": [
        "# find average age of users\n",
        "agerdd=rdd.map(lambda l:int(l.split('|')[1]))\n",
        "average=agerdd.mean()\n",
        "filterbyage=rdd.filter(lambda l:float(l.split('|')[1])>average)\n",
        "filterbyage.take(5)\n",
        "rdd.count(),filterbyage.count()"
      ],
      "metadata": {
        "colab": {
          "base_uri": "https://localhost:8080/"
        },
        "id": "4ggJLzdf19zK",
        "outputId": "8c9d51b6-1d68-4a1d-900a-74ab2cea3f04"
      },
      "execution_count": 117,
      "outputs": [
        {
          "output_type": "execute_result",
          "data": {
            "text/plain": [
              "(943, 399)"
            ]
          },
          "metadata": {},
          "execution_count": 117
        }
      ]
    }
  ]
}